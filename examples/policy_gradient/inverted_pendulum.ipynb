{
 "cells": [
  {
   "cell_type": "code",
   "execution_count": 1,
   "metadata": {},
   "outputs": [
    {
     "name": "stderr",
     "output_type": "stream",
     "text": [
      "/home/quazar/anaconda3/env/torchrl_up/lib/python3.6/site-packages/tqdm/autonotebook/__init__.py:14: TqdmExperimentalWarning: Using `tqdm.autonotebook.tqdm` in notebook mode. Use `tqdm.tqdm` instead to force console mode (e.g. in jupyter console)\n",
      "  \" (e.g. in jupyter console)\", TqdmExperimentalWarning)\n"
     ]
    }
   ],
   "source": [
    "import torch\n",
    "import numpy as np\n",
    "import torch.nn as nn\n",
    "import torch.nn.functional as F\n",
    "import reward as rw\n",
    "import reward.utils as U"
   ]
  },
  {
   "cell_type": "code",
   "execution_count": 2,
   "metadata": {},
   "outputs": [],
   "source": [
    "GAMMA = 0.99"
   ]
  },
  {
   "cell_type": "code",
   "execution_count": 3,
   "metadata": {},
   "outputs": [],
   "source": [
    "use_cuda = torch.cuda.is_available()\n",
    "device   = torch.device(\"cuda\" if use_cuda else \"cpu\")"
   ]
  },
  {
   "cell_type": "code",
   "execution_count": 4,
   "metadata": {},
   "outputs": [
    {
     "name": "stdout",
     "output_type": "stream",
     "text": [
      "Choosing the latest nvidia driver: /usr/lib/nvidia-390, among ['/usr/lib/nvidia-375', '/usr/lib/nvidia-390']\n",
      "Choosing the latest nvidia driver: /usr/lib/nvidia-390, among ['/usr/lib/nvidia-375', '/usr/lib/nvidia-390']\n",
      "\u001b[33mWARN: gym.spaces.Box autodetected dtype as <class 'numpy.float32'>. Please provide explicit dtype.\u001b[0m\n",
      "\u001b[33mWARN: gym.spaces.Box autodetected dtype as <class 'numpy.float32'>. Please provide explicit dtype.\u001b[0m\n"
     ]
    }
   ],
   "source": [
    "env = rw.env.GymEnv(\"InvertedPendulum-v2\")\n",
    "runner = rw.runner.SingleRunner(env)\n",
    "batcher = rw.batcher.RolloutBatcher(runner=runner, batch_size=512)"
   ]
  },
  {
   "cell_type": "code",
   "execution_count": 5,
   "metadata": {},
   "outputs": [],
   "source": [
    "class PolicyNN(nn.Module):\n",
    "    def __init__(self, num_inputs, num_outputs, activation=nn.Tanh):\n",
    "        super().__init__()\n",
    "        self.activation = activation()\n",
    "        \n",
    "        self.hidden = nn.Linear(num_inputs, 64)\n",
    "        self.mean = nn.Linear(64, num_outputs)\n",
    "        self.log_std = nn.Parameter(torch.zeros(1, num_outputs))\n",
    "        \n",
    "    def forward(self, x):\n",
    "        x = self.activation(self.hidden(x))\n",
    "        mean = self.mean(x)\n",
    "        log_std = self.log_std.expand_as(mean)\n",
    "        return mean, log_std        "
   ]
  },
  {
   "cell_type": "code",
   "execution_count": 6,
   "metadata": {},
   "outputs": [],
   "source": [
    "class GaussianPolicy(rw.policy.BasePolicy):\n",
    "    def create_dist(self, state):\n",
    "        mean, log_std = self.nn(state)\n",
    "        return rw.distributions.Normal(loc=mean, scale=log_std.exp())\n",
    "    \n",
    "    def get_action(self, state, step):\n",
    "        dist = self.create_dist(state)\n",
    "        return U.to_np(dist.sample())"
   ]
  },
  {
   "cell_type": "code",
   "execution_count": 7,
   "metadata": {},
   "outputs": [],
   "source": [
    "p_nn = PolicyNN(batcher.state_info.shape[0], batcher.action_info.shape[0]).to(device)\n",
    "policy = GaussianPolicy(p_nn)\n",
    "\n",
    "p_opt = torch.optim.Adam(p_nn.parameters(), lr=1e-3)"
   ]
  },
  {
   "cell_type": "code",
   "execution_count": 8,
   "metadata": {},
   "outputs": [
    {
     "name": "stdout",
     "output_type": "stream",
     "text": [
      "Writing logs to: logs/inverted_pendulum/pg-v0-0\n"
     ]
    }
   ],
   "source": [
    "logger = U.Logger('logs/inverted_pendulum/pg-v0-1')\n",
    "last_logged_step = 0"
   ]
  },
  {
   "cell_type": "code",
   "execution_count": 9,
   "metadata": {},
   "outputs": [
    {
     "data": {
      "application/vnd.jupyter.widget-view+json": {
       "model_id": "1b8bff218e634c6b909ca47e7dd8d50d",
       "version_major": 2,
       "version_minor": 0
      },
      "text/plain": [
       "HBox(children=(IntProgress(value=0, layout=Layout(flex='2'), max=500000), HTML(value='')), layout=Layout(displ…"
      ]
     },
     "metadata": {},
     "output_type": "display_data"
    },
    {
     "name": "stdout",
     "output_type": "stream",
     "text": [
      "\n",
      "--------------------------------------------------------------\n",
      "Env/Reward/Episode (New)                                | 7.08\n",
      "Env/Length/Episode (New)                                | 7.08\n",
      "Env/Reward/Episode (Last 50)                            | 7.60\n",
      "Env/Length/Episode (Last 50)                            | 7.60\n",
      "policy/loss                                             | 6.50\n",
      "--------------------------------------------------------------\n",
      "\n",
      "--------------------------------------------------------------\n",
      "Env/Reward/Episode (New)                               | 17.44\n",
      "Env/Length/Episode (New)                               | 17.44\n",
      "Env/Reward/Episode (Last 50)                           | 41.68\n",
      "Env/Length/Episode (Last 50)                           | 41.68\n",
      "policy/loss                                            | 28.74\n",
      "--------------------------------------------------------------\n",
      "\n",
      "--------------------------------------------------------------\n",
      "Env/Reward/Episode (New)                               | 67.13\n",
      "Env/Length/Episode (New)                               | 67.13\n",
      "Env/Reward/Episode (Last 50)                           | 88.54\n",
      "Env/Length/Episode (Last 50)                           | 88.54\n",
      "policy/loss                                            | 55.64\n",
      "--------------------------------------------------------------\n",
      "\n",
      "--------------------------------------------------------------\n",
      "Env/Reward/Episode (New)                              | 117.61\n",
      "Env/Length/Episode (New)                              | 117.61\n",
      "Env/Reward/Episode (Last 50)                          | 129.02\n",
      "Env/Length/Episode (Last 50)                          | 129.02\n",
      "policy/loss                                           |  51.10\n",
      "--------------------------------------------------------------\n",
      "\n",
      "--------------------------------------------------------------\n",
      "Env/Reward/Episode (New)                              | 169.81\n",
      "Env/Length/Episode (New)                              | 169.81\n",
      "Env/Reward/Episode (Last 50)                          | 178.58\n",
      "Env/Length/Episode (Last 50)                          | 178.58\n",
      "policy/loss                                           |  73.59\n",
      "--------------------------------------------------------------\n",
      "\n",
      "--------------------------------------------------------------\n",
      "Env/Reward/Episode (New)                              | 303.72\n",
      "Env/Length/Episode (New)                              | 303.72\n",
      "Env/Reward/Episode (Last 50)                          | 386.48\n",
      "Env/Length/Episode (Last 50)                          | 386.48\n",
      "policy/loss                                           |  84.97\n",
      "--------------------------------------------------------------\n",
      "\n",
      "--------------------------------------------------------------\n",
      "Env/Reward/Episode (New)                              | 503.36\n",
      "Env/Length/Episode (New)                              | 503.36\n",
      "Env/Reward/Episode (Last 50)                          | 412.18\n",
      "Env/Length/Episode (Last 50)                          | 412.18\n",
      "policy/loss                                           |  71.87\n",
      "--------------------------------------------------------------\n",
      "\n",
      "--------------------------------------------------------------\n",
      "Env/Reward/Episode (New)                              | 592.24\n",
      "Env/Length/Episode (New)                              | 592.24\n",
      "Env/Reward/Episode (Last 50)                          | 578.74\n",
      "Env/Length/Episode (Last 50)                          | 578.74\n",
      "policy/loss                                           |  82.30\n",
      "--------------------------------------------------------------\n",
      "\n",
      "--------------------------------------------------------------\n",
      "Env/Reward/Episode (New)                              | 626.15\n",
      "Env/Length/Episode (New)                              | 626.15\n",
      "Env/Reward/Episode (Last 50)                          | 812.68\n",
      "Env/Length/Episode (Last 50)                          | 812.68\n",
      "policy/loss                                           |  79.90\n",
      "--------------------------------------------------------------\n",
      "\n",
      "--------------------------------------------------------------\n",
      "Env/Reward/Episode (New)                              | 881.16\n",
      "Env/Length/Episode (New)                              | 881.16\n",
      "Env/Reward/Episode (Last 50)                          | 885.66\n",
      "Env/Length/Episode (Last 50)                          | 885.66\n",
      "policy/loss                                           |  99.49\n",
      "--------------------------------------------------------------\n",
      "\n"
     ]
    }
   ],
   "source": [
    "for batch in batcher.get_batches(max_steps=5e5, act_fn=policy.get_action):\n",
    "    batch = batch.to_tensor()\n",
    "    # TODO: Calculation is actually a little wrong here, v_t_last should not be None\n",
    "    ret = U.estimators.discounted_sum_rewards(rewards=batch.reward, dones=batch.done, gamma=GAMMA)\n",
    "    batch = batch.concat_batch()\n",
    "    \n",
    "    # Calculate loss\n",
    "    dist = policy.create_dist(batch.state_t)\n",
    "    log_prob = dist.log_prob(batch.action)\n",
    "    assert ret.shape == log_prob.shape\n",
    "    losses = ret * log_prob\n",
    "    loss = -losses.mean()\n",
    "    \n",
    "    # Optimize\n",
    "    p_opt.zero_grad()\n",
    "    loss.backward()\n",
    "    p_opt.step()\n",
    "    \n",
    "    # Write logs    \n",
    "    if batcher.num_steps > last_logged_step:\n",
    "        last_logged_step = batcher.num_steps + 50000\n",
    "        batcher.write_logs(logger)\n",
    "        logger.add_log('policy/loss', loss)\n",
    "        logger.log(step=batcher.num_steps)    "
   ]
  },
  {
   "cell_type": "code",
   "execution_count": null,
   "metadata": {},
   "outputs": [],
   "source": []
  }
 ],
 "metadata": {
  "kernelspec": {
   "display_name": "Python 3",
   "language": "python",
   "name": "python3"
  },
  "language_info": {
   "codemirror_mode": {
    "name": "ipython",
    "version": 3
   },
   "file_extension": ".py",
   "mimetype": "text/x-python",
   "name": "python",
   "nbconvert_exporter": "python",
   "pygments_lexer": "ipython3",
   "version": "3.6.5"
  }
 },
 "nbformat": 4,
 "nbformat_minor": 2
}
