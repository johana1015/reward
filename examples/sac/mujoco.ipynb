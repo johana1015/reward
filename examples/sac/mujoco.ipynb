{
 "cells": [
  {
   "cell_type": "code",
   "execution_count": 1,
   "metadata": {},
   "outputs": [
    {
     "name": "stderr",
     "output_type": "stream",
     "text": [
      "/home/quazar/anaconda3/env/torchrl_up/lib/python3.6/site-packages/tqdm/autonotebook/__init__.py:14: TqdmExperimentalWarning: Using `tqdm.autonotebook.tqdm` in notebook mode. Use `tqdm.tqdm` instead to force console mode (e.g. in jupyter console)\n",
      "  \" (e.g. in jupyter console)\", TqdmExperimentalWarning)\n"
     ]
    }
   ],
   "source": [
    "import pdb\n",
    "import gym\n",
    "import torch\n",
    "import numpy as np\n",
    "import torch.nn as nn\n",
    "import torch.nn.functional as F\n",
    "import reward as rw\n",
    "import reward.utils as U"
   ]
  },
  {
   "cell_type": "code",
   "execution_count": 2,
   "metadata": {},
   "outputs": [],
   "source": [
    "ENV = 'Humanoid-v2'\n",
    "LOG_DIR = '/tmp/logs/humanoid/paper-v0-1'\n",
    "REPAR = True\n",
    "REWARD_SCALE = 20.\n",
    "CLIP_GRAD = float('inf')\n",
    "GAMMA = 0.99\n",
    "TARGET_UP_WEIGHT = 0.005\n",
    "BATCH_SIZE = 256\n",
    "MAX_STEPS = 40e6"
   ]
  },
  {
   "cell_type": "code",
   "execution_count": 3,
   "metadata": {},
   "outputs": [],
   "source": [
    "use_cuda = torch.cuda.is_available()\n",
    "device   = torch.device(\"cuda\" if use_cuda else \"cpu\")"
   ]
  },
  {
   "cell_type": "code",
   "execution_count": 4,
   "metadata": {},
   "outputs": [
    {
     "name": "stdout",
     "output_type": "stream",
     "text": [
      "Choosing the latest nvidia driver: /usr/lib/nvidia-390, among ['/usr/lib/nvidia-375', '/usr/lib/nvidia-390']\n",
      "Choosing the latest nvidia driver: /usr/lib/nvidia-390, among ['/usr/lib/nvidia-375', '/usr/lib/nvidia-390']\n",
      "\u001b[33mWARN: gym.spaces.Box autodetected dtype as <class 'numpy.float32'>. Please provide explicit dtype.\u001b[0m\n",
      "\u001b[33mWARN: gym.spaces.Box autodetected dtype as <class 'numpy.float32'>. Please provide explicit dtype.\u001b[0m\n"
     ]
    }
   ],
   "source": [
    "env = rw.env.GymEnv(ENV)\n",
    "env = rw.env.wrappers.ActionBound(env)\n",
    "runner = rw.runner.SingleRunner(env)\n",
    "batcher = rw.batcher.ReplayBatcher(\n",
    "    runner=runner,\n",
    "    batch_size=256,\n",
    "    maxlen=1e6,\n",
    "    learning_freq=1,\n",
    "    grad_steps_per_batch=1,\n",
    "    transforms=[\n",
    "#         rw.batcher.transforms.StateRunNorm(),        \n",
    "    ],\n",
    ")\n",
    "\n",
    "s_features = batcher.s_space.shape[0]\n",
    "num_acs = batcher.ac_space.shape[0]"
   ]
  },
  {
   "cell_type": "code",
   "execution_count": 5,
   "metadata": {},
   "outputs": [],
   "source": [
    "class PolicyNN(nn.Module):\n",
    "    def __init__(self, num_inputs, num_outputs, hidden_units=256,\n",
    "                 activation=nn.ReLU, log_std_range=(-20, 2)):\n",
    "        super().__init__()\n",
    "        self.log_std_range = log_std_range\n",
    "        \n",
    "        layers = []\n",
    "        layers += [nn.Linear(num_inputs, hidden_units), activation()]\n",
    "        layers += [nn.Linear(hidden_units, hidden_units), activation()]\n",
    "        self.layers = nn.Sequential(*layers)\n",
    "        \n",
    "        self.mean = nn.Linear(hidden_units, num_outputs)\n",
    "        self.mean.weight.data.uniform_(-3e-3, 3e-3)\n",
    "        self.mean.bias.data.uniform_(-3e-3, 3e-3)\n",
    "        \n",
    "        self.log_std = nn.Linear(hidden_units, num_outputs)\n",
    "        self.log_std.weight.data.uniform_(-3e-3, 3e-3)\n",
    "        self.log_std.bias.data.uniform_(-3e-3, 3e-3)\n",
    "        \n",
    "    def forward(self, x):\n",
    "        x = self.layers(x)\n",
    "        mean = self.mean(x)\n",
    "        log_std = self.log_std(x).clamp(*self.log_std_range)\n",
    "        return mean, log_std        "
   ]
  },
  {
   "cell_type": "code",
   "execution_count": 6,
   "metadata": {},
   "outputs": [],
   "source": [
    "class ValueNN(nn.Module):\n",
    "    def __init__(self, num_inputs, hidden_units=256, activation=nn.ReLU):\n",
    "        super().__init__()\n",
    "        \n",
    "        layers = []\n",
    "        layers += [nn.Linear(num_inputs, hidden_units), activation()]\n",
    "        layers += [nn.Linear(hidden_units, hidden_units), activation()]\n",
    "        final_layer = nn.Linear(hidden_units, 1)\n",
    "        final_layer.weight.data.uniform_(-3e-3, 3e-3)\n",
    "        final_layer.bias.data.uniform_(-3e-3, 3e-3)\n",
    "        layers += [final_layer]\n",
    "        \n",
    "        self.layers = nn.Sequential(*layers)\n",
    "        \n",
    "    def forward(self, x):\n",
    "        return self.layers(x)"
   ]
  },
  {
   "cell_type": "code",
   "execution_count": 7,
   "metadata": {},
   "outputs": [],
   "source": [
    "class QValueNN(nn.Module):\n",
    "    def __init__(self, num_inputs, num_acs, hidden_units=256, activation=nn.ReLU):\n",
    "        super().__init__()\n",
    "        \n",
    "        layers = []\n",
    "        layers += [nn.Linear(num_inputs + num_acs, hidden_units), activation()]\n",
    "        layers += [nn.Linear(hidden_units, hidden_units), activation()]\n",
    "        final_layer = nn.Linear(hidden_units, 1)\n",
    "        final_layer.weight.data.uniform_(-3e-3, 3e-3)\n",
    "        final_layer.bias.data.uniform_(-3e-3, 3e-3)\n",
    "        layers += [final_layer]\n",
    "        \n",
    "        self.layers = nn.Sequential(*layers)\n",
    "        \n",
    "    def forward(self, x):\n",
    "        s, ac = x\n",
    "        x = torch.cat([s, ac], dim=1)\n",
    "        return self.layers(x)"
   ]
  },
  {
   "cell_type": "code",
   "execution_count": 8,
   "metadata": {},
   "outputs": [],
   "source": [
    "class TanhNormalPolicy(rw.policy.BasePolicy):\n",
    "    def create_dist(self, s):\n",
    "        parameters = self.nn(s)\n",
    "        mean, log_std = parameters\n",
    "        return rw.distributions.TanhNormal(loc=mean, scale=log_std.exp())\n",
    "\n",
    "    def get_ac(self, s, step):\n",
    "        dist = self.create_dist(s=s)\n",
    "        ac = U.to_np(dist.sample())\n",
    "        assert not np.isnan(ac).any()\n",
    "        return ac"
   ]
  },
  {
   "cell_type": "code",
   "execution_count": 9,
   "metadata": {},
   "outputs": [],
   "source": [
    "p_nn = PolicyNN(num_inputs=s_features, num_outputs=num_acs).to(device)\n",
    "v_nn = ValueNN(num_inputs=s_features).to(device)\n",
    "v_nn_target = ValueNN(num_inputs=s_features).to(device).eval()\n",
    "q1_nn = QValueNN(num_inputs=s_features, num_acs=num_acs).to(device)\n",
    "q2_nn = QValueNN(num_inputs=s_features, num_acs=num_acs).to(device)"
   ]
  },
  {
   "cell_type": "code",
   "execution_count": 10,
   "metadata": {},
   "outputs": [],
   "source": [
    "U.copy_weights(from_nn=v_nn, to_nn=v_nn_target, weight=1.)"
   ]
  },
  {
   "cell_type": "code",
   "execution_count": 11,
   "metadata": {},
   "outputs": [],
   "source": [
    "policy = TanhNormalPolicy(nn=p_nn)"
   ]
  },
  {
   "cell_type": "code",
   "execution_count": 12,
   "metadata": {},
   "outputs": [],
   "source": [
    "p_opt = torch.optim.Adam(p_nn.parameters(), lr=3e-4)\n",
    "v_opt = torch.optim.Adam(v_nn.parameters(), lr=3e-4)\n",
    "q1_opt = torch.optim.Adam(q1_nn.parameters(), lr=3e-4)\n",
    "q2_opt = torch.optim.Adam(q2_nn.parameters(), lr=3e-4)"
   ]
  },
  {
   "cell_type": "code",
   "execution_count": 13,
   "metadata": {},
   "outputs": [
    {
     "name": "stdout",
     "output_type": "stream",
     "text": [
      "Writing logs to: /tmp/logs/humanoid/paper-v0-1\n"
     ]
    }
   ],
   "source": [
    "logger = U.Logger(LOG_DIR)"
   ]
  },
  {
   "cell_type": "code",
   "execution_count": 14,
   "metadata": {},
   "outputs": [
    {
     "name": "stdout",
     "output_type": "stream",
     "text": [
      "Populating Replay Buffer...\n"
     ]
    },
    {
     "data": {
      "application/vnd.jupyter.widget-view+json": {
       "model_id": "ab01c206ff3e43f8af904a35aaf16cf4",
       "version_major": 2,
       "version_minor": 0
      },
      "text/plain": [
       "HBox(children=(IntProgress(value=0, max=1000), HTML(value='')))"
      ]
     },
     "metadata": {},
     "output_type": "display_data"
    },
    {
     "name": "stdout",
     "output_type": "stream",
     "text": [
      "\n"
     ]
    }
   ],
   "source": [
    "batcher.populate(n=1000, act_fn=policy.get_ac)"
   ]
  },
  {
   "cell_type": "code",
   "execution_count": 15,
   "metadata": {
    "scrolled": false
   },
   "outputs": [
    {
     "data": {
      "application/vnd.jupyter.widget-view+json": {
       "model_id": "595b091547274d2a9d0a2a175fb8cfa4",
       "version_major": 2,
       "version_minor": 0
      },
      "text/plain": [
       "HBox(children=(IntProgress(value=0, layout=Layout(flex='2'), max=40000000), HTML(value='')), layout=Layout(dis…"
      ]
     },
     "metadata": {},
     "output_type": "display_data"
    },
    {
     "name": "stdout",
     "output_type": "stream",
     "text": [
      "\n"
     ]
    },
    {
     "ename": "ValueError",
     "evalue": "<class 'list'> not suported",
     "output_type": "error",
     "traceback": [
      "\u001b[0;31m---------------------------------------------------------------------------\u001b[0m",
      "\u001b[0;31mValueError\u001b[0m                                Traceback (most recent call last)",
      "\u001b[0;32m<ipython-input-15-cfb12d510be8>\u001b[0m in \u001b[0;36m<module>\u001b[0;34m()\u001b[0m\n\u001b[1;32m      1\u001b[0m \u001b[0;32mfor\u001b[0m \u001b[0mbatch\u001b[0m \u001b[0;32min\u001b[0m \u001b[0mbatcher\u001b[0m\u001b[0;34m.\u001b[0m\u001b[0mget_batches\u001b[0m\u001b[0;34m(\u001b[0m\u001b[0mMAX_STEPS\u001b[0m\u001b[0;34m,\u001b[0m \u001b[0mpolicy\u001b[0m\u001b[0;34m.\u001b[0m\u001b[0mget_action\u001b[0m\u001b[0;34m)\u001b[0m\u001b[0;34m:\u001b[0m\u001b[0;34m\u001b[0m\u001b[0m\n\u001b[0;32m----> 2\u001b[0;31m     \u001b[0mbatch\u001b[0m \u001b[0;34m=\u001b[0m \u001b[0mbatch\u001b[0m\u001b[0;34m.\u001b[0m\u001b[0mto_tensor\u001b[0m\u001b[0;34m(\u001b[0m\u001b[0;34m)\u001b[0m\u001b[0;34m.\u001b[0m\u001b[0mconcat_batch\u001b[0m\u001b[0;34m(\u001b[0m\u001b[0;34m)\u001b[0m\u001b[0;34m\u001b[0m\u001b[0m\n\u001b[0m\u001b[1;32m      3\u001b[0m \u001b[0;34m\u001b[0m\u001b[0m\n\u001b[1;32m      4\u001b[0m     \u001b[0;31m##### Calculate losses ######\u001b[0m\u001b[0;34m\u001b[0m\u001b[0;34m\u001b[0m\u001b[0m\n\u001b[1;32m      5\u001b[0m     \u001b[0mq1_batch\u001b[0m \u001b[0;34m=\u001b[0m \u001b[0mq1_nn\u001b[0m\u001b[0;34m(\u001b[0m\u001b[0;34m(\u001b[0m\u001b[0mbatch\u001b[0m\u001b[0;34m.\u001b[0m\u001b[0ms\u001b[0m\u001b[0;34m,\u001b[0m \u001b[0mbatch\u001b[0m\u001b[0;34m.\u001b[0m\u001b[0maction\u001b[0m\u001b[0;34m)\u001b[0m\u001b[0;34m)\u001b[0m\u001b[0;34m\u001b[0m\u001b[0m\n",
      "\u001b[0;32m/home/quazar/programming/machine_learning/reward/reward/utils/batch.py\u001b[0m in \u001b[0;36mto_tensor\u001b[0;34m(self)\u001b[0m\n\u001b[1;32m     50\u001b[0m \u001b[0;34m\u001b[0m\u001b[0m\n\u001b[1;32m     51\u001b[0m     \u001b[0;32mdef\u001b[0m \u001b[0mto_tensor\u001b[0m\u001b[0;34m(\u001b[0m\u001b[0mself\u001b[0m\u001b[0;34m)\u001b[0m\u001b[0;34m:\u001b[0m\u001b[0;34m\u001b[0m\u001b[0m\n\u001b[0;32m---> 52\u001b[0;31m         \u001b[0;32mreturn\u001b[0m \u001b[0mBatch\u001b[0m\u001b[0;34m(\u001b[0m\u001b[0;34m{\u001b[0m\u001b[0mk\u001b[0m\u001b[0;34m:\u001b[0m \u001b[0mto_tensor\u001b[0m\u001b[0;34m(\u001b[0m\u001b[0mv\u001b[0m\u001b[0;34m)\u001b[0m \u001b[0;32mfor\u001b[0m \u001b[0mk\u001b[0m\u001b[0;34m,\u001b[0m \u001b[0mv\u001b[0m \u001b[0;32min\u001b[0m \u001b[0mself\u001b[0m\u001b[0;34m.\u001b[0m\u001b[0mitems\u001b[0m\u001b[0;34m(\u001b[0m\u001b[0;34m)\u001b[0m\u001b[0;34m}\u001b[0m\u001b[0;34m)\u001b[0m\u001b[0;34m\u001b[0m\u001b[0m\n\u001b[0m\u001b[1;32m     53\u001b[0m \u001b[0;34m\u001b[0m\u001b[0m\n\u001b[1;32m     54\u001b[0m     \u001b[0;31m# def to_array_or_tensor(self):\u001b[0m\u001b[0;34m\u001b[0m\u001b[0;34m\u001b[0m\u001b[0m\n",
      "\u001b[0;32m/home/quazar/programming/machine_learning/reward/reward/utils/batch.py\u001b[0m in \u001b[0;36m<dictcomp>\u001b[0;34m(.0)\u001b[0m\n\u001b[1;32m     50\u001b[0m \u001b[0;34m\u001b[0m\u001b[0m\n\u001b[1;32m     51\u001b[0m     \u001b[0;32mdef\u001b[0m \u001b[0mto_tensor\u001b[0m\u001b[0;34m(\u001b[0m\u001b[0mself\u001b[0m\u001b[0;34m)\u001b[0m\u001b[0;34m:\u001b[0m\u001b[0;34m\u001b[0m\u001b[0m\n\u001b[0;32m---> 52\u001b[0;31m         \u001b[0;32mreturn\u001b[0m \u001b[0mBatch\u001b[0m\u001b[0;34m(\u001b[0m\u001b[0;34m{\u001b[0m\u001b[0mk\u001b[0m\u001b[0;34m:\u001b[0m \u001b[0mto_tensor\u001b[0m\u001b[0;34m(\u001b[0m\u001b[0mv\u001b[0m\u001b[0;34m)\u001b[0m \u001b[0;32mfor\u001b[0m \u001b[0mk\u001b[0m\u001b[0;34m,\u001b[0m \u001b[0mv\u001b[0m \u001b[0;32min\u001b[0m \u001b[0mself\u001b[0m\u001b[0;34m.\u001b[0m\u001b[0mitems\u001b[0m\u001b[0;34m(\u001b[0m\u001b[0;34m)\u001b[0m\u001b[0;34m}\u001b[0m\u001b[0;34m)\u001b[0m\u001b[0;34m\u001b[0m\u001b[0m\n\u001b[0m\u001b[1;32m     53\u001b[0m \u001b[0;34m\u001b[0m\u001b[0m\n\u001b[1;32m     54\u001b[0m     \u001b[0;31m# def to_array_or_tensor(self):\u001b[0m\u001b[0;34m\u001b[0m\u001b[0;34m\u001b[0m\u001b[0m\n",
      "\u001b[0;32m/home/quazar/programming/machine_learning/reward/reward/utils/utils.py\u001b[0m in \u001b[0;36mto_tensor\u001b[0;34m(x, cuda_default)\u001b[0m\n\u001b[1;32m    111\u001b[0m \u001b[0;34m\u001b[0m\u001b[0m\n\u001b[1;32m    112\u001b[0m     \u001b[0;32melse\u001b[0m\u001b[0;34m:\u001b[0m\u001b[0;34m\u001b[0m\u001b[0m\n\u001b[0;32m--> 113\u001b[0;31m         \u001b[0;32mraise\u001b[0m \u001b[0mValueError\u001b[0m\u001b[0;34m(\u001b[0m\u001b[0;34m\"{} not suported\"\u001b[0m\u001b[0;34m.\u001b[0m\u001b[0mformat\u001b[0m\u001b[0;34m(\u001b[0m\u001b[0mtype\u001b[0m\u001b[0;34m(\u001b[0m\u001b[0mx\u001b[0m\u001b[0;34m)\u001b[0m\u001b[0;34m)\u001b[0m\u001b[0;34m)\u001b[0m\u001b[0;34m\u001b[0m\u001b[0m\n\u001b[0m\u001b[1;32m    114\u001b[0m \u001b[0;34m\u001b[0m\u001b[0m\n\u001b[1;32m    115\u001b[0m     \u001b[0;32mreturn\u001b[0m \u001b[0mx\u001b[0m\u001b[0;34m\u001b[0m\u001b[0m\n",
      "\u001b[0;31mValueError\u001b[0m: <class 'list'> not suported"
     ]
    }
   ],
   "source": [
    "for batch in batcher.get_batches(MAX_STEPS, policy.get_ac):\n",
    "    batch = batch.to_tensor().concat_batch()\n",
    "\n",
    "    ##### Calculate losses ######\n",
    "    q1_batch = q1_nn((batch.s, batch.ac))\n",
    "    q2_batch = q2_nn((batch.s, batch.ac))\n",
    "    v_batch = v_nn(batch.s)\n",
    "\n",
    "    dist = policy.create_dist(batch.s)\n",
    "    if REPAR:\n",
    "        ac, pre_tanh_ac = dist.rsample_with_pre()\n",
    "    else:\n",
    "        ac, pre_tanh_ac = dist.sample_with_pre()\n",
    "    log_prob = dist.log_prob_pre(pre_tanh_ac).sum(-1, keepdim=True)\n",
    "    log_prob /= float(REWARD_SCALE)\n",
    "\n",
    "    # Q loss\n",
    "    v_target_tp1 = v_nn_target(batch.sn)\n",
    "    q_value_tp1 = U.estimators.td_target(rs=batch.r, ds=batch.d,\n",
    "                                         v_tp1=v_target_tp1, gamma=GAMMA)\n",
    "    q1_loss = F.mse_loss(q1_batch, q_value_tp1.detach())\n",
    "    q2_loss = F.mse_loss(q2_batch, q_value_tp1.detach())\n",
    "\n",
    "    # V loss    \n",
    "    q1_new_t = q1_nn((batch.s, ac))\n",
    "    q2_new_t = q2_nn((batch.s, ac))\n",
    "    q_new_t = torch.min(q1_new_t, q2_new_t)\n",
    "    next_value = q_new_t - log_prob\n",
    "    v_loss = F.mse_loss(v_batch, next_value.detach())\n",
    "\n",
    "    # Policy loss    \n",
    "    if REPAR:        \n",
    "        p_loss = (log_prob - q_new_t).mean()\n",
    "    else:\n",
    "        next_log_prob = q_new_t - v_batch\n",
    "        p_loss = (log_prob * (log_prob - next_log_prob).detach()).mean()\n",
    "    # Policy regularization losses\n",
    "    mean_loss = 1e-3 * dist.loc.pow(2).mean()\n",
    "    log_std_loss = 1e-3 * dist.scale.log().pow(2).mean()\n",
    "    pre_tanh_loss = 0 * pre_tanh_ac.pow(2).sum(1).mean()\n",
    "    # Combine all losses\n",
    "    p_loss += mean_loss + log_std_loss + pre_tanh_loss\n",
    "\n",
    "    ###### Optimize ######\n",
    "    q1_opt.zero_grad()\n",
    "    q1_loss.backward()\n",
    "#     torch.nn.utils.clip_grad_norm_(q1_nn.parameters(), CLIP_GRAD)\n",
    "    q1_grad = U.mean_grad(q1_nn)\n",
    "    q1_opt.step()\n",
    "\n",
    "    q2_opt.zero_grad()\n",
    "    q2_loss.backward()\n",
    "#     torch.nn.utils.clip_grad_norm_(q2_nn.parameters(), CLIP_GRAD)\n",
    "    q2_grad = U.mean_grad(q2_nn)\n",
    "    q2_opt.step()\n",
    "\n",
    "    v_opt.zero_grad()\n",
    "    v_loss.backward()\n",
    "#     torch.nn.utils.clip_grad_norm_(v_nn.parameters(), CLIP_GRAD)\n",
    "    v_grad = U.mean_grad(v_nn)\n",
    "    v_opt.step()\n",
    "\n",
    "    p_opt.zero_grad()\n",
    "    p_loss.backward()\n",
    "#     torch.nn.utils.clip_grad_norm_(p_nn.parameters(), CLIP_GRAD)\n",
    "    p_grad = U.mean_grad(p_nn)\n",
    "    p_opt.step()\n",
    "\n",
    "    ###### Update target value network ######\n",
    "    U.copy_weights(from_nn=v_nn, to_nn=v_nn_target, weight=TARGET_UP_WEIGHT)\n",
    "\n",
    "    ###### Write logs ######\n",
    "    if batcher.num_steps % 4000 == 0 and batcher.runner.rs:\n",
    "        batcher.write_logs(logger)    \n",
    "\n",
    "        logger.add_log('policy/loss', p_loss)\n",
    "        logger.add_log('v/loss', v_loss)\n",
    "        logger.add_log('q1/loss', q1_loss)\n",
    "        logger.add_log('q2/loss', q2_loss)\n",
    "\n",
    "        logger.add_log('policy/grad', p_grad)\n",
    "        logger.add_log('v/grad', v_grad)\n",
    "        logger.add_log('q1/grad', q1_grad)\n",
    "        logger.add_log('q2/grad', q2_grad)\n",
    "\n",
    "        logger.add_histogram('policy/log_prob', log_prob)\n",
    "        logger.add_histogram('policy/mean', dist.loc)\n",
    "        logger.add_histogram('policy/std', dist.scale.exp())\n",
    "        logger.add_histogram('v/value', v_batch)\n",
    "        logger.add_histogram('q1/value', q1_batch)\n",
    "        logger.add_histogram('q2/value', q2_batch)\n",
    "\n",
    "        logger.log(step=batcher.num_steps)"
   ]
  },
  {
   "cell_type": "code",
   "execution_count": null,
   "metadata": {},
   "outputs": [],
   "source": []
  }
 ],
 "metadata": {
  "kernelspec": {
   "display_name": "Python 3",
   "language": "python",
   "name": "python3"
  },
  "language_info": {
   "codemirror_mode": {
    "name": "ipython",
    "version": 3
   },
   "file_extension": ".py",
   "mimetype": "text/x-python",
   "name": "python",
   "nbconvert_exporter": "python",
   "pygments_lexer": "ipython3",
   "version": "3.6.5"
  }
 },
 "nbformat": 4,
 "nbformat_minor": 2
}
