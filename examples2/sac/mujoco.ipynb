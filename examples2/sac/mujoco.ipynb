{
 "cells": [
  {
   "cell_type": "code",
   "execution_count": 1,
   "metadata": {},
   "outputs": [
    {
     "name": "stderr",
     "output_type": "stream",
     "text": [
      "/home/quazar/anaconda3/envs/torchrl_up/lib/python3.6/site-packages/tqdm/autonotebook/__init__.py:14: TqdmExperimentalWarning: Using `tqdm.autonotebook.tqdm` in notebook mode. Use `tqdm.tqdm` instead to force console mode (e.g. in jupyter console)\n",
      "  \" (e.g. in jupyter console)\", TqdmExperimentalWarning)\n"
     ]
    }
   ],
   "source": [
    "import pdb\n",
    "import torch\n",
    "import numpy as np\n",
    "import torch.nn as nn\n",
    "import torch.nn.functional as F\n",
    "import reward as rw\n",
    "import reward.utils as U"
   ]
  },
  {
   "cell_type": "code",
   "execution_count": 2,
   "metadata": {},
   "outputs": [],
   "source": [
    "ENV = 'Humanoid-v2'\n",
    "LOG_DIR = 'logs/humanoid/likeli-2q_infgrad_v0-1'\n",
    "REPAR = True\n",
    "REWARD_SCALE = 20.\n",
    "CLIP_GRAD = float('inf')\n",
    "GAMMA = 0.99\n",
    "TARGET_UP_WEIGHT = 0.005\n",
    "MAX_STEPS = 40e6"
   ]
  },
  {
   "cell_type": "code",
   "execution_count": 3,
   "metadata": {},
   "outputs": [],
   "source": [
    "use_cuda = torch.cuda.is_available()\n",
    "device   = torch.device(\"cuda\" if use_cuda else \"cpu\")"
   ]
  },
  {
   "cell_type": "code",
   "execution_count": 4,
   "metadata": {},
   "outputs": [
    {
     "name": "stdout",
     "output_type": "stream",
     "text": [
      "Choosing the latest nvidia driver: /usr/lib/nvidia-390, among ['/usr/lib/nvidia-375', '/usr/lib/nvidia-390']\n",
      "Choosing the latest nvidia driver: /usr/lib/nvidia-390, among ['/usr/lib/nvidia-375', '/usr/lib/nvidia-390']\n",
      "\u001b[33mWARN: gym.spaces.Box autodetected dtype as <class 'numpy.float32'>. Please provide explicit dtype.\u001b[0m\n",
      "\u001b[33mWARN: gym.spaces.Box autodetected dtype as <class 'numpy.float32'>. Please provide explicit dtype.\u001b[0m\n"
     ]
    }
   ],
   "source": [
    "env = rw.envs.GymEnv(ENV)\n",
    "env = rw.envs.wrappers.ActionBound(env)\n",
    "runner = rw.runners.SingleRunner(env)\n",
    "batcher = rw.batchers.ReplayBatcher(\n",
    "    runner=runner,\n",
    "    batch_size=128,\n",
    "    replay_buffer_maxlen=1e6,\n",
    "    learning_freq=1,\n",
    "    grad_steps_per_batch=1,\n",
    "    transforms=[\n",
    "#         rw.batchers.transforms.StateRunNorm(),\n",
    "        rw.batchers.transforms.RewardConstScaler(REWARD_SCALE),\n",
    "    ],\n",
    ")\n",
    "\n",
    "state_features = batcher.get_state_info().shape[0]\n",
    "num_actions = batcher.get_action_info().shape[0]"
   ]
  },
  {
   "cell_type": "code",
   "execution_count": 5,
   "metadata": {},
   "outputs": [],
   "source": [
    "class PolicyNN(nn.Module):\n",
    "    def __init__(self, num_inputs, num_outputs, hidden_units=256,\n",
    "                 activation=nn.ReLU, log_std_range=(-20, 2)):\n",
    "        super().__init__()\n",
    "        self.log_std_range = log_std_range\n",
    "        \n",
    "        layers = []\n",
    "        layers += [nn.Linear(num_inputs, hidden_units), activation()]\n",
    "        layers += [nn.Linear(hidden_units, hidden_units), activation()]\n",
    "        self.layers = nn.Sequential(*layers)\n",
    "        \n",
    "        self.mean = nn.Linear(hidden_units, num_outputs)\n",
    "        self.mean.weight.data.uniform_(-3e-3, 3e-3)\n",
    "        self.mean.bias.data.uniform_(-3e-3, 3e-3)\n",
    "        \n",
    "        self.log_std = nn.Linear(hidden_units, num_outputs)\n",
    "        self.log_std.weight.data.uniform_(-3e-3, 3e-3)\n",
    "        self.log_std.bias.data.uniform_(-3e-3, 3e-3)\n",
    "        \n",
    "    def forward(self, x):\n",
    "        x = self.layers(x)\n",
    "        mean = self.mean(x)\n",
    "        log_std = self.log_std(x).clamp(*self.log_std_range)\n",
    "        return mean, log_std        "
   ]
  },
  {
   "cell_type": "code",
   "execution_count": 6,
   "metadata": {},
   "outputs": [],
   "source": [
    "class ValueNN(nn.Module):\n",
    "    def __init__(self, num_inputs, hidden_units=256, activation=nn.ReLU):\n",
    "        super().__init__()\n",
    "        \n",
    "        layers = []\n",
    "        layers += [nn.Linear(num_inputs, hidden_units), activation()]\n",
    "        layers += [nn.Linear(hidden_units, hidden_units), activation()]\n",
    "        final_layer = nn.Linear(hidden_units, 1)\n",
    "        final_layer.weight.data.uniform_(-3e-3, 3e-3)\n",
    "        final_layer.bias.data.uniform_(-3e-3, 3e-3)\n",
    "        layers += [final_layer]\n",
    "        \n",
    "        self.layers = nn.Sequential(*layers)\n",
    "        \n",
    "    def forward(self, x):\n",
    "        return self.layers(x)"
   ]
  },
  {
   "cell_type": "code",
   "execution_count": 7,
   "metadata": {},
   "outputs": [],
   "source": [
    "class QValueNN(nn.Module):\n",
    "    def __init__(self, num_inputs, num_actions, hidden_units=256, activation=nn.ReLU):\n",
    "        super().__init__()\n",
    "        \n",
    "        layers = []\n",
    "        layers += [nn.Linear(num_inputs + num_actions, hidden_units), activation()]\n",
    "        layers += [nn.Linear(hidden_units, hidden_units), activation()]\n",
    "        final_layer = nn.Linear(hidden_units, 1)\n",
    "        final_layer.weight.data.uniform_(-3e-3, 3e-3)\n",
    "        final_layer.bias.data.uniform_(-3e-3, 3e-3)\n",
    "        layers += [final_layer]\n",
    "        \n",
    "        self.layers = nn.Sequential(*layers)\n",
    "        \n",
    "    def forward(self, x):\n",
    "        state, action = x\n",
    "        x = torch.cat([state, action], dim=1)\n",
    "        return self.layers(x)"
   ]
  },
  {
   "cell_type": "code",
   "execution_count": 8,
   "metadata": {},
   "outputs": [],
   "source": [
    "class TanhNormal(rw.policy.BasePolicy):\n",
    "    def create_dist(self, state):\n",
    "        parameters = self.nn(state)\n",
    "        mean, log_std = parameters\n",
    "        return rw.distributions.TanhNormal(loc=mean, scale=log_std.exp())\n",
    "\n",
    "    def get_action(self, state, step):\n",
    "        dist = self.create_dist(state=state)\n",
    "        action = U.to_np(dist.sample())\n",
    "        assert not np.isnan(action).any()\n",
    "        return action"
   ]
  },
  {
   "cell_type": "code",
   "execution_count": 9,
   "metadata": {},
   "outputs": [],
   "source": [
    "p_nn = PolicyNN(num_inputs=state_features, num_outputs=num_actions).to(device)\n",
    "v_nn = ValueNN(num_inputs=state_features).to(device)\n",
    "v_nn_target = ValueNN(num_inputs=state_features).to(device).eval()\n",
    "q1_nn = QValueNN(num_inputs=state_features, num_actions=num_actions).to(device)\n",
    "q2_nn = QValueNN(num_inputs=state_features, num_actions=num_actions).to(device)"
   ]
  },
  {
   "cell_type": "code",
   "execution_count": 10,
   "metadata": {},
   "outputs": [],
   "source": [
    "U.copy_weights(from_nn=v_nn, to_nn=v_nn_target, weight=1.)"
   ]
  },
  {
   "cell_type": "code",
   "execution_count": 11,
   "metadata": {},
   "outputs": [],
   "source": [
    "policy = TanhNormal(nn=p_nn)"
   ]
  },
  {
   "cell_type": "code",
   "execution_count": 12,
   "metadata": {},
   "outputs": [],
   "source": [
    "p_opt = torch.optim.Adam(p_nn.parameters(), lr=3e-4)\n",
    "v_opt = torch.optim.Adam(v_nn.parameters(), lr=3e-4)\n",
    "q1_opt = torch.optim.Adam(q1_nn.parameters(), lr=3e-4)\n",
    "q2_opt = torch.optim.Adam(q2_nn.parameters(), lr=3e-4)"
   ]
  },
  {
   "cell_type": "code",
   "execution_count": 13,
   "metadata": {},
   "outputs": [
    {
     "name": "stdout",
     "output_type": "stream",
     "text": [
      "Writing logs to: logs/humanoid/likeli-2q_infgrad_v0-1\n"
     ]
    }
   ],
   "source": [
    "logger = U.Logger(LOG_DIR)"
   ]
  },
  {
   "cell_type": "code",
   "execution_count": 15,
   "metadata": {},
   "outputs": [
    {
     "name": "stdout",
     "output_type": "stream",
     "text": [
      "Populating Replay Buffer...\n"
     ]
    },
    {
     "data": {
      "application/vnd.jupyter.widget-view+json": {
       "model_id": "9087cc6d331645f2a4fd8e7a0b49abd5",
       "version_major": 2,
       "version_minor": 0
      },
      "text/plain": [
       "HBox(children=(IntProgress(value=0, max=50000), HTML(value='')))"
      ]
     },
     "metadata": {},
     "output_type": "display_data"
    },
    {
     "name": "stdout",
     "output_type": "stream",
     "text": [
      "\n"
     ]
    }
   ],
   "source": [
    "batcher.populate(pct=0.05, get_action_fn=policy.get_action)"
   ]
  },
  {
   "cell_type": "code",
   "execution_count": 16,
   "metadata": {
    "scrolled": true
   },
   "outputs": [
    {
     "data": {
      "application/vnd.jupyter.widget-view+json": {
       "model_id": "7c7f54f6144d450a9eaa33e6a8ae20da",
       "version_major": 2,
       "version_minor": 0
      },
      "text/plain": [
       "HBox(children=(IntProgress(value=0, layout=Layout(flex='2'), max=40000000), HTML(value='')), layout=Layout(dis…"
      ]
     },
     "metadata": {},
     "output_type": "display_data"
    },
    {
     "name": "stdout",
     "output_type": "stream",
     "text": [
      "\n",
      "--------------------------------------------------------------\n",
      "Env/Reward/Episode (New)                            |   115.53\n",
      "Env/Length/Episode (New)                            |    23.72\n",
      "Env/Reward/Episode (Last 50)                        |    92.55\n",
      "Env/Length/Episode (Last 50)                        |    19.26\n",
      "policy/loss                                         |  -778.81\n",
      "v/loss                                              |   583.03\n",
      "q1/loss                                             | 10093.41\n",
      "q2/loss                                             |  9993.20\n",
      "policy/grad                                         |    17.33\n",
      "v/grad                                              | 50431.64\n",
      "q1/grad                                             | 91824.56\n",
      "q2/grad                                             | 98197.09\n",
      "--------------------------------------------------------------\n",
      "\n",
      "--------------------------------------------------------------\n",
      "Env/Reward/Episode (New)                           |    253.12\n",
      "Env/Length/Episode (New)                           |     47.57\n",
      "Env/Reward/Episode (Last 50)                       |    240.25\n",
      "Env/Length/Episode (Last 50)                       |     45.32\n",
      "policy/loss                                        |  -1572.00\n",
      "v/loss                                             |  11080.29\n",
      "q1/loss                                            |   6999.20\n",
      "q2/loss                                            |   7179.46\n",
      "policy/grad                                        |     22.20\n",
      "v/grad                                             | 833471.88\n",
      "q1/grad                                            | 325702.37\n",
      "q2/grad                                            | 376025.69\n",
      "--------------------------------------------------------------\n",
      "\n",
      "--------------------------------------------------------------\n",
      "Env/Reward/Episode (New)                           |    244.88\n",
      "Env/Length/Episode (New)                           |     46.53\n",
      "Env/Reward/Episode (Last 50)                       |    245.11\n",
      "Env/Length/Episode (Last 50)                       |     46.56\n",
      "policy/loss                                        |  -2453.48\n",
      "v/loss                                             |  13754.70\n",
      "q1/loss                                            |  19057.75\n",
      "q2/loss                                            |  18332.65\n",
      "policy/grad                                        |     34.35\n",
      "v/grad                                             | 945743.61\n",
      "q1/grad                                            | 575367.11\n",
      "q2/grad                                            | 594609.68\n",
      "--------------------------------------------------------------\n",
      "\n",
      "--------------------------------------------------------------\n",
      "Env/Reward/Episode (New)                           |    205.10\n",
      "Env/Length/Episode (New)                           |     41.54\n",
      "Env/Reward/Episode (Last 50)                       |    205.92\n",
      "Env/Length/Episode (Last 50)                       |     41.62\n",
      "policy/loss                                        |  -3330.63\n",
      "v/loss                                             |  10036.52\n",
      "q1/loss                                            |  30620.20\n",
      "q2/loss                                            |  31065.79\n",
      "policy/grad                                        |     41.14\n",
      "v/grad                                             | 466491.74\n",
      "q1/grad                                            | 538022.66\n",
      "q2/grad                                            | 583736.28\n",
      "--------------------------------------------------------------\n",
      "\n",
      "--------------------------------------------------------------\n",
      "Env/Reward/Episode (New)                          |     179.57\n",
      "Env/Length/Episode (New)                          |      41.14\n",
      "Env/Reward/Episode (Last 50)                      |     178.49\n",
      "Env/Length/Episode (Last 50)                      |      40.90\n",
      "policy/loss                                       |   -4092.42\n",
      "v/loss                                            |   13767.38\n",
      "q1/loss                                           |   63419.15\n",
      "q2/loss                                           |   61396.42\n",
      "policy/grad                                       |      44.54\n",
      "v/grad                                            | 1509426.32\n",
      "q1/grad                                           |  648657.22\n",
      "q2/grad                                           |  971323.97\n",
      "--------------------------------------------------------------\n",
      "\n",
      "--------------------------------------------------------------\n",
      "Env/Reward/Episode (New)                          |     267.66\n",
      "Env/Length/Episode (New)                          |      52.55\n",
      "Env/Reward/Episode (Last 50)                      |     264.68\n",
      "Env/Length/Episode (Last 50)                      |      53.58\n",
      "policy/loss                                       |   -4511.66\n",
      "v/loss                                            |   23825.96\n",
      "q1/loss                                           |   54191.52\n",
      "q2/loss                                           |   46914.90\n",
      "policy/grad                                       |      60.89\n",
      "v/grad                                            | 2842899.31\n",
      "q1/grad                                           | 1563199.32\n",
      "q2/grad                                           | 1097886.27\n",
      "--------------------------------------------------------------\n",
      "\n",
      "--------------------------------------------------------------\n",
      "Env/Reward/Episode (New)                          |     256.86\n",
      "Env/Length/Episode (New)                          |      48.73\n",
      "Env/Reward/Episode (Last 50)                      |     255.72\n",
      "Env/Length/Episode (Last 50)                      |      48.52\n",
      "policy/loss                                       |   -4870.82\n",
      "v/loss                                            |   42795.48\n",
      "q1/loss                                           |   78258.56\n",
      "q2/loss                                           |   67436.67\n",
      "policy/grad                                       |      93.29\n",
      "v/grad                                            | 2674608.56\n",
      "q1/grad                                           | 2673721.42\n",
      "q2/grad                                           | 1986142.71\n",
      "--------------------------------------------------------------\n",
      "\n",
      "--------------------------------------------------------------\n",
      "Env/Reward/Episode (New)                          |     260.93\n",
      "Env/Length/Episode (New)                          |      50.77\n",
      "Env/Reward/Episode (Last 50)                      |     253.99\n",
      "Env/Length/Episode (Last 50)                      |      49.26\n",
      "policy/loss                                       |   -5175.85\n",
      "v/loss                                            |   40123.00\n",
      "q1/loss                                           |  157335.89\n",
      "q2/loss                                           |  166299.62\n",
      "policy/grad                                       |     140.67\n",
      "v/grad                                            | 2771772.56\n",
      "q1/grad                                           | 2449350.40\n",
      "q2/grad                                           | 3647020.90\n",
      "--------------------------------------------------------------\n",
      "\n",
      "--------------------------------------------------------------\n",
      "Env/Reward/Episode (New)                          |     312.62\n",
      "Env/Length/Episode (New)                          |      63.90\n",
      "Env/Reward/Episode (Last 50)                      |     292.34\n",
      "Env/Length/Episode (Last 50)                      |      59.10\n",
      "policy/loss                                       |   -5001.58\n",
      "v/loss                                            |   21016.02\n",
      "q1/loss                                           |   71171.51\n",
      "q2/loss                                           |   66039.47\n",
      "policy/grad                                       |     115.10\n",
      "v/grad                                            | 1411648.58\n",
      "q1/grad                                           | 1635678.96\n",
      "q2/grad                                           | 1854319.99\n",
      "--------------------------------------------------------------\n",
      "\n",
      "--------------------------------------------------------------\n",
      "Env/Reward/Episode (New)                          |     268.03\n",
      "Env/Length/Episode (New)                          |      55.41\n",
      "Env/Reward/Episode (Last 50)                      |     286.90\n",
      "Env/Length/Episode (Last 50)                      |      58.44\n",
      "policy/loss                                       |   -4846.32\n",
      "v/loss                                            |   19758.80\n",
      "q1/loss                                           |   38820.72\n",
      "q2/loss                                           |   41194.99\n",
      "policy/grad                                       |     126.29\n",
      "v/grad                                            |  758095.74\n",
      "q1/grad                                           | 1259321.15\n",
      "q2/grad                                           |  847965.53\n",
      "--------------------------------------------------------------\n"
     ]
    },
    {
     "name": "stdout",
     "output_type": "stream",
     "text": [
      "\n",
      "--------------------------------------------------------------\n",
      "Env/Reward/Episode (New)                          |     331.43\n",
      "Env/Length/Episode (New)                          |      67.07\n",
      "Env/Reward/Episode (Last 50)                      |     284.11\n",
      "Env/Length/Episode (Last 50)                      |      58.84\n",
      "policy/loss                                       |   -4905.74\n",
      "v/loss                                            |   34536.97\n",
      "q1/loss                                           |   72535.23\n",
      "q2/loss                                           |   61372.56\n",
      "policy/grad                                       |     267.15\n",
      "v/grad                                            | 2325710.46\n",
      "q1/grad                                           | 2761304.74\n",
      "q2/grad                                           | 3472667.42\n",
      "--------------------------------------------------------------\n",
      "\n",
      "--------------------------------------------------------------\n",
      "Env/Reward/Episode (New)                          |     347.15\n",
      "Env/Length/Episode (New)                          |      71.36\n",
      "Env/Reward/Episode (Last 50)                      |     358.61\n",
      "Env/Length/Episode (Last 50)                      |      72.90\n",
      "policy/loss                                       |   -4710.81\n",
      "v/loss                                            |   12615.16\n",
      "q1/loss                                           |   44972.14\n",
      "q2/loss                                           |   39019.96\n",
      "policy/grad                                       |     138.92\n",
      "v/grad                                            | 1144475.38\n",
      "q1/grad                                           | 1143160.63\n",
      "q2/grad                                           | 1190993.32\n",
      "--------------------------------------------------------------\n"
     ]
    },
    {
     "ename": "AssertionError",
     "evalue": "",
     "output_type": "error",
     "traceback": [
      "\u001b[0;31m---------------------------------------------------------------------------\u001b[0m",
      "\u001b[0;31mAssertionError\u001b[0m                            Traceback (most recent call last)",
      "\u001b[0;32m<ipython-input-16-8db23eadef04>\u001b[0m in \u001b[0;36m<module>\u001b[0;34m()\u001b[0m\n\u001b[0;32m----> 1\u001b[0;31m \u001b[0;32mfor\u001b[0m \u001b[0mbatch\u001b[0m \u001b[0;32min\u001b[0m \u001b[0mbatcher\u001b[0m\u001b[0;34m.\u001b[0m\u001b[0mget_batches\u001b[0m\u001b[0;34m(\u001b[0m\u001b[0mMAX_STEPS\u001b[0m\u001b[0;34m,\u001b[0m \u001b[0mget_action_fn\u001b[0m\u001b[0;34m=\u001b[0m\u001b[0mpolicy\u001b[0m\u001b[0;34m.\u001b[0m\u001b[0mget_action\u001b[0m\u001b[0;34m)\u001b[0m\u001b[0;34m:\u001b[0m\u001b[0;34m\u001b[0m\u001b[0m\n\u001b[0m\u001b[1;32m      2\u001b[0m     \u001b[0;31m###### Get batch ######\u001b[0m\u001b[0;34m\u001b[0m\u001b[0;34m\u001b[0m\u001b[0m\n\u001b[1;32m      3\u001b[0m     \u001b[0mbatch\u001b[0m \u001b[0;34m=\u001b[0m \u001b[0mbatch\u001b[0m\u001b[0;34m.\u001b[0m\u001b[0mto_tensor\u001b[0m\u001b[0;34m(\u001b[0m\u001b[0;34m)\u001b[0m\u001b[0;34m.\u001b[0m\u001b[0mconcat_batch\u001b[0m\u001b[0;34m(\u001b[0m\u001b[0;34m)\u001b[0m\u001b[0;34m\u001b[0m\u001b[0m\n\u001b[1;32m      4\u001b[0m \u001b[0;34m\u001b[0m\u001b[0m\n\u001b[1;32m      5\u001b[0m     \u001b[0;31m##### Calculate losses ######\u001b[0m\u001b[0;34m\u001b[0m\u001b[0;34m\u001b[0m\u001b[0m\n",
      "\u001b[0;32m/home/quazar/programming/machine_learning/reward/reward/batchers/base_batcher.py\u001b[0m in \u001b[0;36mget_batches\u001b[0;34m(self, max_steps, get_action_fn)\u001b[0m\n\u001b[1;32m     52\u001b[0m         \u001b[0mpbar\u001b[0m \u001b[0;34m=\u001b[0m \u001b[0mtqdm\u001b[0m\u001b[0;34m(\u001b[0m\u001b[0mtotal\u001b[0m\u001b[0;34m=\u001b[0m\u001b[0mmax_steps\u001b[0m\u001b[0;34m,\u001b[0m \u001b[0mdynamic_ncols\u001b[0m\u001b[0;34m=\u001b[0m\u001b[0;32mTrue\u001b[0m\u001b[0;34m,\u001b[0m \u001b[0munit_scale\u001b[0m\u001b[0;34m=\u001b[0m\u001b[0;32mTrue\u001b[0m\u001b[0;34m)\u001b[0m\u001b[0;34m\u001b[0m\u001b[0m\n\u001b[1;32m     53\u001b[0m         \u001b[0;32mwhile\u001b[0m \u001b[0mself\u001b[0m\u001b[0;34m.\u001b[0m\u001b[0mnum_steps\u001b[0m \u001b[0;34m<\u001b[0m \u001b[0mmax_steps\u001b[0m\u001b[0;34m:\u001b[0m\u001b[0;34m\u001b[0m\u001b[0m\n\u001b[0;32m---> 54\u001b[0;31m             \u001b[0;32myield\u001b[0m \u001b[0mself\u001b[0m\u001b[0;34m.\u001b[0m\u001b[0mget_batch\u001b[0m\u001b[0;34m(\u001b[0m\u001b[0mget_action_fn\u001b[0m\u001b[0;34m=\u001b[0m\u001b[0mget_action_fn\u001b[0m\u001b[0;34m)\u001b[0m\u001b[0;34m\u001b[0m\u001b[0m\n\u001b[0m\u001b[1;32m     55\u001b[0m             \u001b[0mpbar\u001b[0m\u001b[0;34m.\u001b[0m\u001b[0mupdate\u001b[0m\u001b[0;34m(\u001b[0m\u001b[0mself\u001b[0m\u001b[0;34m.\u001b[0m\u001b[0mnum_steps\u001b[0m \u001b[0;34m-\u001b[0m \u001b[0mpbar\u001b[0m\u001b[0;34m.\u001b[0m\u001b[0mn\u001b[0m\u001b[0;34m)\u001b[0m\u001b[0;34m\u001b[0m\u001b[0m\n\u001b[1;32m     56\u001b[0m \u001b[0;34m\u001b[0m\u001b[0m\n",
      "\u001b[0;32m/home/quazar/programming/machine_learning/reward/reward/batchers/replay_batcher.py\u001b[0m in \u001b[0;36mget_batch\u001b[0;34m(self, get_action_fn)\u001b[0m\n\u001b[1;32m     64\u001b[0m                 \u001b[0;31m# TODO: Maybe the array can live in pinned memory?\u001b[0m\u001b[0;34m\u001b[0m\u001b[0;34m\u001b[0m\u001b[0m\n\u001b[1;32m     65\u001b[0m                 \u001b[0mstate_t\u001b[0m \u001b[0;34m=\u001b[0m \u001b[0mU\u001b[0m\u001b[0;34m.\u001b[0m\u001b[0mto_tensor\u001b[0m\u001b[0;34m(\u001b[0m\u001b[0mU\u001b[0m\u001b[0;34m.\u001b[0m\u001b[0mto_np\u001b[0m\u001b[0;34m(\u001b[0m\u001b[0mself\u001b[0m\u001b[0;34m.\u001b[0m\u001b[0mstate_t\u001b[0m\u001b[0;34m)\u001b[0m\u001b[0;34m)\u001b[0m\u001b[0;34m\u001b[0m\u001b[0m\n\u001b[0;32m---> 66\u001b[0;31m                 \u001b[0maction\u001b[0m \u001b[0;34m=\u001b[0m \u001b[0mget_action_fn\u001b[0m\u001b[0;34m(\u001b[0m\u001b[0mstate_t\u001b[0m\u001b[0;34m,\u001b[0m \u001b[0mself\u001b[0m\u001b[0;34m.\u001b[0m\u001b[0mnum_steps\u001b[0m\u001b[0;34m)\u001b[0m\u001b[0;34m\u001b[0m\u001b[0m\n\u001b[0m\u001b[1;32m     67\u001b[0m \u001b[0;34m\u001b[0m\u001b[0m\n\u001b[1;32m     68\u001b[0m                 \u001b[0mstate_tp1\u001b[0m\u001b[0;34m,\u001b[0m \u001b[0mreward\u001b[0m\u001b[0;34m,\u001b[0m \u001b[0mdone\u001b[0m\u001b[0;34m,\u001b[0m \u001b[0minfo\u001b[0m \u001b[0;34m=\u001b[0m \u001b[0mself\u001b[0m\u001b[0;34m.\u001b[0m\u001b[0mrunner\u001b[0m\u001b[0;34m.\u001b[0m\u001b[0mact\u001b[0m\u001b[0;34m(\u001b[0m\u001b[0maction\u001b[0m\u001b[0;34m)\u001b[0m\u001b[0;34m\u001b[0m\u001b[0m\n",
      "\u001b[0;32m<ipython-input-8-48f9db7c3dbc>\u001b[0m in \u001b[0;36mget_action\u001b[0;34m(self, state, step)\u001b[0m\n\u001b[1;32m      8\u001b[0m         \u001b[0mdist\u001b[0m \u001b[0;34m=\u001b[0m \u001b[0mself\u001b[0m\u001b[0;34m.\u001b[0m\u001b[0mcreate_dist\u001b[0m\u001b[0;34m(\u001b[0m\u001b[0mstate\u001b[0m\u001b[0;34m=\u001b[0m\u001b[0mstate\u001b[0m\u001b[0;34m)\u001b[0m\u001b[0;34m\u001b[0m\u001b[0m\n\u001b[1;32m      9\u001b[0m         \u001b[0maction\u001b[0m \u001b[0;34m=\u001b[0m \u001b[0mU\u001b[0m\u001b[0;34m.\u001b[0m\u001b[0mto_np\u001b[0m\u001b[0;34m(\u001b[0m\u001b[0mdist\u001b[0m\u001b[0;34m.\u001b[0m\u001b[0msample\u001b[0m\u001b[0;34m(\u001b[0m\u001b[0;34m)\u001b[0m\u001b[0;34m)\u001b[0m\u001b[0;34m\u001b[0m\u001b[0m\n\u001b[0;32m---> 10\u001b[0;31m         \u001b[0;32massert\u001b[0m \u001b[0;32mnot\u001b[0m \u001b[0mnp\u001b[0m\u001b[0;34m.\u001b[0m\u001b[0misnan\u001b[0m\u001b[0;34m(\u001b[0m\u001b[0maction\u001b[0m\u001b[0;34m)\u001b[0m\u001b[0;34m.\u001b[0m\u001b[0many\u001b[0m\u001b[0;34m(\u001b[0m\u001b[0;34m)\u001b[0m\u001b[0;34m\u001b[0m\u001b[0m\n\u001b[0m\u001b[1;32m     11\u001b[0m         \u001b[0;32mreturn\u001b[0m \u001b[0maction\u001b[0m\u001b[0;34m\u001b[0m\u001b[0m\n",
      "\u001b[0;31mAssertionError\u001b[0m: "
     ]
    }
   ],
   "source": [
    "for batch in batcher.get_batches(MAX_STEPS, get_action_fn=policy.get_action):\n",
    "    ###### Get batch ######\n",
    "    batch = batch.to_tensor().concat_batch()\n",
    "\n",
    "    ##### Calculate losses ######\n",
    "    q1_batch = q1_nn((batch.state_t, batch.action))\n",
    "    q2_batch = q2_nn((batch.state_t, batch.action))\n",
    "    v_batch = v_nn(batch.state_t)\n",
    "    \n",
    "    dist = policy.create_dist(batch.state_t)\n",
    "    if REPAR:\n",
    "        action, pre_tanh_action = dist.rsample_with_pre()\n",
    "    else:\n",
    "        action, pre_tanh_action = dist.sample_with_pre()\n",
    "    log_prob = dist.log_prob(action).sum(-1, keepdim=True)\n",
    "    \n",
    "    # Q loss\n",
    "    v_target_tp1 = v_nn_target(batch.state_tp1)\n",
    "    q_value_tp1 = U.estimators.td_target(rewards=batch.reward, dones=batch.done,\n",
    "                                         v_tp1=v_target_tp1, gamma=GAMMA)\n",
    "    q1_loss = F.mse_loss(q1_batch, q_value_tp1.detach())\n",
    "    q2_loss = F.mse_loss(q2_batch, q_value_tp1.detach())\n",
    "\n",
    "    # V loss    \n",
    "    q1_new_t = q1_nn((batch.state_t, action))\n",
    "    q2_new_t = q2_nn((batch.state_t, action))\n",
    "    q_new_t = torch.min(q1_new_t, q2_new_t)\n",
    "    next_value = q_new_t - log_prob\n",
    "    v_loss = F.mse_loss(v_batch, next_value.detach())\n",
    "\n",
    "    # Policy loss\n",
    "    if REPAR:\n",
    "        p_loss = (log_prob - q_new_t).mean()\n",
    "    else:\n",
    "        next_log_prob = q1_new_t - v_batch\n",
    "        p_loss = (log_prob * (log_prob - next_log_prob).detach()).mean()\n",
    "    # Policy regularization losses\n",
    "    mean_loss = 1e-3 * dist.loc.pow(2).mean()\n",
    "    log_std_loss = 1e-3 * dist.scale.log().pow(2).mean()\n",
    "    pre_tanh_loss = 0 * pre_tanh_action.pow(2).sum(1).mean()\n",
    "    # Combine all losses\n",
    "    p_loss += mean_loss + log_std_loss + pre_tanh_loss\n",
    "\n",
    "    ###### Optimize ######\n",
    "    q1_opt.zero_grad()\n",
    "    q1_loss.backward()\n",
    "    q1_grad = torch.nn.utils.clip_grad_norm_(q1_nn.parameters(), CLIP_GRAD)\n",
    "    q1_opt.step()\n",
    "    \n",
    "    q2_opt.zero_grad()\n",
    "    q2_loss.backward()\n",
    "    q2_grad = torch.nn.utils.clip_grad_norm_(q2_nn.parameters(), CLIP_GRAD)\n",
    "    q2_opt.step()\n",
    "\n",
    "    v_opt.zero_grad()\n",
    "    v_loss.backward()\n",
    "    v_grad = torch.nn.utils.clip_grad_norm_(v_nn.parameters(), CLIP_GRAD)\n",
    "    v_opt.step()\n",
    "\n",
    "    p_opt.zero_grad()\n",
    "    p_loss.backward()\n",
    "    p_grad = torch.nn.utils.clip_grad_norm_(p_nn.parameters(), CLIP_GRAD)\n",
    "    p_opt.step()\n",
    "\n",
    "    ###### Update target value network ######\n",
    "    U.copy_weights(from_nn=v_nn, to_nn=v_nn_target, weight=TARGET_UP_WEIGHT)\n",
    "    \n",
    "    ###### Write logs ######\n",
    "    if batcher.num_steps % 2000 == 0 and batcher.runner.rewards:\n",
    "        batcher.write_logs(logger)        \n",
    "        \n",
    "        logger.add_log('policy/loss', p_loss)\n",
    "        logger.add_log('v/loss', v_loss)\n",
    "        logger.add_log('q1/loss', q1_loss)\n",
    "        logger.add_log('q2/loss', q2_loss)\n",
    "        \n",
    "        logger.add_log('policy/grad', p_grad)\n",
    "        logger.add_log('v/grad', v_grad)\n",
    "        logger.add_log('q1/grad', q1_grad)\n",
    "        logger.add_log('q2/grad', q2_grad)\n",
    "        \n",
    "        logger.add_histogram('policy/log_prob', log_prob)\n",
    "        logger.add_histogram('policy/mean', dist.loc)\n",
    "        logger.add_histogram('policy/std', dist.scale.exp())\n",
    "        logger.add_histogram('v/value', v_batch)\n",
    "        logger.add_histogram('q1/value', q1_batch)\n",
    "        logger.add_histogram('q2/value', q2_batch)\n",
    "        \n",
    "        logger.log(step=batcher.num_steps)"
   ]
  }
 ],
 "metadata": {
  "kernelspec": {
   "display_name": "Python 3",
   "language": "python",
   "name": "python3"
  },
  "language_info": {
   "codemirror_mode": {
    "name": "ipython",
    "version": 3
   },
   "file_extension": ".py",
   "mimetype": "text/x-python",
   "name": "python",
   "nbconvert_exporter": "python",
   "pygments_lexer": "ipython3",
   "version": "3.6.5"
  }
 },
 "nbformat": 4,
 "nbformat_minor": 2
}
