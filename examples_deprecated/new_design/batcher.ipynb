{
 "cells": [
  {
   "cell_type": "code",
   "execution_count": 1,
   "metadata": {},
   "outputs": [],
   "source": [
    "import pdb\n",
    "import math\n",
    "import random\n",
    "\n",
    "import gym\n",
    "import numpy as np\n",
    "import reward as tr\n",
    "import reward.utils as U\n",
    "\n",
    "import torch\n",
    "import torch.nn as nn\n",
    "import torch.optim as optim\n",
    "import torch.nn.functional as F\n",
    "from torch.distributions import Normal\n",
    "from collections import defaultdict\n",
    "\n",
    "import reward as tr"
   ]
  },
  {
   "cell_type": "code",
   "execution_count": 2,
   "metadata": {},
   "outputs": [],
   "source": [
    "from IPython.display import clear_output\n",
    "import matplotlib.pyplot as plt\n",
    "%matplotlib inline"
   ]
  },
  {
   "cell_type": "code",
   "execution_count": 3,
   "metadata": {},
   "outputs": [],
   "source": [
    "MAX_STEPS  = 4e6\n",
    "CLIP_GRAD = 0.5"
   ]
  },
  {
   "cell_type": "markdown",
   "metadata": {},
   "source": [
    "<h2>Use CUDA</h2>"
   ]
  },
  {
   "cell_type": "code",
   "execution_count": 4,
   "metadata": {},
   "outputs": [],
   "source": [
    "use_cuda = torch.cuda.is_available()\n",
    "device   = torch.device(\"cuda\" if use_cuda else \"cpu\")"
   ]
  },
  {
   "cell_type": "code",
   "execution_count": 5,
   "metadata": {},
   "outputs": [],
   "source": [
    "def plot(frame_idx, rewards):\n",
    "    clear_output(True)\n",
    "    plt.figure(figsize=(20,5))\n",
    "    plt.subplot(131)\n",
    "    plt.title('frame %s. reward: %s' % (frame_idx, rewards[-1]))\n",
    "    plt.plot(rewards)\n",
    "    plt.show()"
   ]
  },
  {
   "cell_type": "code",
   "execution_count": 6,
   "metadata": {},
   "outputs": [],
   "source": [
    "def smooth(y, box_pts):\n",
    "    box = np.ones(box_pts)/box_pts\n",
    "    y_smooth = np.convolve(y, box, mode='same')\n",
    "    return y_smooth"
   ]
  },
  {
   "cell_type": "markdown",
   "metadata": {},
   "source": [
    "<h1>Soft Actor-Critic: Off-Policy Maximum Entropy Deep Reinforcement Learning with a Stochastic Actor</h1>\n",
    "<h2><a href=\"https://arxiv.org/abs/1801.01290\">Arxiv</a></h2>"
   ]
  },
  {
   "cell_type": "code",
   "execution_count": 7,
   "metadata": {},
   "outputs": [],
   "source": [
    "class ValueNetwork(nn.Module):\n",
    "    def __init__(self, state_dim, hidden_dim, init_w=3e-3):\n",
    "        super(ValueNetwork, self).__init__()\n",
    "        \n",
    "        self.linear1 = nn.Linear(state_dim, hidden_dim)\n",
    "        self.linear2 = nn.Linear(hidden_dim, hidden_dim)\n",
    "        self.linear3 = nn.Linear(hidden_dim, 1)\n",
    "        \n",
    "        self.linear3.weight.data.uniform_(-init_w, init_w)\n",
    "        self.linear3.bias.data.uniform_(-init_w, init_w)\n",
    "        \n",
    "    def forward(self, state):\n",
    "        x = F.relu(self.linear1(state))\n",
    "        x = F.relu(self.linear2(x))\n",
    "        x = self.linear3(x)\n",
    "        return x\n",
    "        \n",
    "        \n",
    "class SoftQNetwork(nn.Module):\n",
    "    def __init__(self, num_inputs, num_actions, hidden_size, init_w=3e-3):\n",
    "        super(SoftQNetwork, self).__init__()\n",
    "        \n",
    "        self.linear1 = nn.Linear(num_inputs + num_actions, hidden_size)\n",
    "        self.linear2 = nn.Linear(hidden_size, hidden_size)\n",
    "        self.linear3 = nn.Linear(hidden_size, 1)\n",
    "        \n",
    "        self.linear3.weight.data.uniform_(-init_w, init_w)\n",
    "        self.linear3.bias.data.uniform_(-init_w, init_w)\n",
    "        \n",
    "    def forward(self, state, action):\n",
    "        x = torch.cat([state, action], 1)\n",
    "        x = F.relu(self.linear1(x))\n",
    "        x = F.relu(self.linear2(x))\n",
    "        x = self.linear3(x)\n",
    "        return x\n",
    "        \n",
    "        \n",
    "class PolicyNetwork(nn.Module):\n",
    "    def __init__(self, num_inputs, num_actions, hidden_size, init_w=3e-3, log_std_min=-20, log_std_max=2):\n",
    "        super(PolicyNetwork, self).__init__()\n",
    "        \n",
    "        self.log_std_min = log_std_min\n",
    "        self.log_std_max = log_std_max\n",
    "        \n",
    "        self.linear1 = nn.Linear(num_inputs, hidden_size)\n",
    "        self.linear2 = nn.Linear(hidden_size, hidden_size)\n",
    "        \n",
    "        self.mean_linear = nn.Linear(hidden_size, num_actions)\n",
    "        self.mean_linear.weight.data.uniform_(-init_w, init_w)\n",
    "        self.mean_linear.bias.data.uniform_(-init_w, init_w)\n",
    "        \n",
    "        self.log_std_linear = nn.Linear(hidden_size, num_actions)\n",
    "        self.log_std_linear.weight.data.uniform_(-init_w, init_w)\n",
    "        self.log_std_linear.bias.data.uniform_(-init_w, init_w)\n",
    "        \n",
    "    def forward(self, state):\n",
    "        x = F.relu(self.linear1(state))\n",
    "        x = F.relu(self.linear2(x))\n",
    "        \n",
    "        mean    = self.mean_linear(x)\n",
    "        log_std = self.log_std_linear(x)\n",
    "        log_std = torch.clamp(log_std, self.log_std_min, self.log_std_max)\n",
    "        \n",
    "        return mean, log_std\n",
    "    \n",
    "    def evaluate(self, state, epsilon=1e-6):\n",
    "        mean, log_std = self.forward(state)\n",
    "        std = log_std.exp()\n",
    "        \n",
    "        normal = Normal(mean, std)\n",
    "        z = normal.sample()\n",
    "        action = torch.tanh(z)\n",
    "        \n",
    "        log_prob = normal.log_prob(z) - torch.log(1 - action.pow(2) + epsilon)\n",
    "        log_prob = log_prob.sum(-1, keepdim=True)\n",
    "        \n",
    "        return action, log_prob, z, mean, log_std\n",
    "        \n",
    "    \n",
    "    def get_action(self, state, step):\n",
    "        mean, log_std = self.forward(state)\n",
    "        std = log_std.exp()\n",
    "        \n",
    "        normal = Normal(mean, std)\n",
    "        z      = normal.sample()\n",
    "        action = torch.tanh(z)\n",
    "        \n",
    "        # TODO\n",
    "        action  = action.detach().cpu().numpy()\n",
    "        return action"
   ]
  },
  {
   "cell_type": "code",
   "execution_count": 8,
   "metadata": {},
   "outputs": [],
   "source": [
    "def soft_q_update(batch, \n",
    "           gamma=0.99,\n",
    "           mean_lambda=1e-3,\n",
    "           std_lambda=1e-3,\n",
    "           z_lambda=0.0,\n",
    "           soft_tau=1e-2,\n",
    "           frame_idx=0,\n",
    "           logger=None,            \n",
    "          ):\n",
    "    state, action, reward, next_state, done = batch.state_t, batch.action, batch.reward, batch.state_tp1, batch.done\n",
    "\n",
    "    expected_q_value = soft_q_net(state, action)\n",
    "    expected_value   = value_net(state)\n",
    "    new_action, log_prob, z, mean, log_std = policy_net.evaluate(state)\n",
    "\n",
    "\n",
    "    target_value = target_value_net(next_state)\n",
    "    next_q_value = reward + (1 - done) * gamma * target_value\n",
    "    q_value_loss = soft_q_criterion(expected_q_value, next_q_value.detach())\n",
    "\n",
    "    expected_new_q_value = soft_q_net(state, new_action)\n",
    "    next_value = expected_new_q_value - log_prob\n",
    "    value_loss = value_criterion(expected_value, next_value.detach())\n",
    "\n",
    "    log_prob_target = expected_new_q_value - expected_value\n",
    "    policy_loss = (log_prob * (log_prob - log_prob_target).detach()).mean()\n",
    "    \n",
    "\n",
    "    mean_loss = mean_lambda * mean.pow(2).mean()\n",
    "    std_loss  = std_lambda  * log_std.pow(2).mean()\n",
    "    z_loss    = z_lambda    * z.pow(2).sum(1).mean()\n",
    "\n",
    "    policy_loss += mean_loss + std_loss + z_loss\n",
    "\n",
    "    soft_q_optimizer.zero_grad()\n",
    "    q_value_loss.backward()\n",
    "    q_grad = torch.nn.utils.clip_grad_norm_(soft_q_net.parameters(), CLIP_GRAD)\n",
    "    soft_q_optimizer.step()\n",
    "\n",
    "    value_optimizer.zero_grad()\n",
    "    value_loss.backward()\n",
    "    v_grad = torch.nn.utils.clip_grad_norm_(value_net.parameters(), CLIP_GRAD)\n",
    "    value_optimizer.step()\n",
    "\n",
    "    policy_optimizer.zero_grad()\n",
    "    policy_loss.backward()\n",
    "    p_grad = torch.nn.utils.clip_grad_norm_(policy_net.parameters(), CLIP_GRAD)\n",
    "    policy_optimizer.step()\n",
    "    \n",
    "    \n",
    "    for target_param, param in zip(target_value_net.parameters(), value_net.parameters()):\n",
    "        target_param.data.copy_(\n",
    "            target_param.data * (1.0 - soft_tau) + param.data * soft_tau\n",
    "        )\n",
    "\n",
    "    if frame_idx % 1000 == 0:\n",
    "        # Store information\n",
    "        logger.add_log('policy/loss', policy_loss)\n",
    "        logger.add_log('v/loss', value_loss)\n",
    "        logger.add_log('q/loss', q_value_loss)\n",
    "        \n",
    "        logger.add_log('policy/grad', p_grad)\n",
    "        logger.add_log('v/grad', v_grad)\n",
    "        logger.add_log('q/grad', q_grad)\n",
    "        \n",
    "        logger.add_histogram('policy/log_prob', log_prob)\n",
    "        logger.add_histogram('V', expected_value)\n",
    "        logger.add_histogram('Q', expected_q_value)"
   ]
  },
  {
   "cell_type": "code",
   "execution_count": 9,
   "metadata": {},
   "outputs": [
    {
     "name": "stdout",
     "output_type": "stream",
     "text": [
      "Choosing the latest nvidia driver: /usr/lib/nvidia-390, among ['/usr/lib/nvidia-375', '/usr/lib/nvidia-390']\n",
      "Choosing the latest nvidia driver: /usr/lib/nvidia-390, among ['/usr/lib/nvidia-375', '/usr/lib/nvidia-390']\n"
     ]
    },
    {
     "name": "stderr",
     "output_type": "stream",
     "text": [
      "100%|██████████| 500/500 [00:00<00:00, 4266.41it/s]"
     ]
    },
    {
     "name": "stdout",
     "output_type": "stream",
     "text": [
      "\u001b[33mWARN: gym.spaces.Box autodetected dtype as <class 'numpy.float32'>. Please provide explicit dtype.\u001b[0m\n",
      "\u001b[33mWARN: gym.spaces.Box autodetected dtype as <class 'numpy.float32'>. Please provide explicit dtype.\u001b[0m\n",
      "Populating Replay Buffer...\n"
     ]
    },
    {
     "name": "stderr",
     "output_type": "stream",
     "text": [
      "\n"
     ]
    }
   ],
   "source": [
    "env = tr.envs.GymEnv(\"HalfCheetah-v2\")\n",
    "env = tr.envs.wrappers.ActionBound(env)\n",
    "runner = tr.runners.SingleRunner(env)\n",
    "batcher = tr.batchers.ReplayBatcher(\n",
    "    runner=runner,\n",
    "    batch_size=128,\n",
    "    replay_buffer_maxlen=1e6,\n",
    "    learning_freq=1,\n",
    "    grad_steps_per_batch=1,\n",
    "    init_replays=500 / 1e6,\n",
    ")\n",
    "\n",
    "action_dim = env.action_info.shape[0]\n",
    "state_dim = env.state_info.shape[0]"
   ]
  },
  {
   "cell_type": "code",
   "execution_count": 10,
   "metadata": {},
   "outputs": [],
   "source": [
    "hidden_dim = 256\n",
    "\n",
    "value_net        = ValueNetwork(state_dim, hidden_dim).to(device)\n",
    "target_value_net = ValueNetwork(state_dim, hidden_dim).to(device)\n",
    "\n",
    "soft_q_net = SoftQNetwork(state_dim, action_dim, hidden_dim).to(device)\n",
    "policy_net = PolicyNetwork(state_dim, action_dim, hidden_dim).to(device)\n",
    "\n",
    "for target_param, param in zip(target_value_net.parameters(), value_net.parameters()):\n",
    "    target_param.data.copy_(param.data)\n",
    "    \n",
    "\n",
    "value_criterion  = nn.MSELoss()\n",
    "soft_q_criterion = nn.MSELoss()\n",
    "\n",
    "value_lr  = 3e-4\n",
    "soft_q_lr = 3e-4\n",
    "policy_lr = 3e-4\n",
    "\n",
    "value_optimizer  = optim.Adam(value_net.parameters(), lr=value_lr)\n",
    "soft_q_optimizer = optim.Adam(soft_q_net.parameters(), lr=soft_q_lr)\n",
    "policy_optimizer = optim.Adam(policy_net.parameters(), lr=policy_lr)"
   ]
  },
  {
   "cell_type": "code",
   "execution_count": 11,
   "metadata": {},
   "outputs": [
    {
     "name": "stdout",
     "output_type": "stream",
     "text": [
      "Writing logs to: logs/halfcheetah/batcher-grad0.5-v0-1\n"
     ]
    }
   ],
   "source": [
    "logger = U.Logger('logs/halfcheetah/batcher-grad0.5-v0-1')"
   ]
  },
  {
   "cell_type": "code",
   "execution_count": null,
   "metadata": {
    "scrolled": true
   },
   "outputs": [
    {
     "name": "stderr",
     "output_type": "stream",
     "text": [
      "  0%|          | 996/4.00M [00:09<21:07:00, 52.6it/s]/home/quazar/anaconda3/envs/reward_up/lib/python3.6/site-packages/numpy/core/fromnumeric.py:2957: RuntimeWarning: Mean of empty slice.\n",
      "  out=out, **kwargs)\n",
      "/home/quazar/anaconda3/envs/reward_up/lib/python3.6/site-packages/numpy/core/_methods.py:80: RuntimeWarning: invalid value encountered in double_scalars\n",
      "  ret = ret.dtype.type(ret / rcount)\n",
      "  0%|          | 1.01k/4.00M [00:10<24:42:24, 45.0it/s]"
     ]
    },
    {
     "name": "stdout",
     "output_type": "stream",
     "text": [
      "\n",
      "--------------------------------------------------------------\n",
      "policy/loss                                            |  1.47\n",
      "v/loss                                                 |  1.40\n",
      "q/loss                                                 |  0.45\n",
      "policy/grad                                            |  3.04\n",
      "v/grad                                                 | 13.58\n",
      "q/grad                                                 |  3.43\n",
      "Env/Reward/Episode (New)                               |   nan\n",
      "Env/Length/Episode (New)                               |   nan\n",
      "Env/Reward/Episode (Last 50)                           |   nan\n",
      "Env/Length/Episode (Last 50)                           |   nan\n",
      "--------------------------------------------------------------\n"
     ]
    },
    {
     "name": "stderr",
     "output_type": "stream",
     "text": [
      "  0%|          | 2.01k/4.00M [00:29<22:35:55, 49.1it/s]"
     ]
    },
    {
     "name": "stdout",
     "output_type": "stream",
     "text": [
      "\n",
      "--------------------------------------------------------------\n",
      "policy/loss                                          |    0.47\n",
      "v/loss                                               |    1.18\n",
      "q/loss                                               |    1.19\n",
      "policy/grad                                          |    2.62\n",
      "v/grad                                               |   32.13\n",
      "q/grad                                               |   18.48\n",
      "Env/Reward/Episode (New)                             | -357.24\n",
      "Env/Length/Episode (New)                             | 1500.00\n",
      "Env/Reward/Episode (Last 50)                         | -357.24\n",
      "Env/Length/Episode (Last 50)                         | 1500.00\n",
      "--------------------------------------------------------------\n"
     ]
    },
    {
     "name": "stderr",
     "output_type": "stream",
     "text": [
      "  0%|          | 3.01k/4.00M [00:48<21:50:23, 50.8it/s]"
     ]
    },
    {
     "name": "stdout",
     "output_type": "stream",
     "text": [
      "\n",
      "--------------------------------------------------------------\n",
      "policy/loss                                          |    0.35\n",
      "v/loss                                               |    2.05\n",
      "q/loss                                               |    1.98\n",
      "policy/grad                                          |    3.08\n",
      "v/grad                                               |   68.67\n",
      "q/grad                                               |   41.43\n",
      "Env/Reward/Episode (New)                             | -313.77\n",
      "Env/Length/Episode (New)                             | 1000.00\n",
      "Env/Reward/Episode (Last 50)                         | -335.51\n",
      "Env/Length/Episode (Last 50)                         | 1250.00\n",
      "--------------------------------------------------------------\n"
     ]
    },
    {
     "name": "stderr",
     "output_type": "stream",
     "text": [
      "  0%|          | 4.00k/4.00M [01:07<19:14:25, 57.7it/s]"
     ]
    },
    {
     "name": "stdout",
     "output_type": "stream",
     "text": [
      "\n",
      "--------------------------------------------------------------\n",
      "policy/loss                                          |    0.34\n",
      "v/loss                                               |    3.21\n",
      "q/loss                                               |    3.56\n",
      "policy/grad                                          |    3.98\n",
      "v/grad                                               |  115.66\n",
      "q/grad                                               |   74.53\n",
      "Env/Reward/Episode (New)                             | -487.78\n",
      "Env/Length/Episode (New)                             | 1000.00\n",
      "Env/Reward/Episode (Last 50)                         | -386.26\n",
      "Env/Length/Episode (Last 50)                         | 1166.67\n",
      "--------------------------------------------------------------\n"
     ]
    },
    {
     "name": "stderr",
     "output_type": "stream",
     "text": [
      "  0%|          | 5.01k/4.00M [01:27<23:29:54, 47.2it/s]"
     ]
    },
    {
     "name": "stdout",
     "output_type": "stream",
     "text": [
      "\n",
      "--------------------------------------------------------------\n",
      "policy/loss                                          |    0.31\n",
      "v/loss                                               |    4.58\n",
      "q/loss                                               |    5.44\n",
      "policy/grad                                          |    5.14\n",
      "v/grad                                               |  170.03\n",
      "q/grad                                               |  109.21\n",
      "Env/Reward/Episode (New)                             | -289.56\n",
      "Env/Length/Episode (New)                             | 1000.00\n",
      "Env/Reward/Episode (Last 50)                         | -362.09\n",
      "Env/Length/Episode (Last 50)                         | 1125.00\n",
      "--------------------------------------------------------------\n"
     ]
    },
    {
     "name": "stderr",
     "output_type": "stream",
     "text": [
      "  0%|          | 6.01k/4.00M [01:46<20:53:23, 53.1it/s]"
     ]
    },
    {
     "name": "stdout",
     "output_type": "stream",
     "text": [
      "\n",
      "--------------------------------------------------------------\n",
      "policy/loss                                          |    0.31\n",
      "v/loss                                               |    5.71\n",
      "q/loss                                               |    7.62\n",
      "policy/grad                                          |    5.95\n",
      "v/grad                                               |  226.79\n",
      "q/grad                                               |  146.71\n",
      "Env/Reward/Episode (New)                             | -333.23\n",
      "Env/Length/Episode (New)                             | 1000.00\n",
      "Env/Reward/Episode (Last 50)                         | -356.31\n",
      "Env/Length/Episode (Last 50)                         | 1100.00\n",
      "--------------------------------------------------------------\n"
     ]
    },
    {
     "name": "stderr",
     "output_type": "stream",
     "text": [
      "  0%|          | 7.00k/4.00M [02:05<22:21:38, 49.6it/s]"
     ]
    },
    {
     "name": "stdout",
     "output_type": "stream",
     "text": [
      "\n",
      "--------------------------------------------------------------\n",
      "policy/loss                                          |    0.29\n",
      "v/loss                                               |    6.74\n",
      "q/loss                                               |   10.26\n",
      "policy/grad                                          |    6.41\n",
      "v/grad                                               |  278.88\n",
      "q/grad                                               |  187.38\n",
      "Env/Reward/Episode (New)                             | -308.46\n",
      "Env/Length/Episode (New)                             | 1000.00\n",
      "Env/Reward/Episode (Last 50)                         | -348.34\n",
      "Env/Length/Episode (Last 50)                         | 1083.33\n",
      "--------------------------------------------------------------\n"
     ]
    },
    {
     "name": "stderr",
     "output_type": "stream",
     "text": [
      "  0%|          | 8.01k/4.00M [02:24<21:52:00, 50.7it/s]"
     ]
    },
    {
     "name": "stdout",
     "output_type": "stream",
     "text": [
      "\n",
      "--------------------------------------------------------------\n",
      "policy/loss                                          |    0.18\n",
      "v/loss                                               |    7.78\n",
      "q/loss                                               |   12.26\n",
      "policy/grad                                          |    7.11\n",
      "v/grad                                               |  337.33\n",
      "q/grad                                               |  228.48\n",
      "Env/Reward/Episode (New)                             | -308.92\n",
      "Env/Length/Episode (New)                             | 1000.00\n",
      "Env/Reward/Episode (Last 50)                         | -342.71\n",
      "Env/Length/Episode (Last 50)                         | 1071.43\n",
      "--------------------------------------------------------------\n"
     ]
    },
    {
     "name": "stderr",
     "output_type": "stream",
     "text": [
      "  0%|          | 9.01k/4.00M [02:43<23:08:56, 47.9it/s]"
     ]
    },
    {
     "name": "stdout",
     "output_type": "stream",
     "text": [
      "\n",
      "--------------------------------------------------------------\n",
      "policy/loss                                          |    0.25\n",
      "v/loss                                               |    9.30\n",
      "q/loss                                               |   16.11\n",
      "policy/grad                                          |    7.88\n",
      "v/grad                                               |  419.37\n",
      "q/grad                                               |  283.47\n",
      "Env/Reward/Episode (New)                             | -224.74\n",
      "Env/Length/Episode (New)                             | 1000.00\n",
      "Env/Reward/Episode (Last 50)                         | -327.96\n",
      "Env/Length/Episode (Last 50)                         | 1062.50\n",
      "--------------------------------------------------------------\n"
     ]
    },
    {
     "name": "stderr",
     "output_type": "stream",
     "text": [
      "  0%|          | 10.0k/4.00M [03:03<23:09:29, 47.9it/s]"
     ]
    },
    {
     "name": "stdout",
     "output_type": "stream",
     "text": [
      "\n",
      "--------------------------------------------------------------\n",
      "policy/loss                                          |    0.30\n",
      "v/loss                                               |    9.59\n",
      "q/loss                                               |   18.47\n",
      "policy/grad                                          |    7.90\n",
      "v/grad                                               |  450.53\n",
      "q/grad                                               |  312.66\n",
      "Env/Reward/Episode (New)                             | -162.06\n",
      "Env/Length/Episode (New)                             | 1000.00\n",
      "Env/Reward/Episode (Last 50)                         | -309.53\n",
      "Env/Length/Episode (Last 50)                         | 1055.56\n",
      "--------------------------------------------------------------\n"
     ]
    },
    {
     "name": "stderr",
     "output_type": "stream",
     "text": [
      "  0%|          | 11.0k/4.00M [03:22<22:46:59, 48.6it/s]"
     ]
    },
    {
     "name": "stdout",
     "output_type": "stream",
     "text": [
      "\n",
      "--------------------------------------------------------------\n",
      "policy/loss                                          |    0.16\n",
      "v/loss                                               |   10.07\n",
      "q/loss                                               |   20.64\n",
      "policy/grad                                          |    8.04\n",
      "v/grad                                               |  505.80\n",
      "q/grad                                               |  343.94\n",
      "Env/Reward/Episode (New)                             | -281.84\n",
      "Env/Length/Episode (New)                             | 1000.00\n",
      "Env/Reward/Episode (Last 50)                         | -306.76\n",
      "Env/Length/Episode (Last 50)                         | 1050.00\n",
      "--------------------------------------------------------------\n"
     ]
    },
    {
     "name": "stderr",
     "output_type": "stream",
     "text": [
      "  0%|          | 12.0k/4.00M [03:43<23:46:16, 46.6it/s]"
     ]
    },
    {
     "name": "stdout",
     "output_type": "stream",
     "text": [
      "\n",
      "--------------------------------------------------------------\n",
      "policy/loss                                          |    0.29\n",
      "v/loss                                               |   11.55\n",
      "q/loss                                               |   26.65\n",
      "policy/grad                                          |    8.93\n",
      "v/grad                                               |  584.25\n",
      "q/grad                                               |  402.49\n",
      "Env/Reward/Episode (New)                             | -185.89\n",
      "Env/Length/Episode (New)                             | 1000.00\n",
      "Env/Reward/Episode (Last 50)                         | -295.77\n",
      "Env/Length/Episode (Last 50)                         | 1045.45\n",
      "--------------------------------------------------------------\n"
     ]
    },
    {
     "name": "stderr",
     "output_type": "stream",
     "text": [
      "  0%|          | 13.0k/4.00M [04:03<21:29:53, 51.5it/s]"
     ]
    },
    {
     "name": "stdout",
     "output_type": "stream",
     "text": [
      "\n",
      "--------------------------------------------------------------\n",
      "policy/loss                                          |    0.27\n",
      "v/loss                                               |   11.54\n",
      "q/loss                                               |   27.43\n",
      "policy/grad                                          |    8.83\n",
      "v/grad                                               |  625.31\n",
      "q/grad                                               |  425.34\n",
      "Env/Reward/Episode (New)                             | -201.24\n",
      "Env/Length/Episode (New)                             | 1000.00\n",
      "Env/Reward/Episode (Last 50)                         | -287.89\n",
      "Env/Length/Episode (Last 50)                         | 1041.67\n",
      "--------------------------------------------------------------\n"
     ]
    },
    {
     "name": "stderr",
     "output_type": "stream",
     "text": [
      "  0%|          | 14.0k/4.00M [04:23<23:03:20, 48.0it/s]"
     ]
    },
    {
     "name": "stdout",
     "output_type": "stream",
     "text": [
      "\n",
      "--------------------------------------------------------------\n",
      "policy/loss                                          |    0.23\n",
      "v/loss                                               |   11.89\n",
      "q/loss                                               |   31.05\n",
      "policy/grad                                          |    9.09\n",
      "v/grad                                               |  673.89\n",
      "q/grad                                               |  465.31\n",
      "Env/Reward/Episode (New)                             | -147.47\n",
      "Env/Length/Episode (New)                             | 1000.00\n",
      "Env/Reward/Episode (Last 50)                         | -277.09\n",
      "Env/Length/Episode (Last 50)                         | 1038.46\n",
      "--------------------------------------------------------------\n"
     ]
    },
    {
     "name": "stderr",
     "output_type": "stream",
     "text": [
      "  0%|          | 15.0k/4.00M [04:42<19:44:56, 56.1it/s]"
     ]
    },
    {
     "name": "stdout",
     "output_type": "stream",
     "text": [
      "\n",
      "--------------------------------------------------------------\n",
      "policy/loss                                          |    0.27\n",
      "v/loss                                               |   11.97\n",
      "q/loss                                               |   31.06\n",
      "policy/grad                                          |    9.15\n",
      "v/grad                                               |  704.11\n",
      "q/grad                                               |  483.09\n",
      "Env/Reward/Episode (New)                             | -196.49\n",
      "Env/Length/Episode (New)                             | 1000.00\n",
      "Env/Reward/Episode (Last 50)                         | -271.33\n",
      "Env/Length/Episode (Last 50)                         | 1035.71\n",
      "--------------------------------------------------------------\n"
     ]
    },
    {
     "name": "stderr",
     "output_type": "stream",
     "text": [
      "  0%|          | 16.0k/4.00M [05:01<21:29:10, 51.5it/s]"
     ]
    },
    {
     "name": "stdout",
     "output_type": "stream",
     "text": [
      "\n",
      "--------------------------------------------------------------\n",
      "policy/loss                                          |    0.11\n",
      "v/loss                                               |   11.95\n",
      "q/loss                                               |   36.40\n",
      "policy/grad                                          |    8.66\n",
      "v/grad                                               |  723.94\n",
      "q/grad                                               |  514.98\n",
      "Env/Reward/Episode (New)                             | -267.54\n",
      "Env/Length/Episode (New)                             | 1000.00\n",
      "Env/Reward/Episode (Last 50)                         | -271.08\n",
      "Env/Length/Episode (Last 50)                         | 1033.33\n",
      "--------------------------------------------------------------\n"
     ]
    },
    {
     "name": "stderr",
     "output_type": "stream",
     "text": [
      "  0%|          | 17.0k/4.00M [05:20<20:41:13, 53.5it/s]"
     ]
    },
    {
     "name": "stdout",
     "output_type": "stream",
     "text": [
      "\n",
      "--------------------------------------------------------------\n",
      "policy/loss                                          |    0.26\n",
      "v/loss                                               |   12.12\n",
      "q/loss                                               |   37.93\n",
      "policy/grad                                          |    8.77\n",
      "v/grad                                               |  780.61\n",
      "q/grad                                               |  535.17\n",
      "Env/Reward/Episode (New)                             | -236.64\n",
      "Env/Length/Episode (New)                             | 1000.00\n",
      "Env/Reward/Episode (Last 50)                         | -268.93\n",
      "Env/Length/Episode (Last 50)                         | 1031.25\n",
      "--------------------------------------------------------------\n"
     ]
    },
    {
     "name": "stderr",
     "output_type": "stream",
     "text": [
      "  0%|          | 18.0k/4.00M [05:39<23:33:27, 47.0it/s]"
     ]
    },
    {
     "name": "stdout",
     "output_type": "stream",
     "text": [
      "\n",
      "--------------------------------------------------------------\n",
      "policy/loss                                          |    0.23\n",
      "v/loss                                               |   12.73\n",
      "q/loss                                               |   41.19\n",
      "policy/grad                                          |    8.83\n",
      "v/grad                                               |  837.44\n",
      "q/grad                                               |  579.60\n",
      "Env/Reward/Episode (New)                             |  -93.05\n",
      "Env/Length/Episode (New)                             | 1000.00\n",
      "Env/Reward/Episode (Last 50)                         | -258.58\n",
      "Env/Length/Episode (Last 50)                         | 1029.41\n",
      "--------------------------------------------------------------\n"
     ]
    },
    {
     "name": "stderr",
     "output_type": "stream",
     "text": [
      "  0%|          | 19.0k/4.00M [05:59<23:05:22, 47.9it/s]"
     ]
    },
    {
     "name": "stdout",
     "output_type": "stream",
     "text": [
      "\n",
      "--------------------------------------------------------------\n",
      "policy/loss                                          |    0.31\n",
      "v/loss                                               |   13.35\n",
      "q/loss                                               |   45.91\n",
      "policy/grad                                          |    8.71\n",
      "v/grad                                               |  896.05\n",
      "q/grad                                               |  624.15\n",
      "Env/Reward/Episode (New)                             | -276.05\n",
      "Env/Length/Episode (New)                             | 1000.00\n",
      "Env/Reward/Episode (Last 50)                         | -259.55\n",
      "Env/Length/Episode (Last 50)                         | 1027.78\n",
      "--------------------------------------------------------------\n"
     ]
    },
    {
     "name": "stderr",
     "output_type": "stream",
     "text": [
      "  1%|          | 20.0k/4.00M [06:18<23:12:00, 47.7it/s]"
     ]
    },
    {
     "name": "stdout",
     "output_type": "stream",
     "text": [
      "\n",
      "--------------------------------------------------------------\n",
      "policy/loss                                          |    0.24\n",
      "v/loss                                               |   12.44\n",
      "q/loss                                               |   44.48\n",
      "policy/grad                                          |    8.36\n",
      "v/grad                                               |  887.60\n",
      "q/grad                                               |  603.51\n",
      "Env/Reward/Episode (New)                             | -230.66\n",
      "Env/Length/Episode (New)                             | 1000.00\n",
      "Env/Reward/Episode (Last 50)                         | -258.03\n",
      "Env/Length/Episode (Last 50)                         | 1026.32\n",
      "--------------------------------------------------------------\n"
     ]
    },
    {
     "name": "stderr",
     "output_type": "stream",
     "text": [
      "  1%|          | 21.0k/4.00M [06:37<20:07:00, 54.9it/s]"
     ]
    },
    {
     "name": "stdout",
     "output_type": "stream",
     "text": [
      "\n",
      "--------------------------------------------------------------\n",
      "policy/loss                                          |    0.19\n",
      "v/loss                                               |   12.50\n",
      "q/loss                                               |   42.17\n",
      "policy/grad                                          |    8.38\n",
      "v/grad                                               |  909.52\n",
      "q/grad                                               |  620.16\n",
      "Env/Reward/Episode (New)                             | -268.07\n",
      "Env/Length/Episode (New)                             | 1000.00\n",
      "Env/Reward/Episode (Last 50)                         | -258.53\n",
      "Env/Length/Episode (Last 50)                         | 1025.00\n",
      "--------------------------------------------------------------\n"
     ]
    },
    {
     "name": "stderr",
     "output_type": "stream",
     "text": [
      "  1%|          | 22.0k/4.00M [06:56<19:47:48, 55.8it/s]"
     ]
    },
    {
     "name": "stdout",
     "output_type": "stream",
     "text": [
      "\n",
      "--------------------------------------------------------------\n",
      "policy/loss                                          |    0.15\n",
      "v/loss                                               |   12.26\n",
      "q/loss                                               |   49.49\n",
      "policy/grad                                          |    8.22\n",
      "v/grad                                               |  952.95\n",
      "q/grad                                               |  656.34\n",
      "Env/Reward/Episode (New)                             | -238.89\n",
      "Env/Length/Episode (New)                             | 1000.00\n",
      "Env/Reward/Episode (Last 50)                         | -257.60\n",
      "Env/Length/Episode (Last 50)                         | 1023.81\n",
      "--------------------------------------------------------------\n"
     ]
    },
    {
     "name": "stderr",
     "output_type": "stream",
     "text": [
      "  1%|          | 23.0k/4.00M [07:16<23:06:18, 47.8it/s]"
     ]
    },
    {
     "name": "stdout",
     "output_type": "stream",
     "text": [
      "\n",
      "--------------------------------------------------------------\n",
      "policy/loss                                          |    0.19\n",
      "v/loss                                               |   12.29\n",
      "q/loss                                               |   55.03\n",
      "policy/grad                                          |    8.12\n",
      "v/grad                                               |  975.88\n",
      "q/grad                                               |  690.49\n",
      "Env/Reward/Episode (New)                             | -265.45\n",
      "Env/Length/Episode (New)                             | 1000.00\n",
      "Env/Reward/Episode (Last 50)                         | -257.96\n",
      "Env/Length/Episode (Last 50)                         | 1022.73\n",
      "--------------------------------------------------------------\n"
     ]
    },
    {
     "name": "stderr",
     "output_type": "stream",
     "text": [
      "  1%|          | 24.0k/4.00M [07:35<23:10:52, 47.6it/s]"
     ]
    },
    {
     "name": "stdout",
     "output_type": "stream",
     "text": [
      "\n",
      "--------------------------------------------------------------\n",
      "policy/loss                                          |    0.25\n",
      "v/loss                                               |   12.53\n",
      "q/loss                                               |   58.77\n",
      "policy/grad                                          |    7.94\n",
      "v/grad                                               | 1028.42\n",
      "q/grad                                               |  722.32\n",
      "Env/Reward/Episode (New)                             | -286.12\n",
      "Env/Length/Episode (New)                             | 1000.00\n",
      "Env/Reward/Episode (Last 50)                         | -259.18\n",
      "Env/Length/Episode (Last 50)                         | 1021.74\n",
      "--------------------------------------------------------------\n"
     ]
    },
    {
     "name": "stderr",
     "output_type": "stream",
     "text": [
      "  1%|          | 25.0k/4.00M [07:54<20:41:26, 53.4it/s]"
     ]
    },
    {
     "name": "stdout",
     "output_type": "stream",
     "text": [
      "\n",
      "--------------------------------------------------------------\n",
      "policy/loss                                          |    0.27\n",
      "v/loss                                               |   12.49\n",
      "q/loss                                               |   61.56\n",
      "policy/grad                                          |    7.65\n",
      "v/grad                                               | 1066.95\n",
      "q/grad                                               |  757.19\n",
      "Env/Reward/Episode (New)                             | -258.89\n",
      "Env/Length/Episode (New)                             | 1000.00\n",
      "Env/Reward/Episode (Last 50)                         | -259.17\n",
      "Env/Length/Episode (Last 50)                         | 1020.83\n",
      "--------------------------------------------------------------\n"
     ]
    },
    {
     "name": "stderr",
     "output_type": "stream",
     "text": [
      "  1%|          | 26.0k/4.00M [08:15<24:10:06, 45.7it/s]"
     ]
    },
    {
     "name": "stdout",
     "output_type": "stream",
     "text": [
      "\n",
      "--------------------------------------------------------------\n",
      "policy/loss                                          |    0.17\n",
      "v/loss                                               |   11.84\n",
      "q/loss                                               |   54.58\n",
      "policy/grad                                          |    7.25\n",
      "v/grad                                               | 1036.86\n",
      "q/grad                                               |  712.29\n",
      "Env/Reward/Episode (New)                             | -225.34\n",
      "Env/Length/Episode (New)                             | 1000.00\n",
      "Env/Reward/Episode (Last 50)                         | -257.82\n",
      "Env/Length/Episode (Last 50)                         | 1020.00\n",
      "--------------------------------------------------------------\n"
     ]
    },
    {
     "name": "stderr",
     "output_type": "stream",
     "text": [
      "  1%|          | 27.0k/4.00M [08:34<24:27:49, 45.1it/s]"
     ]
    },
    {
     "name": "stdout",
     "output_type": "stream",
     "text": [
      "\n",
      "--------------------------------------------------------------\n",
      "policy/loss                                          |    0.27\n",
      "v/loss                                               |   11.49\n",
      "q/loss                                               |   57.01\n",
      "policy/grad                                          |    6.86\n",
      "v/grad                                               | 1056.94\n",
      "q/grad                                               |  725.15\n",
      "Env/Reward/Episode (New)                             | -235.14\n",
      "Env/Length/Episode (New)                             | 1000.00\n",
      "Env/Reward/Episode (Last 50)                         | -256.94\n",
      "Env/Length/Episode (Last 50)                         | 1019.23\n",
      "--------------------------------------------------------------\n"
     ]
    },
    {
     "name": "stderr",
     "output_type": "stream",
     "text": [
      "  1%|          | 28.0k/4.00M [08:54<21:56:34, 50.3it/s]"
     ]
    },
    {
     "name": "stdout",
     "output_type": "stream",
     "text": [
      "\n",
      "--------------------------------------------------------------\n",
      "policy/loss                                          |    0.15\n",
      "v/loss                                               |   11.30\n",
      "q/loss                                               |   67.47\n",
      "policy/grad                                          |    6.64\n",
      "v/grad                                               | 1069.33\n",
      "q/grad                                               |  772.83\n",
      "Env/Reward/Episode (New)                             | -290.61\n",
      "Env/Length/Episode (New)                             | 1000.00\n",
      "Env/Reward/Episode (Last 50)                         | -258.19\n",
      "Env/Length/Episode (Last 50)                         | 1018.52\n",
      "--------------------------------------------------------------\n"
     ]
    },
    {
     "name": "stderr",
     "output_type": "stream",
     "text": [
      "  1%|          | 29.0k/4.00M [09:14<22:22:56, 49.3it/s]"
     ]
    },
    {
     "name": "stdout",
     "output_type": "stream",
     "text": [
      "\n",
      "--------------------------------------------------------------\n",
      "policy/loss                                          |    0.10\n",
      "v/loss                                               |   10.70\n",
      "q/loss                                               |   58.28\n",
      "policy/grad                                          |    6.23\n",
      "v/grad                                               | 1037.15\n",
      "q/grad                                               |  730.71\n",
      "Env/Reward/Episode (New)                             | -302.24\n",
      "Env/Length/Episode (New)                             | 1000.00\n",
      "Env/Reward/Episode (Last 50)                         | -259.76\n",
      "Env/Length/Episode (Last 50)                         | 1017.86\n",
      "--------------------------------------------------------------\n"
     ]
    },
    {
     "name": "stderr",
     "output_type": "stream",
     "text": [
      "  1%|          | 30.0k/4.00M [09:34<23:33:38, 46.8it/s]"
     ]
    },
    {
     "name": "stdout",
     "output_type": "stream",
     "text": [
      "\n",
      "--------------------------------------------------------------\n",
      "policy/loss                                          |    0.12\n",
      "v/loss                                               |   11.33\n",
      "q/loss                                               |   73.20\n",
      "policy/grad                                          |    6.51\n",
      "v/grad                                               | 1117.53\n",
      "q/grad                                               |  813.60\n",
      "Env/Reward/Episode (New)                             | -285.73\n",
      "Env/Length/Episode (New)                             | 1000.00\n",
      "Env/Reward/Episode (Last 50)                         | -260.66\n",
      "Env/Length/Episode (Last 50)                         | 1017.24\n",
      "--------------------------------------------------------------\n"
     ]
    },
    {
     "name": "stderr",
     "output_type": "stream",
     "text": [
      "  1%|          | 31.0k/4.00M [09:54<22:31:25, 48.9it/s]"
     ]
    },
    {
     "name": "stdout",
     "output_type": "stream",
     "text": [
      "\n",
      "--------------------------------------------------------------\n",
      "policy/loss                                          |    0.22\n",
      "v/loss                                               |   11.73\n",
      "q/loss                                               |   82.88\n",
      "policy/grad                                          |    6.44\n",
      "v/grad                                               | 1160.81\n",
      "q/grad                                               |  881.63\n",
      "Env/Reward/Episode (New)                             | -241.75\n",
      "Env/Length/Episode (New)                             | 1000.00\n",
      "Env/Reward/Episode (Last 50)                         | -260.03\n",
      "Env/Length/Episode (Last 50)                         | 1016.67\n",
      "--------------------------------------------------------------\n"
     ]
    },
    {
     "name": "stderr",
     "output_type": "stream",
     "text": [
      "  1%|          | 32.0k/4.00M [10:12<17:30:39, 62.9it/s]"
     ]
    },
    {
     "name": "stdout",
     "output_type": "stream",
     "text": [
      "\n",
      "--------------------------------------------------------------\n",
      "policy/loss                                          |    0.17\n",
      "v/loss                                               |   12.05\n",
      "q/loss                                               |   85.20\n",
      "policy/grad                                          |    6.45\n",
      "v/grad                                               | 1211.78\n",
      "q/grad                                               |  893.74\n",
      "Env/Reward/Episode (New)                             | -252.97\n",
      "Env/Length/Episode (New)                             | 1000.00\n",
      "Env/Reward/Episode (Last 50)                         | -259.80\n",
      "Env/Length/Episode (Last 50)                         | 1016.13\n",
      "--------------------------------------------------------------\n"
     ]
    },
    {
     "name": "stderr",
     "output_type": "stream",
     "text": [
      "  1%|          | 33.0k/4.00M [10:31<22:44:30, 48.5it/s]"
     ]
    },
    {
     "name": "stdout",
     "output_type": "stream",
     "text": [
      "\n",
      "--------------------------------------------------------------\n",
      "policy/loss                                          |    0.19\n",
      "v/loss                                               |   11.39\n",
      "q/loss                                               |   78.91\n",
      "policy/grad                                          |    6.19\n",
      "v/grad                                               | 1224.95\n",
      "q/grad                                               |  888.48\n",
      "Env/Reward/Episode (New)                             | -242.21\n",
      "Env/Length/Episode (New)                             | 1000.00\n",
      "Env/Reward/Episode (Last 50)                         | -259.25\n",
      "Env/Length/Episode (Last 50)                         | 1015.62\n",
      "--------------------------------------------------------------\n"
     ]
    },
    {
     "name": "stderr",
     "output_type": "stream",
     "text": [
      "  1%|          | 34.0k/4.00M [10:50<21:17:34, 51.7it/s]"
     ]
    },
    {
     "name": "stdout",
     "output_type": "stream",
     "text": [
      "\n",
      "--------------------------------------------------------------\n",
      "policy/loss                                          |    0.10\n",
      "v/loss                                               |   10.78\n",
      "q/loss                                               |   75.37\n",
      "policy/grad                                          |    5.85\n",
      "v/grad                                               | 1174.79\n",
      "q/grad                                               |  840.75\n",
      "Env/Reward/Episode (New)                             | -246.12\n",
      "Env/Length/Episode (New)                             | 1000.00\n",
      "Env/Reward/Episode (Last 50)                         | -258.85\n",
      "Env/Length/Episode (Last 50)                         | 1015.15\n",
      "--------------------------------------------------------------\n"
     ]
    },
    {
     "name": "stderr",
     "output_type": "stream",
     "text": [
      "  1%|          | 35.0k/4.00M [11:08<20:50:52, 52.8it/s]"
     ]
    },
    {
     "name": "stdout",
     "output_type": "stream",
     "text": [
      "\n",
      "--------------------------------------------------------------\n",
      "policy/loss                                          |    0.31\n",
      "v/loss                                               |   10.44\n",
      "q/loss                                               |   71.44\n",
      "policy/grad                                          |    5.70\n",
      "v/grad                                               | 1133.48\n",
      "q/grad                                               |  830.55\n",
      "Env/Reward/Episode (New)                             | -239.42\n",
      "Env/Length/Episode (New)                             | 1000.00\n",
      "Env/Reward/Episode (Last 50)                         | -258.28\n",
      "Env/Length/Episode (Last 50)                         | 1014.71\n",
      "--------------------------------------------------------------\n"
     ]
    },
    {
     "name": "stderr",
     "output_type": "stream",
     "text": [
      "  1%|          | 36.0k/4.00M [11:28<22:32:02, 48.9it/s]"
     ]
    },
    {
     "name": "stdout",
     "output_type": "stream",
     "text": [
      "\n",
      "--------------------------------------------------------------\n",
      "policy/loss                                          |    0.23\n",
      "v/loss                                               |    9.97\n",
      "q/loss                                               |   81.01\n",
      "policy/grad                                          |    5.67\n",
      "v/grad                                               | 1162.93\n",
      "q/grad                                               |  860.08\n",
      "Env/Reward/Episode (New)                             | -271.65\n",
      "Env/Length/Episode (New)                             | 1000.00\n",
      "Env/Reward/Episode (Last 50)                         | -258.66\n",
      "Env/Length/Episode (Last 50)                         | 1014.29\n",
      "--------------------------------------------------------------\n"
     ]
    },
    {
     "name": "stderr",
     "output_type": "stream",
     "text": [
      "  1%|          | 37.0k/4.00M [11:48<23:17:00, 47.3it/s]"
     ]
    },
    {
     "name": "stdout",
     "output_type": "stream",
     "text": [
      "\n",
      "--------------------------------------------------------------\n",
      "policy/loss                                          |    0.16\n",
      "v/loss                                               |    9.95\n",
      "q/loss                                               |   80.13\n",
      "policy/grad                                          |    5.40\n",
      "v/grad                                               | 1153.53\n",
      "q/grad                                               |  893.38\n",
      "Env/Reward/Episode (New)                             | -161.89\n",
      "Env/Length/Episode (New)                             | 1000.00\n",
      "Env/Reward/Episode (Last 50)                         | -255.98\n",
      "Env/Length/Episode (Last 50)                         | 1013.89\n",
      "--------------------------------------------------------------\n"
     ]
    },
    {
     "name": "stderr",
     "output_type": "stream",
     "text": [
      "  1%|          | 38.0k/4.00M [12:07<21:50:39, 50.4it/s]"
     ]
    },
    {
     "name": "stdout",
     "output_type": "stream",
     "text": [
      "\n",
      "--------------------------------------------------------------\n",
      "policy/loss                                          |    0.35\n",
      "v/loss                                               |   10.51\n",
      "q/loss                                               |   88.86\n",
      "policy/grad                                          |    5.51\n",
      "v/grad                                               | 1225.77\n",
      "q/grad                                               |  921.37\n",
      "Env/Reward/Episode (New)                             | -169.91\n",
      "Env/Length/Episode (New)                             | 1000.00\n",
      "Env/Reward/Episode (Last 50)                         | -253.65\n",
      "Env/Length/Episode (Last 50)                         | 1013.51\n",
      "--------------------------------------------------------------\n"
     ]
    },
    {
     "name": "stderr",
     "output_type": "stream",
     "text": [
      "  1%|          | 39.0k/4.00M [12:27<22:31:56, 48.8it/s]"
     ]
    },
    {
     "name": "stdout",
     "output_type": "stream",
     "text": [
      "\n",
      "--------------------------------------------------------------\n",
      "policy/loss                                          |    0.16\n",
      "v/loss                                               |    9.84\n",
      "q/loss                                               |  102.57\n",
      "policy/grad                                          |    5.16\n",
      "v/grad                                               | 1181.95\n",
      "q/grad                                               |  959.46\n",
      "Env/Reward/Episode (New)                             | -244.72\n",
      "Env/Length/Episode (New)                             | 1000.00\n",
      "Env/Reward/Episode (Last 50)                         | -253.41\n",
      "Env/Length/Episode (Last 50)                         | 1013.16\n",
      "--------------------------------------------------------------\n"
     ]
    },
    {
     "name": "stderr",
     "output_type": "stream",
     "text": [
      "  1%|          | 40.0k/4.00M [12:47<23:27:37, 46.9it/s]"
     ]
    },
    {
     "name": "stdout",
     "output_type": "stream",
     "text": [
      "\n",
      "--------------------------------------------------------------\n",
      "policy/loss                                          |    0.18\n",
      "v/loss                                               |    9.14\n",
      "q/loss                                               |   73.77\n",
      "policy/grad                                          |    4.98\n",
      "v/grad                                               | 1145.03\n",
      "q/grad                                               |  823.72\n",
      "Env/Reward/Episode (New)                             | -210.92\n",
      "Env/Length/Episode (New)                             | 1000.00\n",
      "Env/Reward/Episode (Last 50)                         | -252.32\n",
      "Env/Length/Episode (Last 50)                         | 1012.82\n",
      "--------------------------------------------------------------\n"
     ]
    },
    {
     "name": "stderr",
     "output_type": "stream",
     "text": [
      "  1%|          | 41.0k/4.00M [13:07<23:00:55, 47.8it/s]"
     ]
    },
    {
     "name": "stdout",
     "output_type": "stream",
     "text": [
      "\n",
      "--------------------------------------------------------------\n",
      "policy/loss                                          |    0.10\n",
      "v/loss                                               |   10.09\n",
      "q/loss                                               |  100.63\n",
      "policy/grad                                          |    5.04\n",
      "v/grad                                               | 1237.14\n",
      "q/grad                                               |  985.01\n",
      "Env/Reward/Episode (New)                             | -237.65\n",
      "Env/Length/Episode (New)                             | 1000.00\n",
      "Env/Reward/Episode (Last 50)                         | -251.96\n",
      "Env/Length/Episode (Last 50)                         | 1012.50\n",
      "--------------------------------------------------------------\n"
     ]
    },
    {
     "name": "stderr",
     "output_type": "stream",
     "text": [
      "  1%|          | 42.0k/4.00M [13:27<23:55:04, 46.0it/s]"
     ]
    },
    {
     "name": "stdout",
     "output_type": "stream",
     "text": [
      "\n",
      "--------------------------------------------------------------\n",
      "policy/loss                                          |    0.11\n",
      "v/loss                                               |    8.74\n",
      "q/loss                                               |   91.18\n",
      "policy/grad                                          |    4.77\n",
      "v/grad                                               | 1123.79\n",
      "q/grad                                               |  892.58\n",
      "Env/Reward/Episode (New)                             | -257.01\n",
      "Env/Length/Episode (New)                             | 1000.00\n",
      "Env/Reward/Episode (Last 50)                         | -252.08\n",
      "Env/Length/Episode (Last 50)                         | 1012.20\n",
      "--------------------------------------------------------------\n"
     ]
    },
    {
     "name": "stderr",
     "output_type": "stream",
     "text": [
      "  1%|          | 43.0k/4.00M [13:46<23:25:26, 46.9it/s]"
     ]
    },
    {
     "name": "stdout",
     "output_type": "stream",
     "text": [
      "\n",
      "--------------------------------------------------------------\n",
      "policy/loss                                          |    0.22\n",
      "v/loss                                               |   10.15\n",
      "q/loss                                               |  107.01\n",
      "policy/grad                                          |    4.93\n",
      "v/grad                                               | 1259.33\n",
      "q/grad                                               | 1027.23\n",
      "Env/Reward/Episode (New)                             | -222.81\n",
      "Env/Length/Episode (New)                             | 1000.00\n",
      "Env/Reward/Episode (Last 50)                         | -251.38\n",
      "Env/Length/Episode (Last 50)                         | 1011.90\n",
      "--------------------------------------------------------------\n"
     ]
    },
    {
     "name": "stderr",
     "output_type": "stream",
     "text": [
      "  1%|          | 44.0k/4.00M [14:06<23:12:34, 47.3it/s]"
     ]
    },
    {
     "name": "stdout",
     "output_type": "stream",
     "text": [
      "\n",
      "--------------------------------------------------------------\n",
      "policy/loss                                          |    0.15\n",
      "v/loss                                               |    8.92\n",
      "q/loss                                               |   91.56\n",
      "policy/grad                                          |    4.45\n",
      "v/grad                                               | 1174.62\n",
      "q/grad                                               |  924.14\n",
      "Env/Reward/Episode (New)                             | -101.15\n",
      "Env/Length/Episode (New)                             | 1000.00\n",
      "Env/Reward/Episode (Last 50)                         | -247.89\n",
      "Env/Length/Episode (Last 50)                         | 1011.63\n",
      "--------------------------------------------------------------\n"
     ]
    },
    {
     "name": "stderr",
     "output_type": "stream",
     "text": [
      "  1%|          | 45.0k/4.00M [14:26<22:46:15, 48.2it/s]"
     ]
    },
    {
     "name": "stdout",
     "output_type": "stream",
     "text": [
      "\n",
      "--------------------------------------------------------------\n",
      "policy/loss                                          |    0.18\n",
      "v/loss                                               |    9.18\n",
      "q/loss                                               |   91.82\n",
      "policy/grad                                          |    4.53\n",
      "v/grad                                               | 1202.79\n",
      "q/grad                                               |  920.34\n",
      "Env/Reward/Episode (New)                             | -201.70\n",
      "Env/Length/Episode (New)                             | 1000.00\n",
      "Env/Reward/Episode (Last 50)                         | -246.84\n",
      "Env/Length/Episode (Last 50)                         | 1011.36\n",
      "--------------------------------------------------------------\n"
     ]
    },
    {
     "name": "stderr",
     "output_type": "stream",
     "text": [
      "  1%|          | 46.0k/4.00M [14:45<22:21:22, 49.1it/s]"
     ]
    },
    {
     "name": "stdout",
     "output_type": "stream",
     "text": [
      "\n",
      "--------------------------------------------------------------\n",
      "policy/loss                                          |    0.11\n",
      "v/loss                                               |    8.53\n",
      "q/loss                                               |   99.65\n",
      "policy/grad                                          |    4.36\n",
      "v/grad                                               | 1198.43\n",
      "q/grad                                               |  965.61\n",
      "Env/Reward/Episode (New)                             | -362.44\n",
      "Env/Length/Episode (New)                             | 1000.00\n",
      "Env/Reward/Episode (Last 50)                         | -249.41\n",
      "Env/Length/Episode (Last 50)                         | 1011.11\n",
      "--------------------------------------------------------------\n"
     ]
    },
    {
     "name": "stderr",
     "output_type": "stream",
     "text": [
      "  1%|          | 47.0k/4.00M [15:05<23:12:29, 47.3it/s]"
     ]
    },
    {
     "name": "stdout",
     "output_type": "stream",
     "text": [
      "\n",
      "--------------------------------------------------------------\n",
      "policy/loss                                          |    0.12\n",
      "v/loss                                               |    9.08\n",
      "q/loss                                               |  107.26\n",
      "policy/grad                                          |    4.40\n",
      "v/grad                                               | 1247.85\n",
      "q/grad                                               |  997.11\n",
      "Env/Reward/Episode (New)                             |  -80.44\n",
      "Env/Length/Episode (New)                             | 1000.00\n",
      "Env/Reward/Episode (Last 50)                         | -245.74\n",
      "Env/Length/Episode (Last 50)                         | 1010.87\n",
      "--------------------------------------------------------------\n"
     ]
    },
    {
     "name": "stderr",
     "output_type": "stream",
     "text": [
      "  1%|          | 48.0k/4.00M [15:24<23:23:44, 46.9it/s]"
     ]
    },
    {
     "name": "stdout",
     "output_type": "stream",
     "text": [
      "\n",
      "--------------------------------------------------------------\n",
      "policy/loss                                          |    0.21\n",
      "v/loss                                               |    8.75\n",
      "q/loss                                               |  101.13\n",
      "policy/grad                                          |    4.21\n",
      "v/grad                                               | 1192.74\n",
      "q/grad                                               |  967.44\n",
      "Env/Reward/Episode (New)                             | -307.10\n",
      "Env/Length/Episode (New)                             | 1000.00\n",
      "Env/Reward/Episode (Last 50)                         | -247.04\n",
      "Env/Length/Episode (Last 50)                         | 1010.64\n",
      "--------------------------------------------------------------\n"
     ]
    },
    {
     "name": "stderr",
     "output_type": "stream",
     "text": [
      "  1%|          | 49.0k/4.00M [15:44<21:55:12, 50.1it/s]"
     ]
    },
    {
     "name": "stdout",
     "output_type": "stream",
     "text": [
      "\n",
      "--------------------------------------------------------------\n",
      "policy/loss                                          |    0.29\n",
      "v/loss                                               |    8.17\n",
      "q/loss                                               |   91.38\n",
      "policy/grad                                          |    4.14\n",
      "v/grad                                               | 1212.71\n",
      "q/grad                                               |  907.71\n",
      "Env/Reward/Episode (New)                             | -285.25\n",
      "Env/Length/Episode (New)                             | 1000.00\n",
      "Env/Reward/Episode (Last 50)                         | -247.84\n",
      "Env/Length/Episode (Last 50)                         | 1010.42\n",
      "--------------------------------------------------------------\n"
     ]
    },
    {
     "name": "stderr",
     "output_type": "stream",
     "text": [
      "  1%|▏         | 50.0k/4.00M [16:04<22:57:29, 47.8it/s]"
     ]
    },
    {
     "name": "stdout",
     "output_type": "stream",
     "text": [
      "\n",
      "--------------------------------------------------------------\n",
      "policy/loss                                          |    0.19\n",
      "v/loss                                               |    8.58\n",
      "q/loss                                               |  105.57\n",
      "policy/grad                                          |    4.03\n",
      "v/grad                                               | 1216.34\n",
      "q/grad                                               | 1005.30\n",
      "Env/Reward/Episode (New)                             | -107.99\n",
      "Env/Length/Episode (New)                             | 1000.00\n",
      "Env/Reward/Episode (Last 50)                         | -244.98\n",
      "Env/Length/Episode (Last 50)                         | 1010.20\n",
      "--------------------------------------------------------------\n"
     ]
    },
    {
     "name": "stderr",
     "output_type": "stream",
     "text": [
      "  1%|▏         | 51.0k/4.00M [16:24<22:28:52, 48.8it/s]"
     ]
    },
    {
     "name": "stdout",
     "output_type": "stream",
     "text": [
      "\n",
      "--------------------------------------------------------------\n",
      "policy/loss                                          |    0.18\n",
      "v/loss                                               |    8.75\n",
      "q/loss                                               |  120.36\n",
      "policy/grad                                          |    4.04\n",
      "v/grad                                               | 1264.41\n",
      "q/grad                                               | 1075.27\n",
      "Env/Reward/Episode (New)                             | -208.35\n",
      "Env/Length/Episode (New)                             | 1000.00\n",
      "Env/Reward/Episode (Last 50)                         | -244.25\n",
      "Env/Length/Episode (Last 50)                         | 1010.00\n",
      "--------------------------------------------------------------\n"
     ]
    },
    {
     "name": "stderr",
     "output_type": "stream",
     "text": [
      "  1%|▏         | 52.0k/4.00M [16:44<21:59:13, 49.9it/s]"
     ]
    },
    {
     "name": "stdout",
     "output_type": "stream",
     "text": [
      "\n",
      "--------------------------------------------------------------\n",
      "policy/loss                                          |    0.28\n",
      "v/loss                                               |    8.58\n",
      "q/loss                                               |  112.07\n",
      "policy/grad                                          |    4.05\n",
      "v/grad                                               | 1275.00\n",
      "q/grad                                               | 1007.94\n",
      "Env/Reward/Episode (New)                             | -299.62\n",
      "Env/Length/Episode (New)                             | 1000.00\n",
      "Env/Reward/Episode (Last 50)                         | -243.10\n",
      "Env/Length/Episode (Last 50)                         | 1000.00\n",
      "--------------------------------------------------------------\n"
     ]
    },
    {
     "name": "stderr",
     "output_type": "stream",
     "text": [
      "  1%|▏         | 53.0k/4.00M [17:04<25:09:14, 43.6it/s]"
     ]
    },
    {
     "name": "stdout",
     "output_type": "stream",
     "text": [
      "\n",
      "--------------------------------------------------------------\n",
      "policy/loss                                          |    0.16\n",
      "v/loss                                               |    7.55\n",
      "q/loss                                               |   93.97\n",
      "policy/grad                                          |    3.73\n",
      "v/grad                                               | 1174.01\n",
      "q/grad                                               |  904.61\n",
      "Env/Reward/Episode (New)                             | -339.37\n",
      "Env/Length/Episode (New)                             | 1000.00\n",
      "Env/Reward/Episode (Last 50)                         | -243.61\n",
      "Env/Length/Episode (Last 50)                         | 1000.00\n",
      "--------------------------------------------------------------\n"
     ]
    },
    {
     "name": "stderr",
     "output_type": "stream",
     "text": [
      "  1%|▏         | 54.0k/4.00M [17:24<22:09:20, 49.5it/s]"
     ]
    },
    {
     "name": "stdout",
     "output_type": "stream",
     "text": [
      "\n",
      "--------------------------------------------------------------\n",
      "policy/loss                                          |    0.27\n",
      "v/loss                                               |    8.02\n",
      "q/loss                                               |  106.15\n",
      "policy/grad                                          |    3.72\n",
      "v/grad                                               | 1198.29\n",
      "q/grad                                               |  984.99\n",
      "Env/Reward/Episode (New)                             | -262.43\n",
      "Env/Length/Episode (New)                             | 1000.00\n",
      "Env/Reward/Episode (Last 50)                         | -239.10\n",
      "Env/Length/Episode (Last 50)                         | 1000.00\n",
      "--------------------------------------------------------------\n"
     ]
    },
    {
     "name": "stderr",
     "output_type": "stream",
     "text": [
      "  1%|▏         | 55.0k/4.00M [17:45<24:00:44, 45.6it/s]"
     ]
    },
    {
     "name": "stdout",
     "output_type": "stream",
     "text": [
      "\n",
      "--------------------------------------------------------------\n",
      "policy/loss                                          |    0.19\n",
      "v/loss                                               |    7.49\n",
      "q/loss                                               |  102.92\n",
      "policy/grad                                          |    3.61\n",
      "v/grad                                               | 1175.03\n",
      "q/grad                                               |  943.79\n",
      "Env/Reward/Episode (New)                             | -239.03\n",
      "Env/Length/Episode (New)                             | 1000.00\n",
      "Env/Reward/Episode (Last 50)                         | -238.09\n",
      "Env/Length/Episode (Last 50)                         | 1000.00\n",
      "--------------------------------------------------------------\n"
     ]
    },
    {
     "name": "stderr",
     "output_type": "stream",
     "text": [
      "  1%|▏         | 56.0k/4.00M [18:05<23:27:37, 46.7it/s]"
     ]
    },
    {
     "name": "stdout",
     "output_type": "stream",
     "text": [
      "\n",
      "--------------------------------------------------------------\n",
      "policy/loss                                          |    0.28\n",
      "v/loss                                               |    8.29\n",
      "q/loss                                               |  111.66\n",
      "policy/grad                                          |    3.69\n",
      "v/grad                                               | 1230.59\n",
      "q/grad                                               | 1012.56\n",
      "Env/Reward/Episode (New)                             | -259.26\n",
      "Env/Length/Episode (New)                             | 1000.00\n",
      "Env/Reward/Episode (Last 50)                         | -236.61\n",
      "Env/Length/Episode (Last 50)                         | 1000.00\n",
      "--------------------------------------------------------------\n"
     ]
    },
    {
     "name": "stderr",
     "output_type": "stream",
     "text": [
      "  1%|▏         | 57.0k/4.00M [18:25<22:35:48, 48.5it/s]"
     ]
    },
    {
     "name": "stdout",
     "output_type": "stream",
     "text": [
      "\n",
      "--------------------------------------------------------------\n",
      "policy/loss                                          |    0.29\n",
      "v/loss                                               |    7.85\n",
      "q/loss                                               |  116.80\n",
      "policy/grad                                          |    3.84\n",
      "v/grad                                               | 1226.66\n",
      "q/grad                                               | 1042.55\n",
      "Env/Reward/Episode (New)                             | -227.31\n",
      "Env/Length/Episode (New)                             | 1000.00\n",
      "Env/Reward/Episode (Last 50)                         | -234.99\n",
      "Env/Length/Episode (Last 50)                         | 1000.00\n",
      "--------------------------------------------------------------\n"
     ]
    },
    {
     "name": "stderr",
     "output_type": "stream",
     "text": [
      "  1%|▏         | 58.0k/4.00M [18:46<21:24:56, 51.1it/s]"
     ]
    },
    {
     "name": "stdout",
     "output_type": "stream",
     "text": [
      "\n",
      "--------------------------------------------------------------\n",
      "policy/loss                                          |    0.25\n",
      "v/loss                                               |    8.02\n",
      "q/loss                                               |  119.97\n",
      "policy/grad                                          |    3.63\n",
      "v/grad                                               | 1270.50\n",
      "q/grad                                               | 1061.20\n",
      "Env/Reward/Episode (New)                             | -236.75\n",
      "Env/Length/Episode (New)                             | 1000.00\n",
      "Env/Reward/Episode (Last 50)                         | -233.55\n",
      "Env/Length/Episode (Last 50)                         | 1000.00\n",
      "--------------------------------------------------------------\n"
     ]
    },
    {
     "name": "stderr",
     "output_type": "stream",
     "text": [
      "  1%|▏         | 59.0k/4.00M [19:06<24:37:20, 44.5it/s]"
     ]
    },
    {
     "name": "stdout",
     "output_type": "stream",
     "text": [
      "\n",
      "--------------------------------------------------------------\n",
      "policy/loss                                          |    0.19\n",
      "v/loss                                               |    7.56\n",
      "q/loss                                               |  105.10\n",
      "policy/grad                                          |    3.59\n",
      "v/grad                                               | 1228.75\n",
      "q/grad                                               |  988.10\n",
      "Env/Reward/Episode (New)                             | -205.55\n",
      "Env/Length/Episode (New)                             | 1000.00\n",
      "Env/Reward/Episode (Last 50)                         | -233.16\n",
      "Env/Length/Episode (Last 50)                         | 1000.00\n",
      "--------------------------------------------------------------\n"
     ]
    },
    {
     "name": "stderr",
     "output_type": "stream",
     "text": [
      "  2%|▏         | 60.0k/4.00M [19:26<24:02:52, 45.5it/s]"
     ]
    },
    {
     "name": "stdout",
     "output_type": "stream",
     "text": [
      "\n",
      "--------------------------------------------------------------\n",
      "policy/loss                                          |    0.17\n",
      "v/loss                                               |    8.21\n",
      "q/loss                                               |  101.54\n",
      "policy/grad                                          |    3.86\n",
      "v/grad                                               | 1286.73\n",
      "q/grad                                               |  974.87\n",
      "Env/Reward/Episode (New)                             | -366.72\n",
      "Env/Length/Episode (New)                             | 1000.00\n",
      "Env/Reward/Episode (Last 50)                         | -237.26\n",
      "Env/Length/Episode (Last 50)                         | 1000.00\n",
      "--------------------------------------------------------------\n"
     ]
    },
    {
     "name": "stderr",
     "output_type": "stream",
     "text": [
      "  2%|▏         | 61.0k/4.00M [19:47<24:11:36, 45.2it/s]"
     ]
    },
    {
     "name": "stdout",
     "output_type": "stream",
     "text": [
      "\n",
      "--------------------------------------------------------------\n",
      "policy/loss                                          |    0.12\n",
      "v/loss                                               |    7.26\n",
      "q/loss                                               |  107.49\n",
      "policy/grad                                          |    3.53\n",
      "v/grad                                               | 1186.21\n",
      "q/grad                                               |  983.79\n",
      "Env/Reward/Episode (New)                             | -111.23\n",
      "Env/Length/Episode (New)                             | 1000.00\n",
      "Env/Reward/Episode (Last 50)                         | -233.84\n",
      "Env/Length/Episode (Last 50)                         | 1000.00\n",
      "--------------------------------------------------------------\n"
     ]
    },
    {
     "name": "stderr",
     "output_type": "stream",
     "text": [
      "  2%|▏         | 62.0k/4.00M [20:07<22:42:09, 48.2it/s]"
     ]
    },
    {
     "name": "stdout",
     "output_type": "stream",
     "text": [
      "\n",
      "--------------------------------------------------------------\n",
      "policy/loss                                          |    0.15\n",
      "v/loss                                               |    7.37\n",
      "q/loss                                               |  121.92\n",
      "policy/grad                                          |    3.48\n",
      "v/grad                                               | 1229.90\n",
      "q/grad                                               | 1041.75\n",
      "Env/Reward/Episode (New)                             |  -98.04\n",
      "Env/Length/Episode (New)                             | 1000.00\n",
      "Env/Reward/Episode (Last 50)                         | -232.09\n",
      "Env/Length/Episode (Last 50)                         | 1000.00\n",
      "--------------------------------------------------------------\n"
     ]
    },
    {
     "name": "stderr",
     "output_type": "stream",
     "text": [
      "  2%|▏         | 63.0k/4.00M [20:28<22:06:44, 49.5it/s]"
     ]
    },
    {
     "name": "stdout",
     "output_type": "stream",
     "text": [
      "\n",
      "--------------------------------------------------------------\n",
      "policy/loss                                          |    0.16\n",
      "v/loss                                               |    6.35\n",
      "q/loss                                               |  112.11\n",
      "policy/grad                                          |    3.19\n",
      "v/grad                                               | 1134.07\n",
      "q/grad                                               |  971.50\n",
      "Env/Reward/Episode (New)                             | -200.62\n",
      "Env/Length/Episode (New)                             | 1000.00\n",
      "Env/Reward/Episode (Last 50)                         | -232.07\n",
      "Env/Length/Episode (Last 50)                         | 1000.00\n",
      "--------------------------------------------------------------\n"
     ]
    },
    {
     "name": "stderr",
     "output_type": "stream",
     "text": [
      "  2%|▏         | 64.0k/4.00M [20:48<22:45:27, 48.0it/s]"
     ]
    },
    {
     "name": "stdout",
     "output_type": "stream",
     "text": [
      "\n",
      "--------------------------------------------------------------\n",
      "policy/loss                                          |    0.21\n",
      "v/loss                                               |    6.14\n",
      "q/loss                                               |  107.39\n",
      "policy/grad                                          |    3.15\n",
      "v/grad                                               | 1092.29\n",
      "q/grad                                               |  940.94\n",
      "Env/Reward/Episode (New)                             | -212.29\n",
      "Env/Length/Episode (New)                             | 1000.00\n",
      "Env/Reward/Episode (Last 50)                         | -233.37\n",
      "Env/Length/Episode (Last 50)                         | 1000.00\n",
      "--------------------------------------------------------------\n"
     ]
    },
    {
     "name": "stderr",
     "output_type": "stream",
     "text": [
      "  2%|▏         | 65.0k/4.00M [21:08<23:47:11, 46.0it/s]"
     ]
    },
    {
     "name": "stdout",
     "output_type": "stream",
     "text": [
      "\n",
      "--------------------------------------------------------------\n",
      "policy/loss                                          |    0.24\n",
      "v/loss                                               |    6.67\n",
      "q/loss                                               |  109.87\n",
      "policy/grad                                          |    3.10\n",
      "v/grad                                               | 1151.54\n",
      "q/grad                                               |  956.76\n",
      "Env/Reward/Episode (New)                             | -228.86\n",
      "Env/Length/Episode (New)                             | 1000.00\n",
      "Env/Reward/Episode (Last 50)                         | -234.02\n",
      "Env/Length/Episode (Last 50)                         | 1000.00\n",
      "--------------------------------------------------------------\n"
     ]
    },
    {
     "name": "stderr",
     "output_type": "stream",
     "text": [
      "  2%|▏         | 66.0k/4.00M [21:27<22:34:17, 48.4it/s]"
     ]
    },
    {
     "name": "stdout",
     "output_type": "stream",
     "text": [
      "\n",
      "--------------------------------------------------------------\n",
      "policy/loss                                          |    0.14\n",
      "v/loss                                               |    6.42\n",
      "q/loss                                               |  113.79\n",
      "policy/grad                                          |    3.05\n",
      "v/grad                                               | 1153.48\n",
      "q/grad                                               | 1015.33\n",
      "Env/Reward/Episode (New)                             | -215.76\n",
      "Env/Length/Episode (New)                             | 1000.00\n",
      "Env/Reward/Episode (Last 50)                         | -232.98\n",
      "Env/Length/Episode (Last 50)                         | 1000.00\n",
      "--------------------------------------------------------------\n"
     ]
    },
    {
     "name": "stderr",
     "output_type": "stream",
     "text": [
      "  2%|▏         | 67.0k/4.00M [21:47<22:32:03, 48.5it/s]"
     ]
    },
    {
     "name": "stdout",
     "output_type": "stream",
     "text": [
      "\n",
      "--------------------------------------------------------------\n",
      "policy/loss                                          |    0.28\n",
      "v/loss                                               |    6.34\n",
      "q/loss                                               |  106.82\n",
      "policy/grad                                          |    3.08\n",
      "v/grad                                               | 1147.48\n",
      "q/grad                                               |  960.50\n",
      "Env/Reward/Episode (New)                             | -240.09\n",
      "Env/Length/Episode (New)                             | 1000.00\n",
      "Env/Reward/Episode (Last 50)                         | -233.05\n",
      "Env/Length/Episode (Last 50)                         | 1000.00\n",
      "--------------------------------------------------------------\n"
     ]
    },
    {
     "name": "stderr",
     "output_type": "stream",
     "text": [
      "  2%|▏         | 68.0k/4.00M [22:07<23:47:10, 45.9it/s]"
     ]
    },
    {
     "name": "stdout",
     "output_type": "stream",
     "text": [
      "\n",
      "--------------------------------------------------------------\n",
      "policy/loss                                          |    0.21\n",
      "v/loss                                               |    6.38\n",
      "q/loss                                               |  121.30\n",
      "policy/grad                                          |    2.93\n",
      "v/grad                                               | 1122.88\n",
      "q/grad                                               | 1012.08\n",
      "Env/Reward/Episode (New)                             | -167.80\n",
      "Env/Length/Episode (New)                             | 1000.00\n",
      "Env/Reward/Episode (Last 50)                         | -234.55\n",
      "Env/Length/Episode (Last 50)                         | 1000.00\n",
      "--------------------------------------------------------------\n"
     ]
    },
    {
     "name": "stderr",
     "output_type": "stream",
     "text": [
      "  2%|▏         | 69.0k/4.00M [22:27<22:56:42, 47.6it/s]"
     ]
    },
    {
     "name": "stdout",
     "output_type": "stream",
     "text": [
      "\n",
      "--------------------------------------------------------------\n",
      "policy/loss                                          |    0.30\n",
      "v/loss                                               |    7.68\n",
      "q/loss                                               |  134.76\n",
      "policy/grad                                          |    3.20\n",
      "v/grad                                               | 1232.63\n",
      "q/grad                                               | 1102.78\n",
      "Env/Reward/Episode (New)                             | -208.31\n",
      "Env/Length/Episode (New)                             | 1000.00\n",
      "Env/Reward/Episode (Last 50)                         | -233.19\n",
      "Env/Length/Episode (Last 50)                         | 1000.00\n",
      "--------------------------------------------------------------\n"
     ]
    },
    {
     "name": "stderr",
     "output_type": "stream",
     "text": [
      "  2%|▏         | 70.0k/4.00M [22:47<21:17:04, 51.3it/s]"
     ]
    },
    {
     "name": "stdout",
     "output_type": "stream",
     "text": [
      "\n",
      "--------------------------------------------------------------\n",
      "policy/loss                                          |    0.16\n",
      "v/loss                                               |    5.92\n",
      "q/loss                                               |  107.33\n",
      "policy/grad                                          |    2.82\n",
      "v/grad                                               | 1091.24\n",
      "q/grad                                               |  949.35\n",
      "Env/Reward/Episode (New)                             | -252.62\n",
      "Env/Length/Episode (New)                             | 1000.00\n",
      "Env/Reward/Episode (Last 50)                         | -233.63\n",
      "Env/Length/Episode (Last 50)                         | 1000.00\n",
      "--------------------------------------------------------------\n"
     ]
    },
    {
     "name": "stderr",
     "output_type": "stream",
     "text": [
      "  2%|▏         | 71.0k/4.00M [23:07<23:17:32, 46.9it/s]"
     ]
    },
    {
     "name": "stdout",
     "output_type": "stream",
     "text": [
      "\n",
      "--------------------------------------------------------------\n",
      "policy/loss                                          |    0.14\n",
      "v/loss                                               |    6.04\n",
      "q/loss                                               |  110.99\n",
      "policy/grad                                          |    2.84\n",
      "v/grad                                               | 1101.02\n",
      "q/grad                                               |  922.70\n",
      "Env/Reward/Episode (New)                             | -153.60\n",
      "Env/Length/Episode (New)                             | 1000.00\n",
      "Env/Reward/Episode (Last 50)                         | -231.34\n",
      "Env/Length/Episode (Last 50)                         | 1000.00\n",
      "--------------------------------------------------------------\n"
     ]
    },
    {
     "name": "stderr",
     "output_type": "stream",
     "text": [
      "  2%|▏         | 72.0k/4.00M [23:28<22:36:07, 48.3it/s]"
     ]
    },
    {
     "name": "stdout",
     "output_type": "stream",
     "text": [
      "\n",
      "--------------------------------------------------------------\n",
      "policy/loss                                          |    0.26\n",
      "v/loss                                               |    6.49\n",
      "q/loss                                               |  126.89\n",
      "policy/grad                                          |    2.88\n",
      "v/grad                                               | 1149.76\n",
      "q/grad                                               | 1044.51\n",
      "Env/Reward/Episode (New)                             | -285.45\n",
      "Env/Length/Episode (New)                             | 1000.00\n",
      "Env/Reward/Episode (Last 50)                         | -232.27\n",
      "Env/Length/Episode (Last 50)                         | 1000.00\n",
      "--------------------------------------------------------------\n"
     ]
    },
    {
     "name": "stderr",
     "output_type": "stream",
     "text": [
      "  2%|▏         | 73.0k/4.00M [23:47<22:59:03, 47.5it/s]"
     ]
    },
    {
     "name": "stdout",
     "output_type": "stream",
     "text": [
      "\n",
      "--------------------------------------------------------------\n",
      "policy/loss                                          |    0.16\n",
      "v/loss                                               |    6.29\n",
      "q/loss                                               |  121.05\n",
      "policy/grad                                          |    2.98\n",
      "v/grad                                               | 1174.76\n",
      "q/grad                                               | 1065.30\n",
      "Env/Reward/Episode (New)                             | -188.53\n",
      "Env/Length/Episode (New)                             | 1000.00\n",
      "Env/Reward/Episode (Last 50)                         | -230.73\n",
      "Env/Length/Episode (Last 50)                         | 1000.00\n",
      "--------------------------------------------------------------\n"
     ]
    },
    {
     "name": "stderr",
     "output_type": "stream",
     "text": [
      "  2%|▏         | 74.0k/4.00M [24:07<22:48:44, 47.8it/s]"
     ]
    },
    {
     "name": "stdout",
     "output_type": "stream",
     "text": [
      "\n",
      "--------------------------------------------------------------\n",
      "policy/loss                                          |    0.21\n",
      "v/loss                                               |    7.15\n",
      "q/loss                                               |  134.26\n",
      "policy/grad                                          |    3.04\n",
      "v/grad                                               | 1181.95\n",
      "q/grad                                               | 1085.63\n",
      "Env/Reward/Episode (New)                             | -192.37\n",
      "Env/Length/Episode (New)                             | 1000.00\n",
      "Env/Reward/Episode (Last 50)                         | -228.86\n",
      "Env/Length/Episode (Last 50)                         | 1000.00\n",
      "--------------------------------------------------------------\n"
     ]
    },
    {
     "name": "stderr",
     "output_type": "stream",
     "text": [
      "  2%|▏         | 75.0k/4.00M [24:27<22:59:24, 47.4it/s]"
     ]
    },
    {
     "name": "stdout",
     "output_type": "stream",
     "text": [
      "\n",
      "--------------------------------------------------------------\n",
      "policy/loss                                          |    0.10\n",
      "v/loss                                               |    5.83\n",
      "q/loss                                               |  117.06\n",
      "policy/grad                                          |    2.89\n",
      "v/grad                                               | 1135.38\n",
      "q/grad                                               | 1004.51\n",
      "Env/Reward/Episode (New)                             | -209.82\n",
      "Env/Length/Episode (New)                             | 1000.00\n",
      "Env/Reward/Episode (Last 50)                         | -227.88\n",
      "Env/Length/Episode (Last 50)                         | 1000.00\n",
      "--------------------------------------------------------------\n"
     ]
    },
    {
     "name": "stderr",
     "output_type": "stream",
     "text": [
      "  2%|▏         | 76.0k/4.00M [24:47<22:23:19, 48.7it/s]"
     ]
    },
    {
     "name": "stdout",
     "output_type": "stream",
     "text": [
      "\n",
      "--------------------------------------------------------------\n",
      "policy/loss                                          |    0.17\n",
      "v/loss                                               |    5.75\n",
      "q/loss                                               |  113.49\n",
      "policy/grad                                          |    2.94\n",
      "v/grad                                               | 1104.90\n",
      "q/grad                                               |  981.90\n",
      "Env/Reward/Episode (New)                             | -190.53\n",
      "Env/Length/Episode (New)                             | 1000.00\n",
      "Env/Reward/Episode (Last 50)                         | -227.18\n",
      "Env/Length/Episode (Last 50)                         | 1000.00\n",
      "--------------------------------------------------------------\n"
     ]
    },
    {
     "name": "stderr",
     "output_type": "stream",
     "text": [
      "  2%|▏         | 77.0k/4.00M [25:06<23:29:59, 46.4it/s]"
     ]
    },
    {
     "name": "stdout",
     "output_type": "stream",
     "text": [
      "\n",
      "--------------------------------------------------------------\n",
      "policy/loss                                          |    0.24\n",
      "v/loss                                               |    6.90\n",
      "q/loss                                               |  148.68\n",
      "policy/grad                                          |    3.16\n",
      "v/grad                                               | 1160.85\n",
      "q/grad                                               | 1142.97\n",
      "Env/Reward/Episode (New)                             | -271.61\n",
      "Env/Length/Episode (New)                             | 1000.00\n",
      "Env/Reward/Episode (Last 50)                         | -227.91\n",
      "Env/Length/Episode (Last 50)                         | 1000.00\n",
      "--------------------------------------------------------------\n"
     ]
    },
    {
     "name": "stderr",
     "output_type": "stream",
     "text": [
      "  2%|▏         | 78.0k/4.00M [25:25<22:23:47, 48.6it/s]"
     ]
    },
    {
     "name": "stdout",
     "output_type": "stream",
     "text": [
      "\n",
      "--------------------------------------------------------------\n",
      "policy/loss                                          |    0.26\n",
      "v/loss                                               |    6.11\n",
      "q/loss                                               |  130.36\n",
      "policy/grad                                          |    2.99\n",
      "v/grad                                               | 1117.46\n",
      "q/grad                                               | 1046.20\n",
      "Env/Reward/Episode (New)                             | -235.70\n",
      "Env/Length/Episode (New)                             | 1000.00\n",
      "Env/Reward/Episode (Last 50)                         | -226.81\n",
      "Env/Length/Episode (Last 50)                         | 1000.00\n",
      "--------------------------------------------------------------\n"
     ]
    },
    {
     "name": "stderr",
     "output_type": "stream",
     "text": [
      "  2%|▏         | 79.0k/4.00M [25:44<22:47:22, 47.8it/s]"
     ]
    },
    {
     "name": "stdout",
     "output_type": "stream",
     "text": [
      "\n",
      "--------------------------------------------------------------\n",
      "policy/loss                                          |    0.20\n",
      "v/loss                                               |    5.19\n",
      "q/loss                                               |  124.21\n",
      "policy/grad                                          |    2.85\n",
      "v/grad                                               | 1046.87\n",
      "q/grad                                               |  964.90\n",
      "Env/Reward/Episode (New)                             | -288.67\n",
      "Env/Length/Episode (New)                             | 1000.00\n",
      "Env/Reward/Episode (Last 50)                         | -226.54\n",
      "Env/Length/Episode (Last 50)                         | 1000.00\n",
      "--------------------------------------------------------------\n"
     ]
    },
    {
     "name": "stderr",
     "output_type": "stream",
     "text": [
      "  2%|▏         | 80.0k/4.00M [26:05<22:32:17, 48.3it/s]"
     ]
    },
    {
     "name": "stdout",
     "output_type": "stream",
     "text": [
      "\n",
      "--------------------------------------------------------------\n",
      "policy/loss                                          |    0.14\n",
      "v/loss                                               |    5.76\n",
      "q/loss                                               |  118.74\n",
      "policy/grad                                          |    2.89\n",
      "v/grad                                               | 1093.38\n",
      "q/grad                                               |  988.83\n",
      "Env/Reward/Episode (New)                             | -215.41\n",
      "Env/Length/Episode (New)                             | 1000.00\n",
      "Env/Reward/Episode (Last 50)                         | -225.14\n",
      "Env/Length/Episode (Last 50)                         | 1000.00\n",
      "--------------------------------------------------------------\n"
     ]
    },
    {
     "name": "stderr",
     "output_type": "stream",
     "text": [
      "  2%|▏         | 81.0k/4.00M [26:25<24:05:00, 45.2it/s]"
     ]
    },
    {
     "name": "stdout",
     "output_type": "stream",
     "text": [
      "\n",
      "--------------------------------------------------------------\n",
      "policy/loss                                          |    0.18\n",
      "v/loss                                               |    6.37\n",
      "q/loss                                               |  130.70\n",
      "policy/grad                                          |    3.05\n",
      "v/grad                                               | 1176.33\n",
      "q/grad                                               | 1082.83\n",
      "Env/Reward/Episode (New)                             | -241.45\n",
      "Env/Length/Episode (New)                             | 1000.00\n",
      "Env/Reward/Episode (Last 50)                         | -225.13\n",
      "Env/Length/Episode (Last 50)                         | 1000.00\n",
      "--------------------------------------------------------------\n"
     ]
    },
    {
     "name": "stderr",
     "output_type": "stream",
     "text": [
      "  2%|▏         | 82.0k/4.00M [26:46<23:36:04, 46.1it/s]"
     ]
    },
    {
     "name": "stdout",
     "output_type": "stream",
     "text": [
      "\n",
      "--------------------------------------------------------------\n",
      "policy/loss                                          |    0.14\n",
      "v/loss                                               |    5.52\n",
      "q/loss                                               |  137.18\n",
      "policy/grad                                          |    2.92\n",
      "v/grad                                               | 1092.70\n",
      "q/grad                                               | 1047.05\n",
      "Env/Reward/Episode (New)                             | -256.74\n",
      "Env/Length/Episode (New)                             | 1000.00\n",
      "Env/Reward/Episode (Last 50)                         | -225.21\n",
      "Env/Length/Episode (Last 50)                         | 1000.00\n",
      "--------------------------------------------------------------\n"
     ]
    },
    {
     "name": "stderr",
     "output_type": "stream",
     "text": [
      "  2%|▏         | 83.0k/4.00M [27:06<22:16:48, 48.8it/s]"
     ]
    },
    {
     "name": "stdout",
     "output_type": "stream",
     "text": [
      "\n",
      "--------------------------------------------------------------\n",
      "policy/loss                                          |    0.13\n",
      "v/loss                                               |    5.74\n",
      "q/loss                                               |  137.28\n",
      "policy/grad                                          |    2.99\n",
      "v/grad                                               | 1124.17\n",
      "q/grad                                               | 1079.73\n",
      "Env/Reward/Episode (New)                             | -269.20\n",
      "Env/Length/Episode (New)                             | 1000.00\n",
      "Env/Reward/Episode (Last 50)                         | -225.74\n",
      "Env/Length/Episode (Last 50)                         | 1000.00\n",
      "--------------------------------------------------------------\n"
     ]
    },
    {
     "name": "stderr",
     "output_type": "stream",
     "text": [
      "  2%|▏         | 84.0k/4.00M [27:25<24:09:23, 45.0it/s]"
     ]
    },
    {
     "name": "stdout",
     "output_type": "stream",
     "text": [
      "\n",
      "--------------------------------------------------------------\n",
      "policy/loss                                          |    0.03\n",
      "v/loss                                               |    5.19\n",
      "q/loss                                               |  108.22\n",
      "policy/grad                                          |    2.83\n",
      "v/grad                                               | 1073.16\n",
      "q/grad                                               |  928.31\n",
      "Env/Reward/Episode (New)                             | -177.71\n",
      "Env/Length/Episode (New)                             | 1000.00\n",
      "Env/Reward/Episode (Last 50)                         | -224.38\n",
      "Env/Length/Episode (Last 50)                         | 1000.00\n",
      "--------------------------------------------------------------\n"
     ]
    },
    {
     "name": "stderr",
     "output_type": "stream",
     "text": [
      "  2%|▏         | 85.0k/4.00M [27:45<19:51:33, 54.8it/s]"
     ]
    },
    {
     "name": "stdout",
     "output_type": "stream",
     "text": [
      "\n",
      "--------------------------------------------------------------\n",
      "policy/loss                                          |    0.24\n",
      "v/loss                                               |    6.27\n",
      "q/loss                                               |  118.66\n",
      "policy/grad                                          |    2.98\n",
      "v/grad                                               | 1146.23\n",
      "q/grad                                               |  993.51\n",
      "Env/Reward/Episode (New)                             | -260.16\n",
      "Env/Length/Episode (New)                             | 1000.00\n",
      "Env/Reward/Episode (Last 50)                         | -224.79\n",
      "Env/Length/Episode (Last 50)                         | 1000.00\n",
      "--------------------------------------------------------------\n"
     ]
    },
    {
     "name": "stderr",
     "output_type": "stream",
     "text": [
      "  2%|▏         | 86.0k/4.00M [28:05<23:50:53, 45.6it/s]"
     ]
    },
    {
     "name": "stdout",
     "output_type": "stream",
     "text": [
      "\n",
      "--------------------------------------------------------------\n",
      "policy/loss                                          |    0.16\n",
      "v/loss                                               |    5.18\n",
      "q/loss                                               |  128.40\n",
      "policy/grad                                          |    2.80\n",
      "v/grad                                               | 1057.12\n",
      "q/grad                                               |  980.71\n",
      "Env/Reward/Episode (New)                             | -311.64\n",
      "Env/Length/Episode (New)                             | 1000.00\n",
      "Env/Reward/Episode (Last 50)                         | -225.59\n",
      "Env/Length/Episode (Last 50)                         | 1000.00\n",
      "--------------------------------------------------------------\n"
     ]
    },
    {
     "name": "stderr",
     "output_type": "stream",
     "text": [
      "  2%|▏         | 87.0k/4.00M [28:24<22:50:23, 47.6it/s]"
     ]
    },
    {
     "name": "stdout",
     "output_type": "stream",
     "text": [
      "\n",
      "--------------------------------------------------------------\n",
      "policy/loss                                          |    0.24\n",
      "v/loss                                               |    5.77\n",
      "q/loss                                               |  126.86\n",
      "policy/grad                                          |    2.86\n",
      "v/grad                                               | 1108.22\n",
      "q/grad                                               | 1017.47\n",
      "Env/Reward/Episode (New)                             | -193.47\n",
      "Env/Length/Episode (New)                             | 1000.00\n",
      "Env/Reward/Episode (Last 50)                         | -226.22\n",
      "Env/Length/Episode (Last 50)                         | 1000.00\n",
      "--------------------------------------------------------------\n"
     ]
    },
    {
     "name": "stderr",
     "output_type": "stream",
     "text": [
      "  2%|▏         | 88.0k/4.00M [28:44<20:05:49, 54.1it/s]"
     ]
    },
    {
     "name": "stdout",
     "output_type": "stream",
     "text": [
      "\n",
      "--------------------------------------------------------------\n",
      "policy/loss                                          |    0.18\n",
      "v/loss                                               |    5.27\n",
      "q/loss                                               |  131.33\n",
      "policy/grad                                          |    2.74\n",
      "v/grad                                               | 1079.93\n",
      "q/grad                                               | 1027.08\n",
      "Env/Reward/Episode (New)                             | -251.76\n",
      "Env/Length/Episode (New)                             | 1000.00\n",
      "Env/Reward/Episode (Last 50)                         | -227.86\n",
      "Env/Length/Episode (Last 50)                         | 1000.00\n",
      "--------------------------------------------------------------\n"
     ]
    },
    {
     "name": "stderr",
     "output_type": "stream",
     "text": [
      "  2%|▏         | 89.0k/4.00M [29:03<22:42:18, 47.8it/s]"
     ]
    },
    {
     "name": "stdout",
     "output_type": "stream",
     "text": [
      "\n",
      "--------------------------------------------------------------\n",
      "policy/loss                                          |    0.18\n",
      "v/loss                                               |    5.02\n",
      "q/loss                                               |  109.48\n",
      "policy/grad                                          |    2.71\n",
      "v/grad                                               | 1015.51\n",
      "q/grad                                               |  911.00\n",
      "Env/Reward/Episode (New)                             | -274.52\n",
      "Env/Length/Episode (New)                             | 1000.00\n",
      "Env/Reward/Episode (Last 50)                         | -228.46\n",
      "Env/Length/Episode (Last 50)                         | 1000.00\n",
      "--------------------------------------------------------------\n"
     ]
    },
    {
     "name": "stderr",
     "output_type": "stream",
     "text": [
      "  2%|▏         | 90.0k/4.00M [29:22<22:34:45, 48.1it/s]"
     ]
    },
    {
     "name": "stdout",
     "output_type": "stream",
     "text": [
      "\n",
      "--------------------------------------------------------------\n",
      "policy/loss                                          |    0.26\n",
      "v/loss                                               |    4.77\n",
      "q/loss                                               |  126.62\n",
      "policy/grad                                          |    2.61\n",
      "v/grad                                               | 1023.66\n",
      "q/grad                                               |  981.86\n",
      "Env/Reward/Episode (New)                             | -291.49\n",
      "Env/Length/Episode (New)                             | 1000.00\n",
      "Env/Reward/Episode (Last 50)                         | -230.07\n",
      "Env/Length/Episode (Last 50)                         | 1000.00\n",
      "--------------------------------------------------------------\n"
     ]
    },
    {
     "name": "stderr",
     "output_type": "stream",
     "text": [
      "  2%|▏         | 91.0k/4.00M [29:42<21:40:23, 50.1it/s]"
     ]
    },
    {
     "name": "stdout",
     "output_type": "stream",
     "text": [
      "\n",
      "--------------------------------------------------------------\n",
      "policy/loss                                          |    0.13\n",
      "v/loss                                               |    5.66\n",
      "q/loss                                               |  140.58\n",
      "policy/grad                                          |    2.82\n",
      "v/grad                                               | 1102.75\n",
      "q/grad                                               | 1078.47\n",
      "Env/Reward/Episode (New)                             | -125.12\n",
      "Env/Length/Episode (New)                             | 1000.00\n",
      "Env/Reward/Episode (Last 50)                         | -227.82\n",
      "Env/Length/Episode (Last 50)                         | 1000.00\n",
      "--------------------------------------------------------------\n"
     ]
    },
    {
     "name": "stderr",
     "output_type": "stream",
     "text": [
      "  2%|▏         | 92.0k/4.00M [30:01<22:41:44, 47.8it/s]"
     ]
    },
    {
     "name": "stdout",
     "output_type": "stream",
     "text": [
      "\n",
      "--------------------------------------------------------------\n",
      "policy/loss                                          |    0.12\n",
      "v/loss                                               |    6.41\n",
      "q/loss                                               |  129.34\n",
      "policy/grad                                          |    2.97\n",
      "v/grad                                               | 1154.52\n",
      "q/grad                                               | 1048.05\n",
      "Env/Reward/Episode (New)                             | -176.19\n",
      "Env/Length/Episode (New)                             | 1000.00\n",
      "Env/Reward/Episode (Last 50)                         | -226.20\n",
      "Env/Length/Episode (Last 50)                         | 1000.00\n",
      "--------------------------------------------------------------\n"
     ]
    },
    {
     "name": "stderr",
     "output_type": "stream",
     "text": [
      "  2%|▏         | 93.0k/4.00M [30:21<22:32:09, 48.2it/s]"
     ]
    },
    {
     "name": "stdout",
     "output_type": "stream",
     "text": [
      "\n",
      "--------------------------------------------------------------\n",
      "policy/loss                                          |    0.09\n",
      "v/loss                                               |    5.40\n",
      "q/loss                                               |  148.98\n",
      "policy/grad                                          |    2.84\n",
      "v/grad                                               | 1103.90\n",
      "q/grad                                               | 1072.53\n",
      "Env/Reward/Episode (New)                             | -134.06\n",
      "Env/Length/Episode (New)                             | 1000.00\n",
      "Env/Reward/Episode (Last 50)                         | -224.43\n",
      "Env/Length/Episode (Last 50)                         | 1000.00\n",
      "--------------------------------------------------------------\n"
     ]
    },
    {
     "name": "stderr",
     "output_type": "stream",
     "text": [
      "  2%|▏         | 94.0k/4.00M [30:41<23:07:33, 46.9it/s]"
     ]
    },
    {
     "name": "stdout",
     "output_type": "stream",
     "text": [
      "\n",
      "--------------------------------------------------------------\n",
      "policy/loss                                          |    0.03\n",
      "v/loss                                               |    5.07\n",
      "q/loss                                               |  135.61\n",
      "policy/grad                                          |    2.77\n",
      "v/grad                                               | 1058.41\n",
      "q/grad                                               | 1040.53\n",
      "Env/Reward/Episode (New)                             | -238.76\n",
      "Env/Length/Episode (New)                             | 1000.00\n",
      "Env/Reward/Episode (Last 50)                         | -227.18\n",
      "Env/Length/Episode (Last 50)                         | 1000.00\n",
      "--------------------------------------------------------------\n"
     ]
    },
    {
     "name": "stderr",
     "output_type": "stream",
     "text": [
      "  2%|▏         | 95.0k/4.00M [31:00<24:01:37, 45.1it/s]"
     ]
    },
    {
     "name": "stdout",
     "output_type": "stream",
     "text": [
      "\n",
      "--------------------------------------------------------------\n",
      "policy/loss                                          |    0.14\n",
      "v/loss                                               |    5.21\n",
      "q/loss                                               |  121.44\n",
      "policy/grad                                          |    2.74\n",
      "v/grad                                               | 1050.07\n",
      "q/grad                                               |  937.61\n",
      "Env/Reward/Episode (New)                             | -148.52\n",
      "Env/Length/Episode (New)                             | 1000.00\n",
      "Env/Reward/Episode (Last 50)                         | -226.11\n",
      "Env/Length/Episode (Last 50)                         | 1000.00\n",
      "--------------------------------------------------------------\n"
     ]
    },
    {
     "name": "stderr",
     "output_type": "stream",
     "text": [
      "  2%|▏         | 96.0k/4.00M [31:19<20:32:55, 52.8it/s]"
     ]
    },
    {
     "name": "stdout",
     "output_type": "stream",
     "text": [
      "\n",
      "--------------------------------------------------------------\n",
      "policy/loss                                          |    0.14\n",
      "v/loss                                               |    5.65\n",
      "q/loss                                               |  125.40\n",
      "policy/grad                                          |    2.82\n",
      "v/grad                                               | 1095.53\n",
      "q/grad                                               |  990.82\n",
      "Env/Reward/Episode (New)                             | -133.30\n",
      "Env/Length/Episode (New)                             | 1000.00\n",
      "Env/Reward/Episode (Last 50)                         | -221.53\n",
      "Env/Length/Episode (Last 50)                         | 1000.00\n",
      "--------------------------------------------------------------\n"
     ]
    },
    {
     "name": "stderr",
     "output_type": "stream",
     "text": [
      "  2%|▏         | 97.0k/4.00M [31:38<19:11:59, 56.5it/s]"
     ]
    },
    {
     "name": "stdout",
     "output_type": "stream",
     "text": [
      "\n",
      "--------------------------------------------------------------\n",
      "policy/loss                                          |    0.22\n",
      "v/loss                                               |    5.14\n",
      "q/loss                                               |  124.10\n",
      "policy/grad                                          |    2.72\n",
      "v/grad                                               | 1090.84\n",
      "q/grad                                               | 1011.71\n",
      "Env/Reward/Episode (New)                             | -121.01\n",
      "Env/Length/Episode (New)                             | 1000.00\n",
      "Env/Reward/Episode (Last 50)                         | -222.34\n",
      "Env/Length/Episode (Last 50)                         | 1000.00\n",
      "--------------------------------------------------------------\n"
     ]
    },
    {
     "name": "stderr",
     "output_type": "stream",
     "text": [
      "  2%|▏         | 98.0k/4.00M [31:57<21:46:37, 49.8it/s]"
     ]
    },
    {
     "name": "stdout",
     "output_type": "stream",
     "text": [
      "\n",
      "--------------------------------------------------------------\n",
      "policy/loss                                          |    0.27\n",
      "v/loss                                               |    4.93\n",
      "q/loss                                               |  126.04\n",
      "policy/grad                                          |    2.75\n",
      "v/grad                                               | 1022.70\n",
      "q/grad                                               | 1003.55\n",
      "Env/Reward/Episode (New)                             | -174.13\n",
      "Env/Length/Episode (New)                             | 1000.00\n",
      "Env/Reward/Episode (Last 50)                         | -219.68\n",
      "Env/Length/Episode (Last 50)                         | 1000.00\n",
      "--------------------------------------------------------------\n"
     ]
    },
    {
     "name": "stderr",
     "output_type": "stream",
     "text": [
      "  2%|▏         | 99.0k/4.00M [32:17<20:49:28, 52.0it/s]"
     ]
    },
    {
     "name": "stdout",
     "output_type": "stream",
     "text": [
      "\n",
      "--------------------------------------------------------------\n",
      "policy/loss                                          |    0.12\n",
      "v/loss                                               |    4.97\n",
      "q/loss                                               |  118.59\n",
      "policy/grad                                          |    2.78\n",
      "v/grad                                               | 1062.46\n",
      "q/grad                                               |  993.34\n",
      "Env/Reward/Episode (New)                             | -234.54\n",
      "Env/Length/Episode (New)                             | 1000.00\n",
      "Env/Reward/Episode (Last 50)                         | -218.67\n",
      "Env/Length/Episode (Last 50)                         | 1000.00\n",
      "--------------------------------------------------------------\n"
     ]
    },
    {
     "name": "stderr",
     "output_type": "stream",
     "text": [
      "  3%|▎         | 100k/4.00M [32:36<19:47:04, 54.8it/s] "
     ]
    },
    {
     "name": "stdout",
     "output_type": "stream",
     "text": [
      "\n",
      "--------------------------------------------------------------\n",
      "policy/loss                                          |    0.17\n",
      "v/loss                                               |    4.97\n",
      "q/loss                                               |  144.16\n",
      "policy/grad                                          |    2.77\n",
      "v/grad                                               | 1053.00\n",
      "q/grad                                               | 1056.28\n",
      "Env/Reward/Episode (New)                             | -180.22\n",
      "Env/Length/Episode (New)                             | 1000.00\n",
      "Env/Reward/Episode (Last 50)                         | -220.11\n",
      "Env/Length/Episode (Last 50)                         | 1000.00\n",
      "--------------------------------------------------------------\n"
     ]
    },
    {
     "name": "stderr",
     "output_type": "stream",
     "text": [
      "  3%|▎         | 101k/4.00M [32:55<20:15:38, 53.5it/s]"
     ]
    },
    {
     "name": "stdout",
     "output_type": "stream",
     "text": [
      "\n",
      "--------------------------------------------------------------\n",
      "policy/loss                                          |    0.24\n",
      "v/loss                                               |    5.26\n",
      "q/loss                                               |  134.09\n",
      "policy/grad                                          |    2.86\n",
      "v/grad                                               | 1079.89\n",
      "q/grad                                               | 1005.82\n",
      "Env/Reward/Episode (New)                             |  -87.15\n",
      "Env/Length/Episode (New)                             | 1000.00\n",
      "Env/Reward/Episode (Last 50)                         | -217.69\n",
      "Env/Length/Episode (Last 50)                         | 1000.00\n",
      "--------------------------------------------------------------\n"
     ]
    },
    {
     "name": "stderr",
     "output_type": "stream",
     "text": [
      "  3%|▎         | 102k/4.00M [33:15<22:57:52, 47.1it/s]"
     ]
    },
    {
     "name": "stdout",
     "output_type": "stream",
     "text": [
      "\n",
      "--------------------------------------------------------------\n",
      "policy/loss                                          |    0.22\n",
      "v/loss                                               |    5.67\n",
      "q/loss                                               |  135.86\n",
      "policy/grad                                          |    2.94\n",
      "v/grad                                               | 1114.98\n",
      "q/grad                                               | 1026.62\n",
      "Env/Reward/Episode (New)                             | -189.95\n",
      "Env/Length/Episode (New)                             | 1000.00\n",
      "Env/Reward/Episode (Last 50)                         | -215.50\n",
      "Env/Length/Episode (Last 50)                         | 1000.00\n",
      "--------------------------------------------------------------\n"
     ]
    },
    {
     "name": "stderr",
     "output_type": "stream",
     "text": [
      "  3%|▎         | 103k/4.00M [33:34<20:10:42, 53.6it/s]"
     ]
    },
    {
     "name": "stdout",
     "output_type": "stream",
     "text": [
      "\n",
      "--------------------------------------------------------------\n",
      "policy/loss                                          |    0.15\n",
      "v/loss                                               |    4.74\n",
      "q/loss                                               |  127.95\n",
      "policy/grad                                          |    2.77\n",
      "v/grad                                               | 1029.35\n",
      "q/grad                                               |  998.58\n",
      "Env/Reward/Episode (New)                             | -140.65\n",
      "Env/Length/Episode (New)                             | 1000.00\n",
      "Env/Reward/Episode (Last 50)                         | -211.52\n",
      "Env/Length/Episode (Last 50)                         | 1000.00\n",
      "--------------------------------------------------------------\n"
     ]
    },
    {
     "name": "stderr",
     "output_type": "stream",
     "text": [
      "  3%|▎         | 104k/4.00M [33:54<21:23:20, 50.6it/s]"
     ]
    },
    {
     "name": "stdout",
     "output_type": "stream",
     "text": [
      "\n",
      "--------------------------------------------------------------\n",
      "policy/loss                                          |    0.15\n",
      "v/loss                                               |    4.76\n",
      "q/loss                                               |  123.63\n",
      "policy/grad                                          |    2.74\n",
      "v/grad                                               | 1041.99\n",
      "q/grad                                               |  984.83\n",
      "Env/Reward/Episode (New)                             | -141.87\n",
      "Env/Length/Episode (New)                             | 1000.00\n",
      "Env/Reward/Episode (Last 50)                         | -209.11\n",
      "Env/Length/Episode (Last 50)                         | 1000.00\n",
      "--------------------------------------------------------------\n"
     ]
    },
    {
     "name": "stderr",
     "output_type": "stream",
     "text": [
      "  3%|▎         | 105k/4.00M [34:13<20:39:13, 52.4it/s]"
     ]
    },
    {
     "name": "stdout",
     "output_type": "stream",
     "text": [
      "\n",
      "--------------------------------------------------------------\n",
      "policy/loss                                          |    0.17\n",
      "v/loss                                               |    4.79\n",
      "q/loss                                               |  128.06\n",
      "policy/grad                                          |    2.72\n",
      "v/grad                                               |  998.48\n",
      "q/grad                                               |  972.89\n",
      "Env/Reward/Episode (New)                             | -226.81\n",
      "Env/Length/Episode (New)                             | 1000.00\n",
      "Env/Reward/Episode (Last 50)                         | -208.87\n",
      "Env/Length/Episode (Last 50)                         | 1000.00\n",
      "--------------------------------------------------------------\n"
     ]
    },
    {
     "name": "stderr",
     "output_type": "stream",
     "text": [
      "  3%|▎         | 106k/4.00M [34:33<23:41:37, 45.7it/s]"
     ]
    },
    {
     "name": "stdout",
     "output_type": "stream",
     "text": [
      "\n",
      "--------------------------------------------------------------\n",
      "policy/loss                                          |    0.11\n",
      "v/loss                                               |    6.14\n",
      "q/loss                                               |  159.33\n",
      "policy/grad                                          |    3.05\n",
      "v/grad                                               | 1156.18\n",
      "q/grad                                               | 1168.17\n",
      "Env/Reward/Episode (New)                             | -121.47\n",
      "Env/Length/Episode (New)                             | 1000.00\n",
      "Env/Reward/Episode (Last 50)                         | -206.11\n",
      "Env/Length/Episode (Last 50)                         | 1000.00\n",
      "--------------------------------------------------------------\n"
     ]
    },
    {
     "name": "stderr",
     "output_type": "stream",
     "text": [
      "  3%|▎         | 107k/4.00M [34:52<23:26:22, 46.1it/s]"
     ]
    },
    {
     "name": "stdout",
     "output_type": "stream",
     "text": [
      "\n",
      "--------------------------------------------------------------\n",
      "policy/loss                                          |    0.15\n",
      "v/loss                                               |    4.87\n",
      "q/loss                                               |  140.43\n",
      "policy/grad                                          |    2.79\n",
      "v/grad                                               | 1034.16\n",
      "q/grad                                               | 1035.85\n",
      "Env/Reward/Episode (New)                             | -141.01\n",
      "Env/Length/Episode (New)                             | 1000.00\n",
      "Env/Reward/Episode (Last 50)                         | -204.38\n",
      "Env/Length/Episode (Last 50)                         | 1000.00\n",
      "--------------------------------------------------------------\n"
     ]
    },
    {
     "name": "stderr",
     "output_type": "stream",
     "text": [
      "  3%|▎         | 108k/4.00M [35:12<23:10:29, 46.6it/s]"
     ]
    },
    {
     "name": "stdout",
     "output_type": "stream",
     "text": [
      "\n",
      "--------------------------------------------------------------\n",
      "policy/loss                                          |    0.16\n",
      "v/loss                                               |    5.22\n",
      "q/loss                                               |  136.06\n",
      "policy/grad                                          |    2.92\n",
      "v/grad                                               | 1065.23\n",
      "q/grad                                               | 1033.43\n",
      "Env/Reward/Episode (New)                             | -165.88\n",
      "Env/Length/Episode (New)                             | 1000.00\n",
      "Env/Reward/Episode (Last 50)                         | -202.97\n",
      "Env/Length/Episode (Last 50)                         | 1000.00\n",
      "--------------------------------------------------------------\n"
     ]
    },
    {
     "name": "stderr",
     "output_type": "stream",
     "text": [
      "  3%|▎         | 109k/4.00M [35:32<23:28:28, 46.0it/s]"
     ]
    },
    {
     "name": "stdout",
     "output_type": "stream",
     "text": [
      "\n",
      "--------------------------------------------------------------\n",
      "policy/loss                                          |    0.14\n",
      "v/loss                                               |    5.30\n",
      "q/loss                                               |  161.04\n",
      "policy/grad                                          |    2.96\n",
      "v/grad                                               | 1106.55\n",
      "q/grad                                               | 1154.69\n",
      "Env/Reward/Episode (New)                             | -143.58\n",
      "Env/Length/Episode (New)                             | 1000.00\n",
      "Env/Reward/Episode (Last 50)                         | -201.73\n",
      "Env/Length/Episode (Last 50)                         | 1000.00\n",
      "--------------------------------------------------------------\n"
     ]
    },
    {
     "name": "stderr",
     "output_type": "stream",
     "text": [
      "  3%|▎         | 110k/4.00M [35:53<25:44:55, 42.0it/s]"
     ]
    },
    {
     "name": "stdout",
     "output_type": "stream",
     "text": [
      "\n",
      "--------------------------------------------------------------\n",
      "policy/loss                                          |    0.20\n",
      "v/loss                                               |    4.71\n",
      "q/loss                                               |  125.25\n",
      "policy/grad                                          |    2.82\n",
      "v/grad                                               | 1037.99\n",
      "q/grad                                               |  981.47\n",
      "Env/Reward/Episode (New)                             | -176.05\n",
      "Env/Length/Episode (New)                             | 1000.00\n",
      "Env/Reward/Episode (Last 50)                         | -197.91\n",
      "Env/Length/Episode (Last 50)                         | 1000.00\n",
      "--------------------------------------------------------------\n"
     ]
    },
    {
     "name": "stderr",
     "output_type": "stream",
     "text": [
      "  3%|▎         | 111k/4.00M [36:14<23:12:06, 46.6it/s]"
     ]
    },
    {
     "name": "stdout",
     "output_type": "stream",
     "text": [
      "\n",
      "--------------------------------------------------------------\n",
      "policy/loss                                          |    0.07\n",
      "v/loss                                               |    4.59\n",
      "q/loss                                               |  131.12\n",
      "policy/grad                                          |    2.71\n",
      "v/grad                                               | 1030.52\n",
      "q/grad                                               | 1028.05\n",
      "Env/Reward/Episode (New)                             | -201.85\n",
      "Env/Length/Episode (New)                             | 1000.00\n",
      "Env/Reward/Episode (Last 50)                         | -199.73\n",
      "Env/Length/Episode (Last 50)                         | 1000.00\n",
      "--------------------------------------------------------------\n"
     ]
    },
    {
     "name": "stderr",
     "output_type": "stream",
     "text": [
      "  3%|▎         | 112k/4.00M [36:34<23:23:09, 46.2it/s]"
     ]
    },
    {
     "name": "stdout",
     "output_type": "stream",
     "text": [
      "\n",
      "--------------------------------------------------------------\n",
      "policy/loss                                          |    0.16\n",
      "v/loss                                               |    5.12\n",
      "q/loss                                               |  137.88\n",
      "policy/grad                                          |    2.82\n",
      "v/grad                                               | 1047.47\n",
      "q/grad                                               | 1038.13\n",
      "Env/Reward/Episode (New)                             | -210.14\n",
      "Env/Length/Episode (New)                             | 1000.00\n",
      "Env/Reward/Episode (Last 50)                         | -201.97\n",
      "Env/Length/Episode (Last 50)                         | 1000.00\n",
      "--------------------------------------------------------------\n"
     ]
    },
    {
     "name": "stderr",
     "output_type": "stream",
     "text": [
      "  3%|▎         | 113k/4.00M [36:54<22:27:18, 48.1it/s]"
     ]
    },
    {
     "name": "stdout",
     "output_type": "stream",
     "text": [
      "\n",
      "--------------------------------------------------------------\n",
      "policy/loss                                          |    0.16\n",
      "v/loss                                               |    4.98\n",
      "q/loss                                               |  124.16\n",
      "policy/grad                                          |    2.80\n",
      "v/grad                                               | 1021.03\n",
      "q/grad                                               |  948.51\n",
      "Env/Reward/Episode (New)                             | -196.94\n",
      "Env/Length/Episode (New)                             | 1000.00\n",
      "Env/Reward/Episode (Last 50)                         | -201.90\n",
      "Env/Length/Episode (Last 50)                         | 1000.00\n",
      "--------------------------------------------------------------\n"
     ]
    },
    {
     "name": "stderr",
     "output_type": "stream",
     "text": [
      "  3%|▎         | 114k/4.00M [37:15<22:43:39, 47.5it/s]"
     ]
    },
    {
     "name": "stdout",
     "output_type": "stream",
     "text": [
      "\n",
      "--------------------------------------------------------------\n",
      "policy/loss                                          |    0.11\n",
      "v/loss                                               |    4.54\n",
      "q/loss                                               |  131.19\n",
      "policy/grad                                          |    2.77\n",
      "v/grad                                               | 1024.90\n",
      "q/grad                                               | 1003.56\n",
      "Env/Reward/Episode (New)                             | -111.33\n",
      "Env/Length/Episode (New)                             | 1000.00\n",
      "Env/Reward/Episode (Last 50)                         | -199.88\n",
      "Env/Length/Episode (Last 50)                         | 1000.00\n",
      "--------------------------------------------------------------\n"
     ]
    },
    {
     "name": "stderr",
     "output_type": "stream",
     "text": [
      "  3%|▎         | 115k/4.00M [37:34<22:13:32, 48.6it/s]"
     ]
    },
    {
     "name": "stdout",
     "output_type": "stream",
     "text": [
      "\n",
      "--------------------------------------------------------------\n",
      "policy/loss                                          |    0.25\n",
      "v/loss                                               |    4.84\n",
      "q/loss                                               |  137.29\n",
      "policy/grad                                          |    2.96\n",
      "v/grad                                               | 1058.80\n",
      "q/grad                                               | 1037.11\n",
      "Env/Reward/Episode (New)                             | -185.68\n",
      "Env/Length/Episode (New)                             | 1000.00\n",
      "Env/Reward/Episode (Last 50)                         | -199.01\n",
      "Env/Length/Episode (Last 50)                         | 1000.00\n",
      "--------------------------------------------------------------\n"
     ]
    },
    {
     "name": "stderr",
     "output_type": "stream",
     "text": [
      "  3%|▎         | 116k/4.00M [37:55<22:27:07, 48.1it/s]"
     ]
    },
    {
     "name": "stdout",
     "output_type": "stream",
     "text": [
      "\n",
      "--------------------------------------------------------------\n",
      "policy/loss                                          |    0.18\n",
      "v/loss                                               |    5.43\n",
      "q/loss                                               |  138.38\n",
      "policy/grad                                          |    3.09\n",
      "v/grad                                               | 1140.60\n",
      "q/grad                                               | 1075.51\n",
      "Env/Reward/Episode (New)                             |  -27.56\n",
      "Env/Length/Episode (New)                             | 1000.00\n",
      "Env/Reward/Episode (Last 50)                         | -195.25\n",
      "Env/Length/Episode (Last 50)                         | 1000.00\n",
      "--------------------------------------------------------------\n"
     ]
    },
    {
     "name": "stderr",
     "output_type": "stream",
     "text": [
      "  3%|▎         | 117k/4.00M [38:15<24:31:19, 44.0it/s]"
     ]
    },
    {
     "name": "stdout",
     "output_type": "stream",
     "text": [
      "\n",
      "--------------------------------------------------------------\n",
      "policy/loss                                          |    0.10\n",
      "v/loss                                               |    4.48\n",
      "q/loss                                               |  123.37\n",
      "policy/grad                                          |    2.86\n",
      "v/grad                                               | 1010.06\n",
      "q/grad                                               |  966.42\n",
      "Env/Reward/Episode (New)                             |  -81.70\n",
      "Env/Length/Episode (New)                             | 1000.00\n",
      "Env/Reward/Episode (Last 50)                         | -192.08\n",
      "Env/Length/Episode (Last 50)                         | 1000.00\n",
      "--------------------------------------------------------------\n"
     ]
    },
    {
     "name": "stderr",
     "output_type": "stream",
     "text": [
      "  3%|▎         | 118k/4.00M [38:35<22:56:11, 47.0it/s]"
     ]
    },
    {
     "name": "stdout",
     "output_type": "stream",
     "text": [
      "\n",
      "--------------------------------------------------------------\n",
      "policy/loss                                          |    0.19\n",
      "v/loss                                               |    4.66\n",
      "q/loss                                               |  126.20\n",
      "policy/grad                                          |    2.96\n",
      "v/grad                                               | 1040.09\n",
      "q/grad                                               | 1019.26\n",
      "Env/Reward/Episode (New)                             | -233.17\n",
      "Env/Length/Episode (New)                             | 1000.00\n",
      "Env/Reward/Episode (Last 50)                         | -193.39\n",
      "Env/Length/Episode (Last 50)                         | 1000.00\n",
      "--------------------------------------------------------------\n"
     ]
    },
    {
     "name": "stderr",
     "output_type": "stream",
     "text": [
      "  3%|▎         | 119k/4.00M [38:56<23:44:00, 45.4it/s]"
     ]
    },
    {
     "name": "stdout",
     "output_type": "stream",
     "text": [
      "\n",
      "--------------------------------------------------------------\n",
      "policy/loss                                          |    0.15\n",
      "v/loss                                               |    5.00\n",
      "q/loss                                               |  131.82\n",
      "policy/grad                                          |    3.10\n",
      "v/grad                                               | 1062.61\n",
      "q/grad                                               | 1040.83\n",
      "Env/Reward/Episode (New)                             | -133.79\n",
      "Env/Length/Episode (New)                             | 1000.00\n",
      "Env/Reward/Episode (Last 50)                         | -191.90\n",
      "Env/Length/Episode (Last 50)                         | 1000.00\n",
      "--------------------------------------------------------------\n"
     ]
    },
    {
     "name": "stderr",
     "output_type": "stream",
     "text": [
      "  3%|▎         | 120k/4.00M [39:16<21:35:42, 49.9it/s]"
     ]
    },
    {
     "name": "stdout",
     "output_type": "stream",
     "text": [
      "\n",
      "--------------------------------------------------------------\n",
      "policy/loss                                          |    0.07\n",
      "v/loss                                               |    5.29\n",
      "q/loss                                               |  148.59\n",
      "policy/grad                                          |    3.21\n",
      "v/grad                                               | 1132.93\n",
      "q/grad                                               | 1078.60\n",
      "Env/Reward/Episode (New)                             | -217.11\n",
      "Env/Length/Episode (New)                             | 1000.00\n",
      "Env/Reward/Episode (Last 50)                         | -191.19\n",
      "Env/Length/Episode (Last 50)                         | 1000.00\n",
      "--------------------------------------------------------------\n"
     ]
    },
    {
     "name": "stderr",
     "output_type": "stream",
     "text": [
      "  3%|▎         | 121k/4.00M [39:36<21:04:25, 51.1it/s]"
     ]
    },
    {
     "name": "stdout",
     "output_type": "stream",
     "text": [
      "\n",
      "--------------------------------------------------------------\n",
      "policy/loss                                          |    0.20\n",
      "v/loss                                               |    4.69\n",
      "q/loss                                               |  134.82\n",
      "policy/grad                                          |    3.04\n",
      "v/grad                                               | 1063.20\n",
      "q/grad                                               | 1045.94\n",
      "Env/Reward/Episode (New)                             | -171.39\n",
      "Env/Length/Episode (New)                             | 1000.00\n",
      "Env/Reward/Episode (Last 50)                         | -191.54\n",
      "Env/Length/Episode (Last 50)                         | 1000.00\n",
      "--------------------------------------------------------------\n"
     ]
    },
    {
     "name": "stderr",
     "output_type": "stream",
     "text": [
      "  3%|▎         | 122k/4.00M [39:56<23:28:34, 45.9it/s]"
     ]
    },
    {
     "name": "stdout",
     "output_type": "stream",
     "text": [
      "\n",
      "--------------------------------------------------------------\n",
      "policy/loss                                          |    0.10\n",
      "v/loss                                               |    4.90\n",
      "q/loss                                               |  134.15\n",
      "policy/grad                                          |    3.06\n",
      "v/grad                                               | 1056.71\n",
      "q/grad                                               | 1000.61\n",
      "Env/Reward/Episode (New)                             | -208.76\n",
      "Env/Length/Episode (New)                             | 1000.00\n",
      "Env/Reward/Episode (Last 50)                         | -190.01\n",
      "Env/Length/Episode (Last 50)                         | 1000.00\n",
      "--------------------------------------------------------------\n"
     ]
    },
    {
     "name": "stderr",
     "output_type": "stream",
     "text": [
      "  3%|▎         | 123k/4.00M [40:17<23:38:23, 45.6it/s]"
     ]
    },
    {
     "name": "stdout",
     "output_type": "stream",
     "text": [
      "\n",
      "--------------------------------------------------------------\n",
      "policy/loss                                          |    0.12\n",
      "v/loss                                               |    5.43\n",
      "q/loss                                               |  137.81\n",
      "policy/grad                                          |    3.21\n",
      "v/grad                                               | 1143.13\n",
      "q/grad                                               | 1066.00\n",
      "Env/Reward/Episode (New)                             |  -51.59\n",
      "Env/Length/Episode (New)                             | 1000.00\n",
      "Env/Reward/Episode (Last 50)                         | -187.27\n",
      "Env/Length/Episode (Last 50)                         | 1000.00\n",
      "--------------------------------------------------------------\n"
     ]
    },
    {
     "name": "stderr",
     "output_type": "stream",
     "text": [
      "  3%|▎         | 124k/4.00M [40:37<22:22:57, 48.1it/s]"
     ]
    },
    {
     "name": "stdout",
     "output_type": "stream",
     "text": [
      "\n",
      "--------------------------------------------------------------\n",
      "policy/loss                                          |    0.14\n",
      "v/loss                                               |    4.62\n",
      "q/loss                                               |  136.36\n",
      "policy/grad                                          |    3.06\n",
      "v/grad                                               | 1056.24\n",
      "q/grad                                               | 1019.70\n",
      "Env/Reward/Episode (New)                             | -108.74\n",
      "Env/Length/Episode (New)                             | 1000.00\n",
      "Env/Reward/Episode (Last 50)                         | -185.60\n",
      "Env/Length/Episode (Last 50)                         | 1000.00\n",
      "--------------------------------------------------------------\n"
     ]
    },
    {
     "name": "stderr",
     "output_type": "stream",
     "text": [
      "  3%|▎         | 125k/4.00M [40:57<22:11:01, 48.5it/s]"
     ]
    },
    {
     "name": "stdout",
     "output_type": "stream",
     "text": [
      "\n",
      "--------------------------------------------------------------\n",
      "policy/loss                                          |    0.17\n",
      "v/loss                                               |    4.30\n",
      "q/loss                                               |  115.23\n",
      "policy/grad                                          |    2.93\n",
      "v/grad                                               |  993.79\n",
      "q/grad                                               |  904.59\n",
      "Env/Reward/Episode (New)                             | -177.07\n",
      "Env/Length/Episode (New)                             | 1000.00\n",
      "Env/Reward/Episode (Last 50)                         | -184.94\n",
      "Env/Length/Episode (Last 50)                         | 1000.00\n",
      "--------------------------------------------------------------\n"
     ]
    },
    {
     "name": "stderr",
     "output_type": "stream",
     "text": [
      "  3%|▎         | 126k/4.00M [41:16<21:33:35, 49.9it/s]"
     ]
    },
    {
     "name": "stdout",
     "output_type": "stream",
     "text": [
      "\n",
      "--------------------------------------------------------------\n",
      "policy/loss                                          |    0.17\n",
      "v/loss                                               |    4.95\n",
      "q/loss                                               |  122.92\n",
      "policy/grad                                          |    3.15\n",
      "v/grad                                               | 1080.89\n",
      "q/grad                                               |  980.08\n",
      "Env/Reward/Episode (New)                             |  -66.35\n",
      "Env/Length/Episode (New)                             | 1000.00\n",
      "Env/Reward/Episode (Last 50)                         | -182.46\n",
      "Env/Length/Episode (Last 50)                         | 1000.00\n",
      "--------------------------------------------------------------\n"
     ]
    },
    {
     "name": "stderr",
     "output_type": "stream",
     "text": [
      "  3%|▎         | 127k/4.00M [41:37<23:23:44, 46.0it/s]"
     ]
    },
    {
     "name": "stdout",
     "output_type": "stream",
     "text": [
      "\n",
      "--------------------------------------------------------------\n",
      "policy/loss                                          |    0.28\n",
      "v/loss                                               |    4.60\n",
      "q/loss                                               |  115.20\n",
      "policy/grad                                          |    3.11\n",
      "v/grad                                               | 1008.49\n",
      "q/grad                                               |  910.23\n",
      "Env/Reward/Episode (New)                             | -182.26\n",
      "Env/Length/Episode (New)                             | 1000.00\n",
      "Env/Reward/Episode (Last 50)                         | -180.67\n",
      "Env/Length/Episode (Last 50)                         | 1000.00\n",
      "--------------------------------------------------------------\n"
     ]
    },
    {
     "name": "stderr",
     "output_type": "stream",
     "text": [
      "  3%|▎         | 128k/4.00M [41:58<24:02:52, 44.7it/s]"
     ]
    },
    {
     "name": "stdout",
     "output_type": "stream",
     "text": [
      "\n",
      "--------------------------------------------------------------\n",
      "policy/loss                                          |    0.18\n",
      "v/loss                                               |    4.72\n",
      "q/loss                                               |  134.30\n",
      "policy/grad                                          |    3.04\n",
      "v/grad                                               | 1073.80\n",
      "q/grad                                               | 1033.11\n",
      "Env/Reward/Episode (New)                             |  -92.23\n",
      "Env/Length/Episode (New)                             | 1000.00\n",
      "Env/Reward/Episode (Last 50)                         | -177.80\n",
      "Env/Length/Episode (Last 50)                         | 1000.00\n",
      "--------------------------------------------------------------\n"
     ]
    },
    {
     "name": "stderr",
     "output_type": "stream",
     "text": [
      "  3%|▎         | 129k/4.00M [42:19<24:00:47, 44.8it/s]"
     ]
    },
    {
     "name": "stdout",
     "output_type": "stream",
     "text": [
      "\n",
      "--------------------------------------------------------------\n",
      "policy/loss                                          |    0.11\n",
      "v/loss                                               |    4.71\n",
      "q/loss                                               |  136.80\n",
      "policy/grad                                          |    3.16\n",
      "v/grad                                               | 1025.14\n",
      "q/grad                                               | 1029.48\n",
      "Env/Reward/Episode (New)                             | -197.11\n",
      "Env/Length/Episode (New)                             | 1000.00\n",
      "Env/Reward/Episode (Last 50)                         | -175.97\n",
      "Env/Length/Episode (Last 50)                         | 1000.00\n",
      "--------------------------------------------------------------\n"
     ]
    },
    {
     "name": "stderr",
     "output_type": "stream",
     "text": [
      "  3%|▎         | 130k/4.00M [42:40<22:00:50, 48.8it/s]"
     ]
    },
    {
     "name": "stdout",
     "output_type": "stream",
     "text": [
      "\n",
      "--------------------------------------------------------------\n",
      "policy/loss                                          |    0.21\n",
      "v/loss                                               |    4.13\n",
      "q/loss                                               |  139.09\n",
      "policy/grad                                          |    2.93\n",
      "v/grad                                               |  990.05\n",
      "q/grad                                               | 1007.75\n",
      "Env/Reward/Episode (New)                             | -159.45\n",
      "Env/Length/Episode (New)                             | 1000.00\n",
      "Env/Reward/Episode (Last 50)                         | -174.85\n",
      "Env/Length/Episode (Last 50)                         | 1000.00\n",
      "--------------------------------------------------------------\n"
     ]
    },
    {
     "name": "stderr",
     "output_type": "stream",
     "text": [
      "  3%|▎         | 131k/4.00M [42:51<25:20:46, 42.4it/s]"
     ]
    }
   ],
   "source": [
    "for batch in batcher.get_batches(MAX_STEPS, select_action_fn=policy_net.get_action):\n",
    "    # Manipulate batch, calculate adv, etc\n",
    "    batch = batch.to_tensor().concat_batch()\n",
    "    # Optimization step\n",
    "    soft_q_update(batch, soft_tau=0.005, logger=logger)\n",
    "    \n",
    "    # Write logs\n",
    "    if (batcher.num_steps) % 1000 == 0:\n",
    "        batcher.write_logs(logger)\n",
    "        logger.log(step=batcher.num_steps)"
   ]
  },
  {
   "cell_type": "code",
   "execution_count": null,
   "metadata": {},
   "outputs": [],
   "source": []
  }
 ],
 "metadata": {
  "kernelspec": {
   "display_name": "Python 3",
   "language": "python",
   "name": "python3"
  },
  "language_info": {
   "codemirror_mode": {
    "name": "ipython",
    "version": 3
   },
   "file_extension": ".py",
   "mimetype": "text/x-python",
   "name": "python",
   "nbconvert_exporter": "python",
   "pygments_lexer": "ipython3",
   "version": "3.6.5"
  }
 },
 "nbformat": 4,
 "nbformat_minor": 2
}
